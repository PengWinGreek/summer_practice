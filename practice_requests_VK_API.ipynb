{
  "nbformat": 4,
  "nbformat_minor": 0,
  "metadata": {
    "colab": {
      "provenance": []
    },
    "kernelspec": {
      "name": "python3",
      "display_name": "Python 3"
    },
    "language_info": {
      "name": "python"
    }
  },
  "cells": [
    {
      "cell_type": "code",
      "source": [
        "!python -m pip install requests"
      ],
      "metadata": {
        "colab": {
          "base_uri": "https://localhost:8080/"
        },
        "id": "YHs2q7BibDOi",
        "outputId": "54c4796c-4fcc-4ebc-fa57-f8ee245b408e"
      },
      "execution_count": 3,
      "outputs": [
        {
          "output_type": "stream",
          "name": "stdout",
          "text": [
            "Requirement already satisfied: requests in /usr/local/lib/python3.11/dist-packages (2.32.3)\n",
            "Requirement already satisfied: charset-normalizer<4,>=2 in /usr/local/lib/python3.11/dist-packages (from requests) (3.4.2)\n",
            "Requirement already satisfied: idna<4,>=2.5 in /usr/local/lib/python3.11/dist-packages (from requests) (3.10)\n",
            "Requirement already satisfied: urllib3<3,>=1.21.1 in /usr/local/lib/python3.11/dist-packages (from requests) (2.4.0)\n",
            "Requirement already satisfied: certifi>=2017.4.17 in /usr/local/lib/python3.11/dist-packages (from requests) (2025.6.15)\n"
          ]
        }
      ]
    },
    {
      "cell_type": "code",
      "source": [
        "import requests\n",
        "from tabulate import tabulate"
      ],
      "metadata": {
        "id": "9oZRNIvTgSen"
      },
      "execution_count": 4,
      "outputs": []
    },
    {
      "cell_type": "code",
      "source": [
        "user_id = 533542586\n",
        "client_id = 53824322\n",
        "access_token=\"8568aae18568aae18568aae1dd865de1a3885688568aae1ed0a1d4b31ce48cd6796003d\"\n",
        "v = 5.199"
      ],
      "metadata": {
        "id": "vdUkYCDmEwZz"
      },
      "execution_count": 131,
      "outputs": []
    },
    {
      "cell_type": "code",
      "source": [
        "params0 = {\n",
        "    \"v\" : v,\n",
        "    \"access_token\" : access_token\n",
        "}"
      ],
      "metadata": {
        "id": "zsUic6Lzo5rF"
      },
      "execution_count": 132,
      "outputs": []
    },
    {
      "cell_type": "markdown",
      "source": [
        "**Database**\n",
        "\n",
        "Методы этой секции предоставляют доступ к базе данных учебных заведений ВКонтакте. Доступ к данным является бесплатным, но требует авторизации с сервисным ключом доступа или ключом доступа пользователя.\n",
        "\n",
        "Количество запросов с одного IP-адреса может быть ограничено. Если требуется отправлять большое количество запросов, мы рекомендуем выполнять их с клиентской стороны с применением JSONP."
      ],
      "metadata": {
        "id": "x7VW9ygGiAaX"
      }
    },
    {
      "cell_type": "markdown",
      "source": [
        "*getChairs*\n",
        "\n",
        "Возвращает список кафедр университета по указанному факультету."
      ],
      "metadata": {
        "id": "e6WjuAUViVBs"
      }
    },
    {
      "cell_type": "code",
      "source": [
        "params = params0.copy()\n",
        "params.update({\"faculty_id\" : 10})\n",
        "\n",
        "r = requests.get(f\"https://api.vk.com/method/database.getChairs\",params=params)\n",
        "\n",
        "print(r.status_code)\n",
        "print(r.json())"
      ],
      "metadata": {
        "colab": {
          "base_uri": "https://localhost:8080/"
        },
        "id": "EtLUZy6tmVIY",
        "outputId": "f64abbbe-e784-40cf-d355-ae7237651c17"
      },
      "execution_count": 178,
      "outputs": [
        {
          "output_type": "stream",
          "name": "stdout",
          "text": [
            "200\n",
            "{'response': {'count': 16, 'items': [{'id': 128, 'title': ' Кафедра делового иностранного языка'}, {'id': 1812210, 'title': ' Кафедра государственного и муниципального управления'}, {'id': 1812211, 'title': ' Кафедра информационных технологий в менеджменте'}, {'id': 1812212, 'title': ' Кафедра маркетинга'}, {'id': 1812213, 'title': ' Кафедра операционного менеджмента'}, {'id': 1812214, 'title': ' Кафедра организационного поведения и управления персоналом'}, {'id': 1812215, 'title': ' Кафедра стратегического и международного менеджмента'}, {'id': 1812216, 'title': ' Кафедра финансов и учета'}, {'id': 2035452, 'title': 'Государственное и муниципальное управление'}, {'id': 2035453, 'title': 'Менеджмент'}, {'id': 2035454, 'title': 'Международный менеджмент'}, {'id': 2035455, 'title': 'Корпоративные финансы'}, {'id': 2035456, 'title': 'Государственный менеджмент'}, {'id': 2147673, 'title': 'Бизнес-аналитика и большие данные'}, {'id': 2167742, 'title': 'Логистика'}, {'id': 2240354, 'title': ' Кафедра иностранных языков в сфере менеджмента'}]}}\n"
          ]
        }
      ]
    },
    {
      "cell_type": "markdown",
      "source": [
        "*getCities*\n",
        "\n",
        "Возвращает список городов"
      ],
      "metadata": {
        "id": "dxsPgwx_j-rR"
      }
    },
    {
      "cell_type": "code",
      "source": [
        "params = params0.copy()\n",
        "params.update({\"q\" : \"Vladivosto\"})\n",
        "\n",
        "r = requests.get(f\"https://api.vk.com/method/database.getCities\",params=params)\n",
        "\n",
        "print(r.status_code)\n",
        "print(r.json())"
      ],
      "metadata": {
        "colab": {
          "base_uri": "https://localhost:8080/"
        },
        "id": "7EEW5KN4pgRx",
        "outputId": "b547124e-caf1-485b-c6d9-17f0076a5850"
      },
      "execution_count": 180,
      "outputs": [
        {
          "output_type": "stream",
          "name": "stdout",
          "text": [
            "200\n",
            "{'response': {'count': 2, 'items': [{'id': 37, 'title': 'Vladivostok'}, {'id': 1159352, 'title': 'Vladivostoxkoe Shosse 40 Km', 'area': 'khabarovsky Rayon', 'region': 'Khabarovsky Kray'}]}}\n"
          ]
        }
      ]
    },
    {
      "cell_type": "markdown",
      "source": [
        "*getCitiesById*\n",
        "\n",
        "Возвращает информацию о городах и регионах по их идентификаторам."
      ],
      "metadata": {
        "id": "SuE--cDeiZZq"
      }
    },
    {
      "cell_type": "code",
      "source": [
        "params = params0.copy()\n",
        "params.update({\"city_ids\" : 1})\n",
        "\n",
        "r = requests.get(f\"https://api.vk.com/method/database.getCitiesById\",params=params)\n",
        "\n",
        "print(r.status_code)\n",
        "print(r.json())"
      ],
      "metadata": {
        "colab": {
          "base_uri": "https://localhost:8080/"
        },
        "id": "lXKAi-bHsZzf",
        "outputId": "ef5b78e6-d61f-42b1-a385-6f5ce6a9ae71"
      },
      "execution_count": 182,
      "outputs": [
        {
          "output_type": "stream",
          "name": "stdout",
          "text": [
            "200\n",
            "{'response': [{'id': 1, 'title': 'Moscow'}]}\n"
          ]
        }
      ]
    },
    {
      "cell_type": "markdown",
      "source": [
        "*getCountries*\n",
        "\n",
        "Возвращает список стран."
      ],
      "metadata": {
        "id": "s_f6_GA9lwUw"
      }
    },
    {
      "cell_type": "code",
      "source": [
        "params = params0.copy()\n",
        "params.update({\"code\" : \"RU, BE, GR, BY\"})\n",
        "\n",
        "r = requests.get(f\"https://api.vk.com/method/database.getCountries\",params=params)\n",
        "\n",
        "print(r.status_code)\n",
        "print(r.json())"
      ],
      "metadata": {
        "colab": {
          "base_uri": "https://localhost:8080/"
        },
        "id": "1cHSJXobstDG",
        "outputId": "f03cfda8-6c67-4335-ff12-73ffae4112a7"
      },
      "execution_count": 183,
      "outputs": [
        {
          "output_type": "stream",
          "name": "stdout",
          "text": [
            "200\n",
            "{'response': {'count': 4, 'items': [{'id': 1, 'title': 'Russia'}, {'id': 36, 'title': 'Belgium'}, {'id': 71, 'title': 'Greece'}, {'id': 3, 'title': 'Belarus'}]}}\n"
          ]
        }
      ]
    },
    {
      "cell_type": "markdown",
      "source": [
        "*getCountriesById*\n",
        "\n",
        "Возвращает информацию о странах по их идентификаторам"
      ],
      "metadata": {
        "id": "kIWtIq4Ol5VE"
      }
    },
    {
      "cell_type": "code",
      "source": [
        "params = params0.copy()\n",
        "params.update({\"country_ids\" : \"1,10\"})\n",
        "\n",
        "r = requests.get(f\"https://api.vk.com/method/database.getCountriesById\",params=params)\n",
        "\n",
        "print(r.status_code)\n",
        "print(r.json())"
      ],
      "metadata": {
        "colab": {
          "base_uri": "https://localhost:8080/"
        },
        "id": "Y8u9Qya55IdB",
        "outputId": "c4b98c7f-e249-4118-cd6b-b0c0d08ef9dc"
      },
      "execution_count": 184,
      "outputs": [
        {
          "output_type": "stream",
          "name": "stdout",
          "text": [
            "200\n",
            "{'response': [{'id': 1, 'title': 'Russia'}, {'id': 10, 'title': 'Canada'}]}\n"
          ]
        }
      ]
    },
    {
      "cell_type": "markdown",
      "source": [
        "*getFaculties*\n",
        "\n",
        "Возвращает список факультетов."
      ],
      "metadata": {
        "id": "-jV8lPFGl93S"
      }
    },
    {
      "cell_type": "code",
      "source": [
        "params = params0.copy()\n",
        "params.update({\"university_id\" : \"1\"})\n",
        "\n",
        "r = requests.get(f\"https://api.vk.com/method/database.getFaculties\",params=params)\n",
        "\n",
        "print(r.status_code)\n",
        "print(r.json())"
      ],
      "metadata": {
        "colab": {
          "base_uri": "https://localhost:8080/"
        },
        "id": "CS4GgvrK5sl9",
        "outputId": "1f3c1a36-62b6-47aa-8b2b-5fca4c0683f7"
      },
      "execution_count": 185,
      "outputs": [
        {
          "output_type": "stream",
          "name": "stdout",
          "text": [
            "200\n",
            "{'response': {'count': 36, 'items': [{'id': 1, 'title': 'Биологический факультет'}, {'id': 2, 'title': 'Восточный факультет'}, {'id': 3, 'title': 'Институт наук о Земле'}, {'id': 5, 'title': 'Институт «Высшая школа журналистики и массовых коммуникаций» (Факультет журналистики)'}, {'id': 6, 'title': 'Институт истории (бывш. Исторический факультет)'}, {'id': 7, 'title': 'Математико-механический факультет'}, {'id': 8, 'title': 'Медицинский факультет'}, {'id': 9, 'title': 'Факультет международных отношений'}, {'id': 10, 'title': 'Институт «Высшая школа менеджмента» (бывш. Факультет менеджмента)'}, {'id': 11, 'title': 'Факультет прикладной математики – процессов управления'}, {'id': 12, 'title': 'Факультет психологии'}, {'id': 13, 'title': 'Факультет социологии'}, {'id': 14, 'title': 'Физический факультет'}, {'id': 15, 'title': 'Филологический факультет'}, {'id': 16, 'title': 'Институт философии (бывш. Философский факультет)'}, {'id': 17, 'title': 'Институт химии (бывш. Химический факультет)'}, {'id': 18, 'title': 'Экономический факультет'}, {'id': 19, 'title': 'Юридический факультет'}, {'id': 95041, 'title': 'Канадский колледж'}, {'id': 203896, 'title': 'Междисциплинарный центр дополнительного профессионального образования'}, {'id': 1735199, 'title': 'Факультет политологии'}, {'id': 2091927, 'title': 'Факультет стоматологии и медицинских технологий'}, {'id': 2091928, 'title': 'Факультет искусств'}, {'id': 2129210, 'title': 'Факультет свободных искусств и наук'}, {'id': 2139679, 'title': 'Факультет прикладных коммуникаций (Высшая школа журналистики и массовых коммуникаций)'}, {'id': 2212100, 'title': 'Кафедра физической культуры и спорта'}, {'id': 2218263, 'title': 'Факультет военного обучения'}, {'id': 2247989, 'title': 'Факультет иностранных языков'}, {'id': 2264776, 'title': 'Геологический факультет'}, {'id': 2264777, 'title': 'Факультет географии и геоэкологии'}, {'id': 2265723, 'title': 'Факультет математики и компьютерных наук'}, {'id': 2283684, 'title': 'Институт педагогики'}, {'id': 2285037, 'title': 'Институт когнитивных исследований'}, {'id': 2285038, 'title': 'Институт теологии'}, {'id': 2285039, 'title': 'Высшая школа безопасности труда'}, {'id': 2289115, 'title': 'Медицинский институт'}]}}\n"
          ]
        }
      ]
    },
    {
      "cell_type": "markdown",
      "source": [
        "*getMetroStations*\n",
        "\n",
        "Возвращает список станций метро."
      ],
      "metadata": {
        "id": "zjD5M-s7mAs5"
      }
    },
    {
      "cell_type": "code",
      "source": [
        "params = params0.copy()\n",
        "params.update({\"city_id\" : \"1\"})\n",
        "\n",
        "r = requests.get(f\"https://api.vk.com/method/database.getMetroStations\",params=params)\n",
        "\n",
        "print(r.status_code)\n",
        "print(r.json())"
      ],
      "metadata": {
        "colab": {
          "base_uri": "https://localhost:8080/"
        },
        "id": "tU8mPLUD5_QH",
        "outputId": "713089f8-a6a3-4ae1-f839-74282c051fc0"
      },
      "execution_count": 186,
      "outputs": [
        {
          "output_type": "stream",
          "name": "stdout",
          "text": [
            "200\n",
            "{'response': {'count': 438, 'items': [{'id': 14646, 'name': 'Авиамоторная (линия 11)'}, {'id': 1, 'name': 'Авиамоторная (линия 8)'}, {'id': 14741, 'name': 'Авиамоторная (МЦД-3)'}, {'id': 2, 'name': 'Автозаводская'}, {'id': 14551, 'name': 'Автозаводская (МЦК)'}, {'id': 3, 'name': 'Академическая'}, {'id': 4, 'name': 'Александровский сад'}, {'id': 5, 'name': 'Алексеевская'}, {'id': 3569, 'name': 'Алма-Атинская'}, {'id': 6, 'name': 'Алтуфьево'}, {'id': 14657, 'name': 'Аминьевская'}, {'id': 14781, 'name': 'Аминьевская (МЦД-4)'}, {'id': 14742, 'name': 'Андроновка (МЦД-3)'}, {'id': 14546, 'name': 'Андроновка (МЦК)'}, {'id': 14705, 'name': 'Аникеевка (МЦД-2)'}, {'id': 7, 'name': 'Аннино'}, {'id': 14782, 'name': 'Апрелевка (МЦД-4)'}, {'id': 8, 'name': 'Арбатская (линия 3)'}, {'id': 14579, 'name': 'Арбатская (линия 4)'}, {'id': 9, 'name': 'Аэропорт'}, {'id': 14670, 'name': 'Аэропорт Внуково'}, {'id': 10, 'name': 'Бабушкинская'}, {'id': 11, 'name': 'Багратионовская'}, {'id': 14696, 'name': 'Баковка (МЦД-1)'}, {'id': 14564, 'name': 'Балтийская (МЦК)'}, {'id': 12, 'name': 'Баррикадная'}, {'id': 13, 'name': 'Бауманская'}, {'id': 14, 'name': 'Беговая'}, {'id': 14681, 'name': 'Беговая (МЦД-1)'}, {'id': 14540, 'name': 'Белокаменная (МЦК)'}, {'id': 14628, 'name': 'Беломорская'}, {'id': 15, 'name': 'Белорусская (линия 2)'}, {'id': 14580, 'name': 'Белорусская (линия 5)'}, {'id': 14691, 'name': 'Белорусская (МЦД-1)'}, {'id': 14783, 'name': 'Белорусская (МЦД-4)'}, {'id': 16, 'name': 'Беляево'}, {'id': 14687, 'name': 'Бескудниково (МЦД-1)'}, {'id': 17, 'name': 'Бибирево'}, {'id': 18, 'name': 'Библиотека имени Ленина'}, {'id': 14735, 'name': 'Битца (МЦД-2)'}, {'id': 14522, 'name': 'Битцевский парк'}, {'id': 20, 'name': 'Борисово'}, {'id': 21, 'name': 'Боровицкая'}, {'id': 14623, 'name': 'Боровское шоссе'}, {'id': 22, 'name': 'Ботанический сад'}, {'id': 14538, 'name': 'Ботанический сад (МЦК)'}, {'id': 23, 'name': 'Братиславская'}, {'id': 24, 'name': 'Бульвар Адмирала Ушакова'}, {'id': 25, 'name': 'Бульвар Дмитрия Донского'}, {'id': 145, 'name': 'Бульвар Рокоссовского'}, {'id': 14541, 'name': 'Бульвар Рокоссовского (МЦК)'}, {'id': 26, 'name': 'Бунинская аллея'}, {'id': 14736, 'name': 'Бутово (МЦД-2)'}, {'id': 14568, 'name': 'Бутырская'}, {'id': 14743, 'name': 'Быково (МЦД-3)'}, {'id': 27, 'name': 'Варшавская'}, {'id': 28, 'name': 'ВДНХ'}, {'id': 14553, 'name': 'Верхние Котлы (МЦК)'}, {'id': 14581, 'name': 'Верхние Лихоборы'}, {'id': 14744, 'name': 'Вешняки (МЦД-3)'}, {'id': 29, 'name': 'Владыкино'}, {'id': 14537, 'name': 'Владыкино (МЦК)'}, {'id': 14784, 'name': 'Внуково (МЦД-4)'}, {'id': 14700, 'name': 'Водники (МЦД-1)'}, {'id': 30, 'name': 'Водный стадион'}, {'id': 31, 'name': 'Войковская'}, {'id': 32, 'name': 'Волгоградский проспект'}, {'id': 33, 'name': 'Волжская'}, {'id': 34, 'name': 'Волоколамская'}, {'id': 14710, 'name': 'Волоколамская (МЦД-2)'}, {'id': 35, 'name': 'Воробьёвы горы'}, {'id': 14661, 'name': 'Воронцовская'}, {'id': 38, 'name': 'Выставочная'}, {'id': 36, 'name': 'Выставочный центр (монорельс)'}, {'id': 37, 'name': 'Выхино'}, {'id': 14745, 'name': 'Выхино (МЦД-3)'}, {'id': 14624, 'name': 'Говорово'}, {'id': 14716, 'name': 'Гражданская (МЦД-2)'}, {'id': 14746, 'name': 'Грачёвская (МЦД-3)'}, {'id': 14656, 'name': 'Давыдково'}, {'id': 14689, 'name': 'Дегунино (МЦД-1)'}, {'id': 4520, 'name': 'Деловой центр'}, {'id': 14675, 'name': 'Деловой центр (линия 8А)'}, {'id': 14558, 'name': 'Деловой центр (МЦК)'}, {'id': 14728, 'name': 'Депо (МЦД-2)'}, {'id': 39, 'name': 'Динамо'}, {'id': 40, 'name': 'Дмитровская'}, {'id': 14717, 'name': 'Дмитровская (МЦД-2)'}, {'id': 41, 'name': 'Добрынинская'}, {'id': 14699, 'name': 'Долгопрудная (МЦД-1)'}, {'id': 42, 'name': 'Домодедовская'}, {'id': 2247, 'name': 'Достоевская'}, {'id': 43, 'name': 'Дубровка'}, {'id': 14550, 'name': 'Дубровка (МЦК)'}, {'id': 14747, 'name': 'Есенинская (МЦД-3)'}, {'id': 14785, 'name': 'Железнодорожная (МЦД-4)'}, {'id': 4511, 'name': 'Жулебино'}, {'id': 14748, 'name': 'Зеленоград-Крюково (МЦД-3)'}, {'id': 14552, 'name': 'ЗИЛ (МЦК)'}, {'id': 14561, 'name': 'Зорге (МЦК)'}]}}\n"
          ]
        }
      ]
    },
    {
      "cell_type": "markdown",
      "source": [
        "*getMetroStationsById*\n",
        "\n",
        "Возвращает информацию об одной или нескольких станциях метро по их идентификаторам."
      ],
      "metadata": {
        "id": "Ta4yAzX0mEDD"
      }
    },
    {
      "cell_type": "code",
      "source": [
        "params = params0.copy()\n",
        "params.update({\"station_ids\" : \"1, 2\"})\n",
        "\n",
        "r = requests.get(f\"https://api.vk.com/method/database.getMetroStationsById\",params=params)\n",
        "\n",
        "print(r.status_code)\n",
        "print(r.json())"
      ],
      "metadata": {
        "colab": {
          "base_uri": "https://localhost:8080/"
        },
        "id": "zwW8vByT6RDm",
        "outputId": "54d71760-02a6-4fda-a710-f3d0ac6f0c23"
      },
      "execution_count": 187,
      "outputs": [
        {
          "output_type": "stream",
          "name": "stdout",
          "text": [
            "200\n",
            "{'response': [{'id': 1, 'name': 'Авиамоторная (линия 8)', 'city_id': 1, 'color': 'fccc0a'}, {'id': 2, 'name': 'Автозаводская', 'city_id': 1, 'color': '00933c'}]}\n"
          ]
        }
      ]
    },
    {
      "cell_type": "markdown",
      "source": [
        "*getRegions*\n",
        "\n",
        "Возвращает список регионов."
      ],
      "metadata": {
        "id": "DMPL1FazmJUT"
      }
    },
    {
      "cell_type": "code",
      "source": [
        "params = params0.copy()\n",
        "params.update({\"q\" : \"Вол\"})\n",
        "\n",
        "r = requests.get(f\"https://api.vk.com/method/database.getRegions\",params=params)\n",
        "\n",
        "print(r.status_code)\n",
        "print(r.json())"
      ],
      "metadata": {
        "colab": {
          "base_uri": "https://localhost:8080/"
        },
        "id": "xtO2b0QA6gnS",
        "outputId": "4df3be38-7a95-42ec-ce0f-7ffbdfd63b88"
      },
      "execution_count": 188,
      "outputs": [
        {
          "output_type": "stream",
          "name": "stdout",
          "text": [
            "200\n",
            "{'response': {'count': 3, 'items': [{'id': 1014032, 'title': 'Волгоградская область'}, {'id': 1015702, 'title': 'Вологодская область'}, {'id': 1501549, 'title': 'Волынская область'}]}}\n"
          ]
        }
      ]
    },
    {
      "cell_type": "markdown",
      "source": [
        "*getSchoolClasses*\n",
        "\n",
        "Возвращает список классов, характерных для школ определенной страны."
      ],
      "metadata": {
        "id": "Ve22a9VymL7x"
      }
    },
    {
      "cell_type": "code",
      "source": [
        "params = params0.copy()\n",
        "params.update({\"country_id\" : \"1\"})\n",
        "\n",
        "r = requests.get(f\"https://api.vk.com/method/database.getSchoolClasses\",params=params)\n",
        "\n",
        "print(r.status_code)\n",
        "print(r.json())"
      ],
      "metadata": {
        "colab": {
          "base_uri": "https://localhost:8080/"
        },
        "id": "FAK5Qe4C7IQS",
        "outputId": "74d19e8a-45d0-42d9-86f7-d87e7ceb43bf"
      },
      "execution_count": 190,
      "outputs": [
        {
          "output_type": "stream",
          "name": "stdout",
          "text": [
            "200\n",
            "{'response': [{'id': 1, 'title': 'а'}, {'id': 2, 'title': 'б'}, {'id': 3, 'title': 'в'}, {'id': 4, 'title': 'г'}, {'id': 5, 'title': 'д'}, {'id': 6, 'title': 'е'}, {'id': 7, 'title': 'ж'}, {'id': 8, 'title': 'з'}, {'id': 9, 'title': 'и'}, {'id': 10, 'title': 'к'}, {'id': 11, 'title': 'л'}, {'id': 12, 'title': 'м'}, {'id': 13, 'title': 'н'}, {'id': 14, 'title': 'о'}, {'id': 15, 'title': 'п'}, {'id': 16, 'title': 'р'}, {'id': 17, 'title': 'с'}, {'id': 18, 'title': 'т'}, {'id': 19, 'title': 'у'}, {'id': 20, 'title': 'ф'}, {'id': 21, 'title': 'х'}, {'id': 22, 'title': 'ц'}, {'id': 23, 'title': 'ч'}, {'id': 24, 'title': 'ш'}, {'id': 25, 'title': 'щ'}, {'id': 26, 'title': 'ы'}, {'id': 27, 'title': 'э'}, {'id': 28, 'title': 'ю'}, {'id': 29, 'title': 'я'}, {'id': 30, 'title': 'а2'}, {'id': 31, 'title': 'б2'}, {'id': 32, 'title': 'в2'}, {'id': 33, 'title': 'г2'}, {'id': 34, 'title': 'д2'}, {'id': 35, 'title': 'е2'}, {'id': 36, 'title': 'ж2'}, {'id': 37, 'title': 'з2'}, {'id': 38, 'title': 'и2'}, {'id': 39, 'title': 'к2'}, {'id': 40, 'title': 'л2'}, {'id': 41, 'title': 'м2'}, {'id': 42, 'title': 'н2'}, {'id': 43, 'title': 'о2'}, {'id': 44, 'title': 'п2'}, {'id': 45, 'title': 'р2'}, {'id': 46, 'title': 'с2'}, {'id': 47, 'title': 'т2'}, {'id': 48, 'title': 'у2'}, {'id': 49, 'title': 'ф2'}, {'id': 50, 'title': 'х2'}, {'id': 51, 'title': 'ц2'}, {'id': 52, 'title': 'ч2'}, {'id': 53, 'title': 'ш2'}, {'id': 54, 'title': 'щ2'}, {'id': 55, 'title': 'ы2'}, {'id': 56, 'title': 'э2'}, {'id': 57, 'title': 'ю2'}, {'id': 58, 'title': 'я2'}, {'id': 59, 'title': 'а3'}, {'id': 60, 'title': 'б3'}, {'id': 61, 'title': 'в3'}, {'id': 62, 'title': 'г3'}, {'id': 63, 'title': 'д3'}, {'id': 64, 'title': 'е3'}, {'id': 65, 'title': 'ж3'}, {'id': 66, 'title': 'з3'}, {'id': 67, 'title': 'и3'}, {'id': 68, 'title': 'к3'}, {'id': 69, 'title': 'л3'}, {'id': 70, 'title': 'м3'}, {'id': 71, 'title': 'н3'}, {'id': 72, 'title': 'о3'}, {'id': 73, 'title': 'п3'}, {'id': 74, 'title': 'р3'}, {'id': 75, 'title': 'с3'}, {'id': 76, 'title': 'т3'}, {'id': 77, 'title': 'у3'}, {'id': 78, 'title': 'ф3'}, {'id': 79, 'title': 'х3'}, {'id': 80, 'title': 'ц3'}, {'id': 81, 'title': 'ч3'}, {'id': 82, 'title': 'ш3'}, {'id': 83, 'title': 'щ3'}, {'id': 84, 'title': 'ы3'}, {'id': 85, 'title': 'э3'}, {'id': 86, 'title': 'ю3'}, {'id': 87, 'title': 'я3'}, {'id': 88, 'title': '1'}, {'id': 89, 'title': '2'}, {'id': 90, 'title': '3'}, {'id': 91, 'title': '4'}, {'id': 92, 'title': '5'}, {'id': 93, 'title': '6'}, {'id': 94, 'title': '7'}, {'id': 95, 'title': '8'}, {'id': 96, 'title': '9'}, {'id': 97, 'title': '10'}, {'id': 98, 'title': '11'}, {'id': 99, 'title': '12'}, {'id': 100, 'title': '13'}, {'id': 101, 'title': '14'}, {'id': 102, 'title': '15'}]}\n"
          ]
        }
      ]
    },
    {
      "cell_type": "markdown",
      "source": [
        "*getSchools*\n",
        "\n",
        "Возвращает список школ."
      ],
      "metadata": {
        "id": "CreJxq9nmOHb"
      }
    },
    {
      "cell_type": "code",
      "source": [
        "params = params0.copy()\n",
        "params.update({\"city_id\" : 1, \"q\" : \"Лицей №1793\"})\n",
        "\n",
        "r = requests.get(f\"https://api.vk.com/method/database.getSchools\",params=params)\n",
        "\n",
        "print(r.status_code)\n",
        "print(r.json())"
      ],
      "metadata": {
        "colab": {
          "base_uri": "https://localhost:8080/"
        },
        "id": "LGTAQKDt7ph2",
        "outputId": "740afb8b-d275-4b28-cabe-fbdf65ed6da9"
      },
      "execution_count": 191,
      "outputs": [
        {
          "output_type": "stream",
          "name": "stdout",
          "text": [
            "200\n",
            "{'response': {'count': 1, 'items': [{'id': 3075, 'title': 'Лицей № 1793 «Жулебино»'}]}}\n"
          ]
        }
      ]
    },
    {
      "cell_type": "markdown",
      "source": [
        "*getUniversities*\n",
        "\n",
        "Возвращает список высших учебных заведений."
      ],
      "metadata": {
        "id": "sSObEmBTmPfL"
      }
    },
    {
      "cell_type": "code",
      "source": [
        "params = params0.copy()\n",
        "params.update({\"city_id\" : 1, \"q\" : \"НИТУ\"})\n",
        "\n",
        "r = requests.get(f\"https://api.vk.com/method/database.getUniversities\",params=params)\n",
        "\n",
        "print(r.status_code)\n",
        "print(r.json())"
      ],
      "metadata": {
        "colab": {
          "base_uri": "https://localhost:8080/"
        },
        "id": "8RkeMRaI7-Bh",
        "outputId": "3f5f5bb2-b7c9-4c12-d711-4acc82e9c3f1"
      },
      "execution_count": 192,
      "outputs": [
        {
          "output_type": "stream",
          "name": "stdout",
          "text": [
            "200\n",
            "{'response': {'count': 1, 'items': [{'id': 239, 'title': 'НИТУ МИСИС'}]}}\n"
          ]
        }
      ]
    },
    {
      "cell_type": "markdown",
      "source": [
        "**Пример совместного использования**"
      ],
      "metadata": {
        "id": "9NXCrYM88DbF"
      }
    },
    {
      "cell_type": "code",
      "source": [
        "code = input(\"Введите код страны (RU) или нескольких стран через запятую (RU, BY):  \")\n",
        "q_country = input(\"Введите название города: \")\n",
        "q_university = input(\"Введите название института: \")\n",
        "\n",
        "params_countries = params0.copy()\n",
        "params_cities = params0.copy()\n",
        "params_universities = params0.copy()\n",
        "params_faculties = params0.copy()\n",
        "params_chairs = params0.copy()\n",
        "\n",
        "#Находим ID страны\n",
        "params_countries.update({\"code\" : code})\n",
        "country_id = requests.get(\"https://api.vk.com/method/database.getCountries\",params=params_countries).json()[\"response\"][\"items\"][0][\"id\"]\n",
        "\n",
        "#Находим ID города\n",
        "params_cities.update({\"q\" : q_country})\n",
        "city_id = requests.get(\"https://api.vk.com/method/database.getCities\",params=params_cities).json()[\"response\"][\"items\"][0][\"id\"]\n",
        "\n",
        "#Находим ID университета\n",
        "params_universities.update({\"country_id\" : country_id, \"city_id\" : city_id, \"q\" : q_university})\n",
        "university_id = requests.get(\"https://api.vk.com/method/database.getUniversities\",params=params_universities).json()[\"response\"][\"items\"][0][\"id\"]\n",
        "\n",
        "#Список факультетов\n",
        "params_faculties.update({\"university_id\" : university_id})\n",
        "faculties = requests.get(\"https://api.vk.com/method/database.getFaculties\",params = params_faculties).json()[\"response\"][\"items\"]\n",
        "faculties = [list(i.values()) for i in faculties]\n",
        "headers_faculties = [\"ID\", \"Факультет\"]\n",
        "print(\"\\n\",tabulate(faculties,headers=headers_faculties),\"\\n\")\n",
        "\n",
        "#Выбираем нужный факультет\n",
        "faculty_id = int(input(\"Введите ID факультета из списка: \"))\n",
        "\n",
        "#Список кафедр\n",
        "params_chairs.update({\"faculty_id\" : faculty_id})\n",
        "chairs = requests.get(\"https://api.vk.com/method/database.getChairs\",params=params_chairs).json()[\"response\"][\"items\"]\n",
        "chairs = [list(i.values()) for i in chairs]\n",
        "headers_chairs = [\"ID\", \"Кафедра\"]\n",
        "print(\"\\n\", tabulate(chairs,headers=headers_chairs),\"\\n\")"
      ],
      "metadata": {
        "colab": {
          "base_uri": "https://localhost:8080/"
        },
        "id": "EFez5ul38Jls",
        "outputId": "9b220012-c08c-49b0-d603-e32a9a5de4a0"
      },
      "execution_count": 243,
      "outputs": [
        {
          "output_type": "stream",
          "name": "stdout",
          "text": [
            "Введите код страны (RU) или нескольких стран через запятую (RU, BY):  RU\n",
            "Введите название города: МОсква\n",
            "Введите название института: НИТУ\n",
            "\n",
            "      ID  Факультет\n",
            "-------  ---------------------------------------------------------------------------------\n",
            "    954  Институт экономики и информатики\n",
            "    955  Институт металлургии, экологии и качества\n",
            "    958  Институт технологии материалов\n",
            "    959  Институт физико-химии материалов\n",
            "  56619  Институт базового образования\n",
            " 772769  Институт информационных бизнес-систем (ИИБС)\n",
            "2067886  Институт информационных технологий и автоматизированных систем управления (ИТАСУ)\n",
            "2088413  Институт экотехнологий и инжиниринга (ЭкоТех)\n",
            "2091812  Институт экономики и управления промышленными предприятиями (ЭУПП)\n",
            "2122518  Институт новых материалов и нанотехнологий (ИНМиН)\n",
            "2186047  Институт непрерывного образования (ИНОБР)\n",
            "2186048  Институт качества высшего образования (ИКВО)\n",
            "2218145  Горный институт\n",
            "2273034  Институт информационных технологий и компьютерных наук (ИТКН)\n",
            "2283293  Факультет полупроводниковых материалов и приборов\n",
            "2285071  Институт новых материалов\n",
            "2285072  Институт технологий\n",
            "2285073  Институт компьютерных наук\n",
            "2285074  Институт экономики и управления\n",
            "2286457  Цифровая кафедра\n",
            "2288657  Институт биомедицинской инженерии\n",
            "2288658  Институт физики и квантовой инженерии\n",
            "2288659  Институт развития \n",
            "\n",
            "Введите ID факультета из списка: 2285073  \n",
            "\n",
            "      ID  Кафедра\n",
            "-------  ------------------------------------\n",
            "2240565  Бизнес-информатика\n",
            "2240566  Информатика и вычислительная техника\n",
            "2240567  Информационные системы и технологии\n",
            "2240568  Прикладная информатика\n",
            "2240569  Прикладная математика\n"
          ]
        }
      ]
    },
    {
      "cell_type": "markdown",
      "source": [
        "**Friends**"
      ],
      "metadata": {
        "id": "Z-vTHQv1SqJ5"
      }
    },
    {
      "cell_type": "markdown",
      "source": [
        "\n",
        "\n",
        "*get*\n",
        "\n",
        "Возвращает список идентификаторов друзей пользователя или расширенную информацию о друзьях пользователя (при использовании параметра fields)."
      ],
      "metadata": {
        "id": "oz2zb0miKacd"
      }
    },
    {
      "cell_type": "code",
      "source": [
        "params = params0.copy()\n",
        "params.update({\"user_id\" : user_id, \"order\" : \"name\", \"fields\" : [\"bdate\"]})\n",
        "\n",
        "r = requests.get(f\"https://api.vk.com/method/friends.get\",params=params)\n",
        "\n",
        "print(r.status_code)\n",
        "print(r.json())"
      ],
      "metadata": {
        "colab": {
          "base_uri": "https://localhost:8080/"
        },
        "id": "MWSfgiHNFJRU",
        "outputId": "1392caa0-0dfc-496d-fb6e-fe7341400cea"
      },
      "execution_count": 265,
      "outputs": [
        {
          "output_type": "stream",
          "name": "stdout",
          "text": [
            "200\n",
            "{'id': 241080371, 'bdate': '24.12', 'track_code': 'fddcf634obHec2kTn9UZPYy8-zjR3GzU6xQAeFFx6YcrvzVeXfvA0rocYhef0RE0v2gI-4KveM3nA24cIi4', 'first_name': 'Abira', 'last_name': 'Kutaish', 'can_access_closed': False, 'is_closed': True} {'id': 253894555, 'bdate': '30.12', 'track_code': '2f7bbb1aZM96G6QA4zdydI3ODnQHBmu7B6idD6--fYeQyWtdsZ0FrE9xrlHlanJ0uRj5t1R1f6ILv_Nr3OE', 'first_name': 'Aida', 'last_name': 'Yunusova', 'can_access_closed': True, 'is_closed': False} {'id': 701272429, 'bdate': '18.12.2006', 'track_code': 'a82e5087XFCmbEsdtFpGRxFjTEFMkQuXj6GPvb8Uk4j-mel8Zk09M59dTxrhWRBFJ7K3gh_iH46DtuHZzEs', 'first_name': 'Akhmed', 'last_name': 'Allakhverdiev', 'can_access_closed': True, 'is_closed': False} {'id': 182207215, 'track_code': '35592dc48kSEzCgEvra78l72yhV-aSd9KhqxO1bPEkrIsevrfDuTJ-akf1_t4e71byQ91i0aM2QmDd9fJZA', 'first_name': 'Alexander', 'last_name': 'Egorov', 'can_access_closed': True, 'is_closed': False} {'id': 83245729, 'bdate': '20.3.1995', 'track_code': 'c70395b3SRoJ0i6ELSK1G4q65vA1C0LNFJTfhvMALvfMfezAO4goeWrodIR6I7BNvGAiWGprT9oP8bHigA', 'first_name': 'Alexander', 'last_name': 'Esin', 'can_access_closed': True, 'is_closed': False} {'id': 406630718, 'bdate': '27.11', 'track_code': '6c744aadMJJEaqH3zwy6rMvfCvxHhteAaMTaD61Mw8SHleMnYI1R8SUB8PeaDuv--Q3wPxT1w5lk07Rr3hM', 'first_name': 'Alexander', 'last_name': 'Fyodorov', 'can_access_closed': True, 'is_closed': False} {'id': 346557108, 'bdate': '20.6', 'track_code': '95a728f48UBpjtwg3wDG5QB9M0Zs1sj57JpFYsVp50A_GEgzWG6QI16zjSzZVJK3N67JhT-l3ODgjSsGtjY', 'first_name': 'Alexander', 'last_name': 'Goncharov', 'can_access_closed': False, 'is_closed': True} {'id': 421190460, 'bdate': '15.11.1923', 'track_code': '585d6a4bEFQN24R6n6H0nx0Uw8slR9IDb57xTWWDIRz6Q6aQn-JxNz_hiX2b9f3MLsExCHY0xhpjiZ8pFtw', 'first_name': 'Alexander', 'last_name': 'Inferno', 'can_access_closed': True, 'is_closed': False} {'id': 263628358, 'track_code': '04bcac1bEGbfR2hCR0xO82aS6Ak5rXP4I4PnCkLmExOpIBCtGwFxBessORcRSU3yXUQSymreZ-EvlIluMbk', 'first_name': 'Alexander', 'last_name': 'Ivannikov', 'can_access_closed': True, 'is_closed': False} {'id': 579998284, 'bdate': '29.4.2004', 'track_code': 'ec8a4335xX5QYMGtSZCRb8vAcEWmmqkhfcCm3WpbxkjcGIg9c_6kHWRfzKNAzMtu8BuGhvXpvThx18i5GQQ', 'first_name': 'Alexander', 'last_name': 'Nechyaev', 'can_access_closed': True, 'is_closed': False} {'id': 456391951, 'bdate': '19.11.2003', 'track_code': '41bc49b3v3oH6G3fL9Ed3KRhmt6rB9E_NDsNiF37TYvKsndF_0beGWPWYYwp1x3Vl7dpHfh0xSY4LGPsLqQ', 'first_name': 'Alexander', 'last_name': 'Vasilenko', 'can_access_closed': True, 'is_closed': False} {'id': 518536164, 'bdate': '11.3.2005', 'track_code': '28d1783fzXh-wTO8B3ZigGPJeQTup1BN2Rt7z9FdrZSdFY5DaO6sG0mrP-4LdmOCWRyPx73URFTVDBWrogI', 'first_name': 'Alexandr', 'last_name': 'Nikolenko', 'can_access_closed': True, 'is_closed': False} {'id': 545493830, 'bdate': '16.6.2000', 'track_code': '384c16c4D77Jg-GjlYNftbIRjXTNa3PEnLWjrFD6cUoV1VBAN1Zu3fmytqKRg1GxhsF_t54YZ92Qos3II6U', 'first_name': 'Alexey', 'last_name': 'Artemov', 'can_access_closed': True, 'is_closed': False} {'id': 424129452, 'bdate': '2.11.2004', 'track_code': 'a90f7b27vCEX3X4WazgwnFoZ-u9s4bHGo4zHwVg4KNGlKdndnXfdQnbjehBoamSTY88KLD-Spd-vm6mlK2c', 'first_name': 'Alexey', 'last_name': 'Danilychev', 'can_access_closed': True, 'is_closed': False} {'id': 235994676, 'bdate': '25.7.2000', 'track_code': 'e5f96e4cgUrFQTIlxhIoiuN3gRVs56JsJ_VjrxwVnYE7OBXymF3gKfZ-NXSXHSiP26N11j-UtnUr4g3Lb0o', 'first_name': 'Alexey', 'last_name': 'Ippolitov', 'can_access_closed': True, 'is_closed': False} {'id': 348793910, 'bdate': '6.1.2006', 'track_code': '47523a56t9MzsKjFn7veLkoP_xS001Lqb-ILN69-zfacNz-vgUnWsAfarcLF74QvfN0N1-egRvNj9WVT3CE', 'first_name': 'Alexey', 'last_name': 'Kochubey', 'can_access_closed': True, 'is_closed': False} {'id': 636487571, 'bdate': '5.11.2003', 'track_code': 'c51f2875mYeHv7OuA2nKTMtigGlrolBYlL2g0rLHFE8y1GUMvw345LeHvP8EactN7rZzqjjRREGYqs62wZg', 'first_name': 'Alexey', 'last_name': 'Kotlyarov', 'can_access_closed': True, 'is_closed': False} {'id': 254434146, 'bdate': '2.7.2003', 'track_code': '77ae8a5bF8-nBBtLPBAioLpJAL3Cwv605y0sKLFhwwuha73Cbex2rJNsSEs5FnKlmp70fpGx6q3rOkJMwj4', 'first_name': 'Alexey', 'last_name': 'Larin', 'can_access_closed': False, 'is_closed': True} {'id': 208810521, 'bdate': '11.3', 'track_code': 'be2df0bcuABNb0bu4ERvYINKe3K2mZD9-bIDh6-OPC2FBAPHMJvZYy9UELvvSW5gpJuIseXqhOT1pW3j3NE', 'first_name': 'Alina', 'last_name': 'Kozlova', 'can_access_closed': True, 'is_closed': False} {'id': 294048197, 'bdate': '12.6', 'track_code': '82fb86cebvsCZPNnbFsN7xE6kKvQAvnKf34DWSV_3OHMJLrr9WsPmDNc-G47CQvuM-BlaINx7dNzaW09ViA', 'first_name': 'Alina', 'last_name': 'Lvova', 'can_access_closed': True, 'is_closed': False} {'id': 150845510, 'bdate': '17.3', 'track_code': '2f711fecrOWrjhBNL4B1sKNSdI_6jYvxZAv4Sjs4VUot19E2z-7NhsqwRUkujHW1goCGTKn-n-hoHJYuSGc', 'first_name': 'Alisa', 'last_name': 'Levina', 'can_access_closed': True, 'is_closed': False} {'id': 8541962, 'bdate': '26.9', 'track_code': '8826e09cU3Glz-wCP7PL95boBDvKvFFwN2q5tmzbV4WneWE7CogyEsCt5wBu5MH1sQ2rn4bFUnBeD9fS', 'first_name': 'Anastasia', 'last_name': 'Khindiadi', 'can_access_closed': False, 'is_closed': True} {'id': 367107057, 'track_code': 'ef25f1c84zZHboeS78MISm3OLO7B4pEXAokVrT-_NplNY3n47WWCVSJSgZG9xQscSxjZLZKRhQ4OnnvJTOA', 'first_name': 'Anatoly', 'last_name': 'Kram', 'can_access_closed': False, 'is_closed': True} {'id': 605764271, 'bdate': '6.2.2003', 'track_code': 'e631abc63zEDyRTkMteqLQlMt4quJWjLAgbhTyj3zCkOm177Zi6-Ujb2RuVkhaR8LJhESf1WfNIOEY8rW6g', 'first_name': 'Andrey', 'last_name': 'Derevyanko', 'can_access_closed': False, 'is_closed': True} {'id': 221661019, 'bdate': '11.5', 'track_code': '8ee00159Nr9UaoIDRNU0Y1aJrdYH09PfRKP8xM_u2hXHaSQJ1M1X3GIHiFdB1zY0fltWFVSgx8ZItJKgvLE', 'first_name': 'Andrey', 'last_name': 'Gerasichkin', 'can_access_closed': False, 'is_closed': True} {'id': 6873430, 'bdate': '8.5.1995', 'track_code': '31870088jF9NrbSsK-8BxV8pLsHropiwDbZHMZJWSdGJdEWQwr_tPHSTs6J_6QSTdsyBZafbm7Bk0ylV', 'first_name': 'Andrey', 'last_name': 'Ivanov', 'can_access_closed': False, 'is_closed': True} {'id': 232759183, 'bdate': '27.12', 'track_code': '16c846a1ggc3bdVYZRE5CJzE6kkUBH08YaPtgIZdERsXQ18aI-vjZAJVg1NjH24Itx8bikd3aSVttIPk9QI', 'first_name': 'Andrey', 'last_name': 'Marinov', 'can_access_closed': False, 'is_closed': True} {'id': 420189120, 'bdate': '14.10.2003', 'track_code': '2680c825l3vdxNCD6UhgXKmMTXzn9ouRvAH2EMEKFFxQAAPs77T2GO-s3YG_QW1Vg12_v7SFn4iwFph0slU', 'first_name': 'Andrey', 'last_name': 'Savenko', 'can_access_closed': True, 'is_closed': False} {'id': 235439622, 'bdate': '18.7', 'track_code': '999e2ef8lp8mPuSvp4wqK1OG9AxuwmkD5U36UnN1_DRy_MqCnDX3_B4O5K_2iygqeVcEzz2xfRrpWpQ2ACo', 'first_name': 'Andrey', 'last_name': 'Semenov', 'can_access_closed': False, 'is_closed': True} {'id': 365929724, 'track_code': '56167ffbNu9gp5oXtkVBPkCbjB6SHhoFxwZLrPLENO8-A4VhR9pXjFjLnhDlTEVjakp63cFtDhzLESXIgZs', 'first_name': 'Angelina', 'last_name': 'Kiushkina', 'can_access_closed': True, 'is_closed': False} {'id': 229610131, 'bdate': '15.11.2003', 'track_code': '354da871uEC2MzdcNwRWJZg4Nzu2i-TsbEgoj8bWuhKndvP8DV3ZI4ReNFg7B1Qkt-jE-OX48PVgX0brtYk', 'first_name': 'Angelina', 'last_name': 'Kocherga', 'can_access_closed': True, 'is_closed': False} {'id': 342907393, 'bdate': '1.6', 'track_code': 'c24d004bvPg3a6zBn8X2dEfu70DmMPucJa9KOI3wWZ62C-hDYZXdmwYBq8Kcy6N3azQeg7VD74UpuCRc_q8', 'first_name': 'Anna', 'last_name': 'Gorbunova', 'can_access_closed': True, 'is_closed': False} {'id': 370934232, 'bdate': '3.8', 'track_code': 'c5f4502fBjq0VJq8hrtMSHr8O-eL1x4bxaBHMOADWy9PGT5TVL1nWYFpyrjVsRxLaCzLJNikCgLJtylUk1w', 'first_name': 'Anna', 'last_name': 'Lopatina', 'can_access_closed': False, 'is_closed': True} {'id': 477924553, 'bdate': '20.9.2004', 'track_code': 'c3792b2by89Yvdmrnhbfa4JeudhqD7_ZTgH4vNqrqO-xZtiPbS-qrDvQj6_ITo5plohIGzl8q8BCFpbYqfQ', 'first_name': 'Anton', 'last_name': 'Gladchenko', 'can_access_closed': True, 'is_closed': False} {'id': 524897960, 'bdate': '20.7', 'track_code': '9d397419JZiFtcaiqQuF01NVmK6z18EDNZaMskTauRbphSqS9oRE-7yPxaj-BIyCSIBqbeCk1Ro5geLWN4U', 'first_name': 'Anton', 'last_name': 'Mironov', 'can_access_closed': True, 'is_closed': False} {'id': 196748615, 'bdate': '9.1', 'track_code': '9b081921xI28mL8HzL8Rh-7dzOhiJLNvtSXMQz-w9UhMvFYKrcCl7o7wv1zL7BKI-w87KzFXp3a5MqInTO8', 'first_name': 'Anzhelika', 'last_name': 'Daudysh', 'can_access_closed': True, 'is_closed': False} {'id': 374337625, 'bdate': '1.9', 'track_code': 'cfdd2f053pHJZZcP72Ik7LcYXw_cg0NH0ac1iX9BXqHVLuEEXRe_8v9VlwHtaSXppcmozI_wV17dsFvtDB4', 'first_name': 'Arina', 'last_name': 'Tutukina', 'can_access_closed': True, 'is_closed': False} {'id': 189753042, 'bdate': '7.6.2003', 'track_code': '05480a14xDBI_TibB-XRiWUTr9n_LGUnsm7Yc8sNUxm679FrKGOlUynEbMZY6tyMcMRfGqxfcT6-ebYXuFI', 'first_name': 'Arsen', 'last_name': 'Sargsyan', 'can_access_closed': False, 'is_closed': True} {'id': 326304852, 'bdate': '22.3', 'track_code': '9ecbabb42gCcr7snE0W4kSIBJcu523QDRf9ksPihE5XxKdYoBvS7Y6WQ7SAWQezDPNfVCOqoYBpJ6ArUi_4', 'first_name': 'Arseny', 'last_name': 'Astakhov', 'can_access_closed': True, 'is_closed': False} {'id': 333055003, 'bdate': '5.2.2002', 'track_code': '89e9c0c9Q4QeJT1SUMueEeKUasZK46zcv87XgRJaYP8Ol8fMpZYi5y8dOwQCmcgV9UebBRmQuMWz2bnlYQU', 'first_name': 'Arseny', 'last_name': 'Dashkevich', 'can_access_closed': True, 'is_closed': False} {'id': 605996905, 'track_code': '5985dcfai7HbXeWMDURvpRTXfThXJoAklYe_JhIpmQMabHmsMxnq0uk244QOH2GrBQSK-wRVlD2ZkNFCYXY', 'first_name': 'Artem', 'last_name': 'Aleshin', 'can_access_closed': False, 'is_closed': True} {'id': 8892069, 'bdate': '23.4', 'track_code': '376bf737x-Ec6YBa8cSHHUes_Wf-s7WJny_eEoL4Apjz5CP3a2imgi-LjQauztJPV0lSw7LKton2SrB2', 'first_name': 'Artem', 'last_name': 'Kudryashov', 'can_access_closed': True, 'is_closed': False} {'id': 438298257, 'bdate': '14.3.2003', 'track_code': 'ce338a49H2i_zH4Ujm3zIKf5aj9kPi4Z56nc0spCqKkJzC1HwH9-C9nzf0XSPP58vy-f_DdNOgDrvrK2uR0', 'first_name': 'Artem', 'last_name': 'Ostryanin', 'can_access_closed': False, 'is_closed': True} {'id': 186100001, 'bdate': '30.1', 'track_code': '06c1c5051BVansRxedXKnD-0alkG7kHn7XxsOCIEsUFVsuLo9mW1dmimwHl-0JuVJGeZmlWdVf7hawJcUVs', 'first_name': 'Artur', 'last_name': 'Aga-Mirzaev', 'can_access_closed': True, 'is_closed': False} {'id': 217685976, 'bdate': '20.1', 'track_code': '04b8aefbyIJsXCs9eULLIGRcuhDNP0j8Vv0T0GQWPphKmFgmx6up4VpjfzUqEMohcYhO055MXOVa6n20F0k', 'first_name': 'Artur', 'last_name': 'Kostanyan', 'can_access_closed': False, 'is_closed': True} {'id': 222091971, 'track_code': 'b48128a9fRa3LBkCYIEe27JSlId08O1hzICCkDT3rSpK9zfRizUcddERHVI0ghOMpoZnRCeD-XjAl-z0R6g', 'first_name': 'Artyom', 'last_name': 'Sivkin', 'can_access_closed': True, 'is_closed': False} {'id': 163234344, 'track_code': 'bdfc6b0bXJSfEr8gold28mer77dnV_Kpo_WBArwC0YC5nfelsfI996YqvCXwVSP2enwZdDQk5rCv4u9mz10', 'first_name': 'Artyom', 'last_name': 'Sokolov', 'can_access_closed': True, 'is_closed': False} {'id': 241616094, 'bdate': '19.5.2003', 'track_code': 'ae3fc384R7blyvbNC-I5Z7nQ0C45gLRwQKAd5P_xKM65BnzAoFom1dGh9Jxe5z1gpgom7WrzoGlMt3OAjK4', 'first_name': 'Artyom', 'last_name': 'Tsykanov', 'can_access_closed': True, 'is_closed': False} {'id': 276529251, 'bdate': '4.2.2004', 'track_code': '8197dcd73mXeMO3vRa9-8Qli6GgQyWPBCpsk17ECw4HAWpGr33e_Buhc57xG_H35C7Qbq0O6d9gGjEqzwl0', 'first_name': 'Artyom', 'last_name': 'Tyagelsky', 'can_access_closed': True, 'is_closed': False} {'id': 453324741, 'bdate': '24.6.2005', 'track_code': '171d5274lgaO4vMgfxwMbqQJzUsrHXICyOCn2iVNR52kHx9jDaj3Zejc8SwtGFpoot4-iHhuZhvE98m-VhI', 'first_name': 'Asim', 'last_name': 'Tagiev', 'can_access_closed': True, 'is_closed': False} {'id': 467705070, 'bdate': '28.5', 'track_code': '9e87b606pwiKyeB70xuyXoSh375lFueoCrMhfZ-tel4M0XaTCPTGa-715CnTTeQIhnUtfTZl87EGpE8Z7PI', 'first_name': 'Asyuta', 'last_name': 'Rasulova', 'can_access_closed': True, 'is_closed': False} {'id': 613496698, 'bdate': '9.5.2005', 'track_code': '824e7e97UNHo106UrnEzagStFkD7MaDqi1Je6_Il2NaFM9YOrsAxsornTJetdT45AXfsg6hCtPOHRTCPgXo', 'first_name': 'Ayka', 'last_name': 'Guseynova', 'can_access_closed': True, 'is_closed': False} {'id': 408432852, 'bdate': '30.3', 'track_code': '34ec70eaq95Y8LgGCbBMOAByGhtcCa5cuTPOXggS6UjiZOSHyzLKvW7Muw8Ct05sDKTq2A96ukW1JKA6e00', 'first_name': 'Bessonov', 'last_name': 'Alexander', 'can_access_closed': True, 'is_closed': False} {'id': 323719685, 'bdate': '20.11', 'track_code': '13cf32acCmVIsQgEJPrK6uVhNC-hlG00akpEA0vbJ5b6yGjrTiRrBnyJDwYj_Mrk5rrD7PLneS1mXSpnOIQ', 'first_name': 'Bobur', 'last_name': 'Sultonov', 'can_access_closed': False, 'is_closed': True} {'id': 445617423, 'bdate': '14.2', 'track_code': 'd116f211G3uK9V7fimgnbjC4wXll3xs_6EEPf52euqKz32TVXj56GLnLDoiOanM6MmkwujasDybkVmEb7sE', 'first_name': 'Bogdan', 'last_name': 'Zolotov', 'can_access_closed': True, 'is_closed': False} {'id': 287093332, 'bdate': '20.11.1999', 'track_code': 'bea7363eJhd4o0GGQz6SIA2IEYNeNRuCc0wsNEEHOHJJLT33F0pHdB3OQ99DPZ12CVjhQA1GD5t_W0JQMlg', 'first_name': 'Boris', 'last_name': 'Martynov', 'can_access_closed': False, 'is_closed': True} {'id': 575577749, 'bdate': '13.3', 'track_code': '981b349dgPhKiRhW5JoEtyHGpI-OxmaJjcyKgaTQy0Zy6oDTLhfhmyzhHFC3zgO5LhFfTN21cpCB2-Tl148', 'first_name': 'Cyber', 'last_name': 'Flex', 'can_access_closed': True, 'is_closed': False} {'id': 135702759, 'bdate': '20.7', 'track_code': '50bee7d6Y14_lLIBl2_7yYE49tEsxKRhiCbIs8Gol-X6bTBOapoCPQj45wGQYK6Yj-4NEn-3sHiEMabXsvc', 'first_name': 'Daniel', 'last_name': 'Ryabitsev', 'can_access_closed': False, 'is_closed': True} {'id': 536451318, 'track_code': '6b8e2bb8p61P3UrM3f1aqsPNlzu_jpCP_yWnhwYZAjDgjAWRtG_Gziq3Hcrd-1qqyh9t-Oz9hJbzMsnjdUY', 'first_name': 'Daniil', 'last_name': 'Evremov', 'can_access_closed': True, 'is_closed': False} {'id': 285861513, 'bdate': '16.12', 'track_code': '4901b0f68Nh4xAlDD6yySt3ri7uGwHYqPUnlxNvkduB0tk-3wRSRu07-WEtfrbJC0zl6eNWzYjMxXougqLs', 'first_name': 'Daniil', 'last_name': 'Puzanov', 'can_access_closed': True, 'is_closed': False} {'id': 381923008, 'bdate': '16.11', 'track_code': '758ae531eMH-XWMDK682xR_2ItWppXgkYHgD3qVlefKl5snQfTIZop02Y1oj9DWSEyXYFvrWbD1sb2261jo', 'first_name': 'Daniil', 'last_name': 'Razumov', 'can_access_closed': False, 'is_closed': True} {'id': 489598467, 'bdate': '26.11.2005', 'track_code': 'c7b725d3lV8hLHL4SucW6L0rXeG8ySia72dK9TO2PW1Gjd-Xd-v0PEUQf_VE5BextP6oIu-6PIPjcCSRQOk', 'first_name': 'Daniil', 'last_name': 'Sibirsky', 'can_access_closed': True, 'is_closed': False} {'id': 218736880, 'track_code': 'ee3789666n4xK1rSVapRUFiPvQYi0RXcUWT6D-foaYGVAvBWL7-LHVBHWYYM-AYEXlRPxXGiAcVdc5RrlLc', 'first_name': 'Danil', 'last_name': 'Bezborodov', 'can_access_closed': True, 'is_closed': False} {'id': 295835025, 'track_code': '311baa9827jCRHZrRJQx0OHTtuR1wVO25SjEWKFJ_w5wtVnAxWm62_opJzZAlDOG7gJBJyayR6_pP6o80hY', 'first_name': 'Danila', 'last_name': 'Andreevich', 'can_access_closed': False, 'is_closed': True} {'id': 708518631, 'bdate': '26.6.2004', 'track_code': 'e6167d71QgAMeKxdhwbJRWGg4TMwQB4s6CaSRuJdK-LjmPwCyo0jYzsT_12NV5tOF3AS8GMzCjXkMfwikQI', 'first_name': 'Danila', 'last_name': 'Osipov', 'can_access_closed': False, 'is_closed': True} {'id': 238156850, 'bdate': '26.6', 'track_code': '7a1a2b20PWH73lL0U4cOVHMai3Q0PXgAi6j_VQtZnqAoI6YgvDFcAp22A_cI1A1RCsx5t2dObBmHv5ExeAY', 'first_name': 'Danila', 'last_name': 'Osipov', 'can_access_closed': True, 'is_closed': False} {'id': 251116606, 'bdate': '13.4', 'track_code': 'fc6d08c8ycc_sIEqJeNIfR39DT3CHOCrrnaBQE16_Qzkdun2gVOopAuMgX534kt-aS75_pFv9LKiYe8kPiU', 'first_name': 'Danya', 'last_name': 'Shangin', 'can_access_closed': True, 'is_closed': False} {'id': 550375189, 'track_code': '277a18b4rT4vt3nzXoDn4Djp2NcE7vkx1_hBzqkAWcj15davFV_MXUyGfvFdirLsSjIjFFed7Sjb7y-q2l8', 'first_name': 'Danya', 'last_name': 'Vaytarmor', 'can_access_closed': True, 'is_closed': False} {'id': 507015337, 'bdate': '8.5.1906', 'track_code': '60e218e8PjxoVCQyOaCmVjTjIaXPZPOQaiWMKN1gGQcXP83LRShfX11vJTo2oK4GQzPUZpwX54lmMuJMrj8', 'first_name': 'Danya', 'last_name': 'Zhizhin', 'can_access_closed': False, 'is_closed': True} {'id': 555692448, 'bdate': '9.2.2005', 'track_code': '7fae6d0dOAzI5xYbMO8lbbBWsylr-v7kIMOgRd4G_Dg9HjUwnZVZb_CPFR1m731owYFJ6jiJ6v0s1M4hrVk', 'first_name': 'Darya', 'last_name': 'Avdeeva', 'can_access_closed': True, 'is_closed': False} {'id': 216033591, 'bdate': '9.5', 'track_code': 'afccbe52txuDf394Q7kk5Dr_yp0l1Tix5zJLXiAMKAF1V5aIfNnWeLMVfntDsCK1SSU5XnamLKjrJSU6U1M', 'first_name': 'Darya', 'last_name': 'Kondratyeva', 'can_access_closed': True, 'is_closed': False} {'id': 185538568, 'bdate': '30.9', 'track_code': '2596e715V1SADPp4PgvO5GT2Ksm_M-F5IM64cSd5OUfpwKfCovM2N-Q2qXQ8WMq9FiPQCuxA9WAs2dYVVCY', 'first_name': 'Darya', 'last_name': 'Osipkina', 'can_access_closed': True, 'is_closed': False} {'id': 232828827, 'bdate': '17.3', 'track_code': '8f64d058ByK068LsWds6U_iH4Ql8Flm3W7H09eeQhc7kcSEmwF1mQYTSyehb1DxYiFYUyi9lTa5XppqRlM8', 'first_name': 'David', 'last_name': 'Perov', 'can_access_closed': True, 'is_closed': False} {'id': 672559717, 'track_code': '29579594sqlBMv4YJB70OusEKOvOpG7KE32AEI44lNjDZzOcqXHTynYPqRYnGfNhldbdKJ3XetMfau50_Wc', 'first_name': 'David', 'last_name': 'Shavlidze', 'can_access_closed': True, 'is_closed': False} {'id': 187510324, 'bdate': '12.8', 'track_code': '33600de2OObWSqm4XxPivc9wkCibIl2L_Uz0YnNSFqmafWnrUthZheYgqeIKHrW0tqFm68hRSZLxW5oGAA0', 'first_name': 'Den-Ik', 'last_name': 'Kok-Kin', 'can_access_closed': True, 'is_closed': False} {'id': 282210746, 'bdate': '10.7.2003', 'track_code': '020dea7azPVFF4FOVx59JF73TDWEBlLseKbi_0R53SbVYxL1Uz2tlicvgU9UHCpwIiC49td1RvV0sYybNyY', 'first_name': 'Denis', 'last_name': 'Melnikov', 'can_access_closed': True, 'is_closed': False} {'id': 290009706, 'bdate': '3.2', 'track_code': '28aa27c7j0Kk3J9zB3WWFLxRO3TCokDdWsknTu09x2U9rsD4QNbuIZHmz3wAcJAUx4LPt5HRVMRW3kkqnmI', 'first_name': 'Dima', 'last_name': 'Vlayku', 'can_access_closed': True, 'is_closed': False} {'id': 190627860, 'bdate': '22.11', 'track_code': 'b09c13e5onP6Z3fmhey0TWE_lNkjMZI3eyOd1oKFxNt1o5HGx63DEM1adO-AuLFOFOpmGnBChi53NPOy8do', 'first_name': 'Dmitry', 'last_name': 'Shvalyov', 'can_access_closed': True, 'is_closed': False} {'id': 269896883, 'bdate': '23.12', 'track_code': '878717cbzXmeA90rByKCVoiU6B5yEZjCRDqf-Vtuv82HfIRN6MqsGvszji0OfIsG_k8Z3SFijNtILfGdKDE', 'first_name': 'Dmitry', 'last_name': 'Svilo', 'can_access_closed': True, 'is_closed': False} {'id': 194855031, 'bdate': '27.9', 'track_code': '6f9a423cRcTamaVPk78_7hdTtjeRjN9z7i2Cxho7k4sTrMKYjookp-ug8hDGsm-_aINF9ML_y2riOuyiaWQ', 'first_name': 'Dmitry', 'last_name': 'Tyulyaev', 'can_access_closed': True, 'is_closed': False} {'id': 199878259, 'bdate': '17.8', 'track_code': '3192581fK1sGjYAuZcfbq3XF0MfNAVrA4yJVY7fy67DwIZhHk7pKOGez1yJrydyhFxMrBJ5yTtnvNTsHxK0', 'first_name': 'Dmitry', 'last_name': 'Varochka', 'can_access_closed': True, 'is_closed': False} {'id': 461097899, 'bdate': '5.8.1975', 'track_code': 'eb2a2ddf2RlTkd66GeKqRoQ_oKFJp-fLgOPmJdnszoYc38U98ZK4emCrjLVK5_FC7eVbYhrU89KM9IhBqrM', 'first_name': 'Dzhabbar', 'last_name': 'Takhmazov', 'can_access_closed': False, 'is_closed': True} {'id': 301182551, 'bdate': '27.4.2003', 'track_code': '5d77f780bUkMp3FAFoXoLsaPGkNOnGir0BhsoVAmWF_2rum2-vcMKj7PdEIUgLQqoVnpgB3vfLLcDwLFI3k', 'first_name': 'Egor', 'last_name': 'Burov', 'can_access_closed': True, 'is_closed': False} {'id': 412739593, 'bdate': '5.1.2004', 'track_code': '91526c44FI7Pb4WGh93pxQ9cWus2hP9oPHgWkFaIC_gP26P6LEh17f9T1ION0r7JaYarKGX363Ewb3j0Jdc', 'first_name': 'Egor', 'last_name': 'Eponeshnikov', 'can_access_closed': True, 'is_closed': False} {'id': 169242131, 'bdate': '20.8.1999', 'track_code': '6c58abf8XNLsc2oaMeEhTzbbhtR_685D6KuErPQQ2naLx1GcujM9sdxJORg-tSQcUwt1FyyY2lrkvOrIh08', 'first_name': 'Egor', 'last_name': 'Kopylov', 'can_access_closed': False, 'is_closed': True} {'id': 519674777, 'bdate': '7.12', 'track_code': 'adb62ef2HYvRyWJmF_dcJVPimgZPVLkQS7SIJcaqdYQXeOAAtaN86OL5ZWUZ8AohMTZvxRwnrQlHo-ZBtfU', 'first_name': 'Egor', 'last_name': 'R', 'can_access_closed': True, 'is_closed': False} {'id': 238864041, 'track_code': 'e90f0662CBHUMmJW-dnK5arh8SXVZAfYls11lrYqi14n9EOqZy9pcrJeYVKi153izDYC5oYXE8Ga2hvyxXU', 'first_name': 'Egor', 'last_name': 'Tarasov', 'can_access_closed': True, 'is_closed': False} {'id': 332140848, 'bdate': '5.7', 'track_code': '7daf0b62fqRK1WTfCZOxJOkLjkzFowvl4YOhjTnTapAaIklM8WIfx3joNN5alOByhtx0j5bQH_ztlM_pSow', 'first_name': 'Ekaterina', 'last_name': 'Melnik', 'can_access_closed': True, 'is_closed': False} {'id': 444857296, 'bdate': '21.4.2003', 'track_code': 'e88d63ea7ITAB_7n1SpVJVhsTB5hbQBVapyJeMbm3lDJfPW724KN5_E4q-eHJVJ3Mra43TIeFExmi-cctbk', 'first_name': 'Ekaterina', 'last_name': 'Serebryakova', 'can_access_closed': True, 'is_closed': False} {'id': 270008399, 'bdate': '23.1.1917', 'track_code': '43b1c571EC1hKryFgU3xqyP32ahTf1ikWmfEeYHdOfK2P-bysHlxTgAS7IeET_mkSS0iawAMTL1WcKod8oI', 'first_name': 'Emerald', 'last_name': 'Magomedov', 'can_access_closed': True, 'is_closed': False} {'id': 254251139, 'bdate': '30.9.2005', 'track_code': '9b631aa9IMnvaU-lx63zfKH6r2AHlMqWDW6fK4A4kBg-AAKS1lNBqotXG6nA-fd4yipUo1Tn3o8BefFP82c', 'first_name': 'Emil', 'last_name': 'Kto', 'can_access_closed': True, 'is_closed': False} {'id': 532684476, 'bdate': '22.11', 'track_code': '14844cabSGIJPpyoBaUz0nlxAaPQ5F8LzmAt95CRGO-f9Vuu3ugpATlUnfoPoDmCFqX1YIOXSxLCd0OT484', 'first_name': 'Erik', 'last_name': 'Madatyan', 'can_access_closed': False, 'is_closed': True} {'id': 428901289, 'bdate': '13.11', 'track_code': '170c6fa3VQ_UKt33STZYboTPeLuiVmWPGO-5xMMu8NOkZHvCyrw0bLBA3PwTOg1v6hSDePElcZYU-NegsHE', 'first_name': 'Esnat', 'last_name': 'Gagulia', 'can_access_closed': False, 'is_closed': True} {'id': 4638761, 'bdate': '12.2.1987', 'track_code': 'cf42100bNQO3PtNd48s7-Tctm0-Jkn-1VXI8Ejk6laVZft6kaP5UYIQA1Q6zwGn6W8g068XrfLU8F1J2', 'first_name': 'Evgeny', 'last_name': 'Afonchenko', 'can_access_closed': False, 'is_closed': True} {'id': 439103472, 'bdate': '9.2.2005', 'track_code': '14093f1du265jD_HZr2RDmTDExHNm2UMZLC5HXome2UFYqOZdXzaDdzgPsU86JENDhfj0p7ocRVop9d5CXk', 'first_name': 'Evgeny', 'last_name': 'Sokolov', 'can_access_closed': True, 'is_closed': False} {'id': 420247128, 'track_code': '16c6dcdfIaTQyw3hZJ7Rh8DCjkWziY9Z_lr71jZb9pcb9xwDZsBAx-P6Dec2nNPRrhN0huD6m0DyTZWyRQQ', 'first_name': 'Fuad', 'last_name': 'Adigezalov', 'can_access_closed': False, 'is_closed': True} {'id': 492849469, 'bdate': '23.11.2001', 'track_code': '762cc0b66fj-nng541IXM8yLZwUa44BI_mcGBLF3mCv2lBzU4J6Im5yhfGXoCRc9mF6cxkmQlFHycGhgwig', 'first_name': 'Gagloev', 'last_name': 'Glebka', 'can_access_closed': False, 'is_closed': True} {'id': 425323554, 'bdate': '20.4.1953', 'track_code': '6a431ec4kqoJBG24b1PMmdM-DDHiAXNt5EeWELPfXVrWS9q_Sl3zyT9vbbo4WMmYh-j68rFyZ3ToUPh0wIA', 'first_name': 'Galina', 'last_name': 'Beskonchina', 'can_access_closed': True, 'is_closed': False} {'id': 260044105, 'bdate': '3.5', 'track_code': '8975b9d29YD2sltPViSXt-hgT33ZsRzN_H1RleRZWRQp3Loy3oqU48aOWhoHIZHlu7O4vorCCNTwaj_xlwY', 'first_name': 'Georgy', 'last_name': 'Panov', 'can_access_closed': True, 'is_closed': False} {'id': 332764577, 'bdate': '5.11', 'track_code': 'f467feefYFBUoZt_w_xDlaEnNX9VmJxz-WNCI_H084bVnbqD_PwBM2CRmH6U8xaW9_PAvAbriGr1dCxHgqs', 'first_name': 'Gosha', 'last_name': 'Gavryushov', 'can_access_closed': False, 'is_closed': True} {'id': 278730506, 'bdate': '18.11.2002', 'track_code': 'd8008f9fPxeCHEV7pMBvv1EtjLmu1aSYfv62tSEdSur4KSaIFhtedOYsR3Suxmy7AP54ev2msIFy6djRUkI', 'first_name': 'Grigory', 'last_name': 'Pogodin-Alexeev', 'can_access_closed': True, 'is_closed': False} {'id': 287825153, 'bdate': '27.10.1909', 'track_code': '904fd527d8nzg2NYraUaCUmmJVVhMCwhZ-4vEaQO-h4BggHo38kWqpfpaAWjqhkKHXDUljJDODhr-UF111E', 'first_name': 'Grisha', 'last_name': 'Fomin', 'can_access_closed': False, 'is_closed': True} {'id': 382389217, 'bdate': '16.5.1995', 'track_code': '603607813HJl_0MS3uegILYMD5Ef4yfyKNJLCFrU-Z3-ea8J-ay9EQaQSR-N4q944t76UkyQM-skxSVsKYs', 'first_name': 'Ibragim', 'last_name': 'Ismoilov', 'can_access_closed': False, 'is_closed': True} {'id': 543485652, 'bdate': '6.8', 'track_code': '2a198064jz67kTMobgKQpb5ZxGX6xVJCIWD-3bEfw4gOob-mBoTuXdmhZS08Bsug7480pqm2Rlstd5C5wkA', 'first_name': 'Idgar', 'last_name': 'Mushailov', 'can_access_closed': False, 'is_closed': True} {'id': 265258795, 'track_code': '8cbba6eepjeCrjPR4Hn2Wg0qnOuNG-hZ9xjW0fVV3gNl29EuZ0XHVOOQYNS3L_JXUvBrKN5o_ED7D7i1hgo', 'first_name': 'Igor', 'last_name': 'Khvatov', 'can_access_closed': False, 'is_closed': True} {'id': 324649487, 'bdate': '7.12.2004', 'track_code': '966db38br27tlXiSb5E9i9vWUj5qr946j3a5lmaR8Yc4PmFMRDnODd79fJU_xjjXhg2n_TncyiODYdfyFc4', 'first_name': 'Ilgar', 'last_name': 'Teymurov', 'can_access_closed': True, 'is_closed': False} {'id': 56330223, 'bdate': '26.2', 'track_code': '8b0fe14f7BoEpV0YC7gsNiF8svQ6k1fRVpVSiplnvPy8sbB7CbmNeWaYUUhcuiVmeax2XGXzWsZN8Dzu6g', 'first_name': 'Ilya', 'last_name': 'Bobrovsky', 'can_access_closed': True, 'is_closed': False} {'id': 274617838, 'bdate': '27.8.1903', 'track_code': 'a1ed4832lFS-j-oDmTbRrTB7nM8vD0jVWau1og5bSz_bl6ayhWT1N4jgvgecZdSvY6tmDHx8XMxVvNvGfQQ', 'first_name': 'Ilya', 'last_name': 'Novikov', 'can_access_closed': True, 'is_closed': False} {'id': 498355160, 'bdate': '17.7.2004', 'track_code': '3d5968416SJN9OZzb9VjYJPlfebex0QvUZVUUYsjOkcpMSo569aIQSjE4nxmhWJkzjCPJY20UDZdgjo1-Hw', 'first_name': 'Ilya', 'last_name': 'Paramonov', 'can_access_closed': True, 'is_closed': False} {'id': 325982224, 'bdate': '9.1.2004', 'track_code': '57ac8fc6Ho3iOYAf5vsKW25Nca3oKZF4ZrgRuQgVUuOHE9CVuTd_7oRWgE638QFbMZyHbrtahWFqr3_de0o', 'first_name': 'Ilya', 'last_name': 'Skobelev', 'can_access_closed': True, 'is_closed': False} {'id': 244465788, 'bdate': '21.7', 'track_code': '2392d590XnWd712PRgwDg2W-FXMzdifPRee8fZuXptjXCq_6Sq8_FqSHXYIUWgCPPGXvsGAFM9ZJ8NIZ6Mg', 'first_name': 'Ilya', 'last_name': 'Sulimenko', 'can_access_closed': True, 'is_closed': False} {'id': 43692670, 'bdate': '8.11', 'track_code': '587c6cc4w9DEts60PecF_bjB5yFZESJTXYAcQ8c0LEHOUuJ6Ahyis6CHm7dovQT_4BIjiQZxL0RG5XIntA', 'first_name': 'Ilya', 'last_name': 'Winter', 'can_access_closed': True, 'is_closed': False} {'id': 234978271, 'track_code': 'fcf95b90C7-kRU2qh_lS9iB8FjbePMbKkdDZI1texdvwu4r3TiJq3MUuRvrR-AOsYqjl9Y1P0tOdx7dHKAE', 'first_name': 'Ivan', 'last_name': 'Artamonov', 'can_access_closed': True, 'is_closed': False} {'id': 414477086, 'track_code': 'c9c8e64briTl6yR2iNub-BQJ-skFvYYecXyiD9TKIaHTQCX2-AHPR9zbJHSK25X2VdIOClbOkgd9a8xrp5U', 'first_name': 'Ivan', 'last_name': 'Dovidenko', 'can_access_closed': True, 'is_closed': False} {'id': 238881693, 'bdate': '24.5', 'track_code': '909402e7FN_FeyA6UZ8W_YsbCPlPtm6i5yoV-bCI8oTEVv_LmOR1vKBAIjkKkRf0z8H5OhzFervrPXudw9c', 'first_name': 'Ivan', 'last_name': 'Ilyushin', 'can_access_closed': False, 'is_closed': True} {'id': 371471381, 'bdate': '11.3', 'track_code': '3c3856fecmLN8zTBBqkkA-rC22adiRruhtnZoUDUNFY-_GtBe-wTAajCMMIE_nACqhkopc76DveKzrfFM4s', 'first_name': 'Ivan', 'last_name': 'Lisitsyn', 'can_access_closed': True, 'is_closed': False} {'id': 326146496, 'track_code': '937bb545WO0Cmm_heX8tGozaXkM4vjPRwfl8f_w2u_4DLJuitVA5jjeqauN_fyBOzACqgGvNJ8jN7hIbj2k', 'first_name': 'Ivan', 'last_name': 'Romantsov', 'can_access_closed': True, 'is_closed': False} {'id': 243016530, 'track_code': '62f95591UxQpAk5WXmovR7XHM1_mpxQ30HBkh4wv8-Xux_KbqQsydxE9HlsMaitH9RfBnLXUAC7cZwrj_3A', 'first_name': 'Ivan', 'last_name': 'Smirnov', 'can_access_closed': True, 'is_closed': False} {'id': 284570817, 'bdate': '29.5.2004', 'track_code': '1d9c0d37o9jWvYeoz-KMEWGNoFDHyVxH07smEwb1GvtIX5d0pMDCu7fVg6Of4YwZL19Vk5S6SF7frEh3dao', 'first_name': 'Ivetta', 'last_name': 'Leblan', 'can_access_closed': True, 'is_closed': False} {'id': 767284982, 'bdate': '18.10.1998', 'track_code': '92b2cb002shM1HO61OsKApON068ecbHdpsxhgxOxELoPw3MNS7u7q3rsIbXWvAMP3VYjbE0CpcSq2w_nYO4', 'first_name': 'Kamara', 'last_name': 'Raphaël', 'can_access_closed': True, 'is_closed': False} {'id': 391294443, 'bdate': '12.9.2003', 'track_code': 'd412e2f8G3pPGsyH23sEn-iR7itsWr-sib0SRqeEC8kDNHW0ji16GXx2y9_YKF7OpEYf6D8pq7WFqnwi1Ns', 'first_name': 'Kamil', 'last_name': 'Rakhmonov', 'can_access_closed': True, 'is_closed': False} {'id': 309075300, 'track_code': '28d343b0UhN-EcwmL2Pb7tp8fgXdD2WvOCNAgl5FN17EBjC7okUzcBh7yHAuaonukK-Mxo58cbY0NC7mLRo', 'first_name': 'Katya', 'last_name': 'Krutkina', 'can_access_closed': True, 'is_closed': False} {'id': 548535470, 'bdate': '16.8', 'track_code': '187c0faaZDa6UH8rB9vgyO_iLCZSYFLATbKwK5gQjPkuQMZlOnAFVYo8fi4P3OXPoTbe5QETRtlBpd5P608', 'first_name': 'Katya', 'last_name': 'Preobrazhenskaya', 'can_access_closed': True, 'is_closed': False} {'id': 68793436, 'track_code': '58287cdbWpdZIYX0qonnl1T66kLzafsO07ThJxyICn2z1A57keM79GoQgqith7GaHC8u6qwJ9hnI0Y9Dbw', 'first_name': 'Kostya', 'last_name': 'Fisenko', 'can_access_closed': True, 'is_closed': False} {'id': 132358408, 'bdate': '19.1', 'track_code': 'c19e5752fbM9yRoOu4jit7zEm8gx7avptKJ26VAaxkD4CJek0ugc0AylE1zrgrS29BdhC2Kev_C4tRiNI0U', 'first_name': 'Kostya', 'last_name': 'Talalikhin', 'can_access_closed': False, 'is_closed': True} {'id': 199112359, 'bdate': '4.4', 'track_code': '996cdfc3ZjIV4_fMqB5OOdUukMXiQ7nwJxUp4mjnEYLEiQfTPsEHUSOL88CgFxo8m_hrBrEwrekrAkeGG7g', 'first_name': 'Kristina', 'last_name': 'Romanova', 'can_access_closed': False, 'is_closed': True} {'id': 62073414, 'bdate': '6.11.2003', 'track_code': 'fe7d6cabE2RkRu9SpM3d5Ost33RrunES47BMIhUwrlPj5fVzeX5yBwJ7vQWjzNvgpPob3DTafAX41SJGZg', 'first_name': 'Ksenia', 'last_name': 'Dmitrieva', 'can_access_closed': True, 'is_closed': False} {'id': 424224312, 'bdate': '9.4', 'track_code': 'c7947436LEFwzv0wqDTsARnHZP8IC6iLkPVLMd5JjjKSJORQI5pNIkT_qzCoMbwFVRWUPFt4vJKc4iVVrRY', 'first_name': 'Ksenia', 'last_name': 'Melnikova', 'can_access_closed': False, 'is_closed': True} {'id': 588079678, 'bdate': '26.11', 'track_code': 'f64aac36GX0JEfvoIyf-mSoZ2IqPr8XcGmr6GkQjvTaP53GqTht0FgAhxuUiKvqXky4McEz8tsgDZu10IFDi', 'first_name': 'Ksenia', 'last_name': 'Minyaylo', 'can_access_closed': True, 'is_closed': False} {'id': 114003289, 'bdate': '9.8', 'track_code': '1c2d147bhCPc0bf2EQY0yPA--uMRyBuBoN7ZvC5bDQy7uzHrbRHpSISyjP8UBWbBQg0hGNKbaJW50s7SSihS', 'first_name': 'Kyanan', 'last_name': 'Ismailzade', 'can_access_closed': True, 'is_closed': False} {'id': 414504284, 'bdate': '27.3.1996', 'track_code': '99562244AcQkaWETUuf6o9PrVlCXBcnEG4eycBFFeOf9FMIQ3Ilsr3peDEIHsqmnZdiNplRWutACi6UedTYn', 'first_name': 'Lesya', 'last_name': 'Kulinich', 'can_access_closed': True, 'is_closed': False} {'id': 583181830, 'bdate': '14.2', 'track_code': '995523efNPPElo9wUT5S3yJ7jmLUhBS6C8mAB_F5TomIt8VA2sRZmJ2jsCYLNVfXkEJekBfXZ64SxZdplQoR', 'first_name': 'Lia', 'last_name': 'Skityba', 'can_access_closed': True, 'is_closed': False} {'id': 429229534, 'bdate': '6.7', 'track_code': '7604d279it4hV5GfPc37ILuyhkRR04xHpLRSanTH7xWghLQWTLbntX1n_JM3x6srBoZWspKA_1O9uEUEELSw', 'first_name': 'Lizaveta', 'last_name': 'Platonova', 'can_access_closed': True, 'is_closed': False} {'id': 766702535, 'bdate': '11.7.2003', 'track_code': '4c7d4629soPvLMToS01jkw67wPA_N8j0Q6nncR3siz9BCCaFy6rf6OUd9OofQmGRuY8QB_xku-BapfAfeZ_U', 'first_name': 'Luthfil', 'last_name': 'Saidi', 'can_access_closed': True, 'is_closed': False} {'id': 458649357, 'bdate': '29.9.2004', 'track_code': 'd352b4ce1ripBwb8MFMqtvwU9syXWl4XK6qWgNTSmGPQPV2m8Ay70_RmN6wwCiu1QyYgOVQJLQMypoHusKHH', 'first_name': 'Lyonya', 'last_name': 'Shiryaev', 'can_access_closed': True, 'is_closed': False} {'id': 221872846, 'track_code': '21ef00e4QYv2UZavyLCkfuc-hlE36kCyMsQD3FiCprVSCncWQfks4K5pr6ucsP98UgdRpfS5M6YryBSyPPH5', 'first_name': 'Magomed', 'last_name': 'Gurgunaev', 'can_access_closed': True, 'is_closed': False} {'id': 75188330, 'track_code': '0de881b4qMH1FFz4bXcqCNKfjnpMD4W4MBdnCQlCecowHqfV8srFqqZ3Mvc6IytWaa1dvuRQ5bUnDAJnbTE', 'first_name': 'Makar', 'last_name': 'Sergeev', 'can_access_closed': True, 'is_closed': False} {'id': 321433313, 'bdate': '23.7.2002', 'track_code': 'c8a4a0ebyWsYDvj_c6pPsVxG5I_v8U62Q90EOlpOHD2Dzc8MtMCkABY6wvx2rULh5nQ2fiyiPaJa0RNUPj1D', 'first_name': 'Maria', 'last_name': 'Dubovik', 'can_access_closed': False, 'is_closed': True} {'id': 560090424, 'track_code': '8fe1ec97ctWWKyZ-xdPVwKt7vVK4lhs_yVVoLoloO5OaEYE_7i4fvp5PGyjD2oTIEU5spHvFaCvQWX9A7Rtk', 'first_name': 'Maria', 'last_name': 'Nguen', 'can_access_closed': False, 'is_closed': True} {'id': 399816768, 'bdate': '5.11.2002', 'track_code': '38accdccH9hxCohRwyK4A8GuLdB5U5EARqv2QK7HAedfNkWFPWRysyk_51HKeuEFfJj4KroA4hRfp-EuyrRe', 'first_name': 'Maria', 'last_name': 'Schegolkova', 'can_access_closed': True, 'is_closed': False} {'id': 276158217, 'bdate': '15.2', 'track_code': '824af3714Q1OEktxOC3BLiaxK3tEXLc8mtKegksfhiA7jhkA3s-MZhdwJnBsI8AvkoL5jocPxCiD3onsL2zZ', 'first_name': 'Maria', 'last_name': 'Ulyanova', 'can_access_closed': True, 'is_closed': False} {'id': 243443254, 'bdate': '11.10.2002', 'track_code': '293866fb0SBJBX4krp5ilkJUYwPSCl_BrXpcnaZ2WnFGhi4I5CG8SxUwRST_nmSX_Ge19RFZLNW0dkvzwgUF', 'first_name': 'Marina', 'last_name': 'Bychkova', 'can_access_closed': True, 'is_closed': False} {'id': 308033928, 'bdate': '26.12.2003', 'track_code': 'ffef550fyEUycXeeDZKTB-o2sbf-OiVTd9zzNoA86ynAGCoHWWKlLjhDTJ5ezMYMVw5gTT1pVkdu0ORY5E-0', 'first_name': 'Mariya', 'last_name': 'Vanna', 'can_access_closed': False, 'is_closed': True} {'id': 194346557, 'track_code': '256ffd285nFyTAx-gfNJAwXPHNSaI3O50qa-HmX3gf4k8ENac1OLGi1-NS3d9hwGvPvKIVlwAK3LqqlwAYTe', 'first_name': 'Mark', 'last_name': 'Gurevich', 'can_access_closed': False, 'is_closed': True} {'id': 30426610, 'bdate': '21.12.2002', 'track_code': 'd99281374obIeBObWMpMYcVzyWhp6FdOVYXUzznGDCQiSGMooiqP7ZIaKJFdm001Y0MarMG3N0NCnrGhXbU', 'first_name': 'Mark', 'last_name': 'Sushkov', 'can_access_closed': True, 'is_closed': False} {'id': 306467001, 'bdate': '15.4.2006', 'track_code': '1f78dac47CzdOz_lKW1pJcd6w0vFNCNwfkQD10KbLts7DD_nbHqBR9MPV-B9OW4lYUsQuAZnUGRnSBS5Juhx', 'first_name': 'Mark', 'last_name': 'Unanyan', 'can_access_closed': True, 'is_closed': False} {'id': 159082457, 'bdate': '31.1.2003', 'track_code': '20919b6emKwv8XQyClt-H2r5nSDVvqs0XNAhaLNWe5I2tvZpYaL1x3SQGTJdU31GysxL1Rbt2CBF3DYG1yUk', 'first_name': 'Marya', 'last_name': 'Axenova', 'can_access_closed': False, 'is_closed': True} {'id': 324595274, 'bdate': '18.2', 'track_code': 'eb098cd4egjKt-w4vJU9WlBWFGX93KYWn53j7giAstuU3EnBu7cXY8DVhjK4lDBV9mXAkz6P1QKGkfSAbPPt', 'first_name': 'Masha', 'last_name': 'Gromova', 'can_access_closed': False, 'is_closed': True} {'id': 479298355, 'bdate': '3.10.2004', 'track_code': '442a6cb831dMhtJ2fX8X1tfopWd06EcsLgTMMMCjWwMIcY2eDYeyPB--4yF_dhOMe9pzkLe7NDg3CNtepNAE', 'first_name': 'Matvey', 'last_name': 'Chekurda', 'can_access_closed': False, 'is_closed': True} {'id': 535285117, 'bdate': '15.5', 'track_code': 'c1ba2961Z5vgOuXS1SGcRJctV0A23SAnVrk2h25gU3JK3JlQrWYK8L1eidHWI55INx2FtfWOUzNPtSHpChMM', 'first_name': 'Matvey', 'last_name': 'Chicherin', 'can_access_closed': True, 'is_closed': False} {'id': 41439568, 'track_code': '74c7696fFlURL6UlOaVtXWSiq4iypJOX-96sAEf01jPHfhV620t7Phwdn3cxo2pRx5VwTBr785rsxcluI4c', 'first_name': 'Matvey', 'last_name': 'Fonyakin', 'can_access_closed': False, 'is_closed': True} {'id': 211304677, 'bdate': '3.6.1999', 'track_code': '7712b2aaY8KQNQlrG70ORtuThpvXFw4sDLPPWRLvsTNR09Wdzb4OqZpXNm8a6ApPeKRSbhREfTgVv9g3dpzu', 'first_name': 'Matvey', 'last_name': 'Pelevin', 'can_access_closed': False, 'is_closed': True} {'id': 325868088, 'bdate': '3.5', 'track_code': 'e9d05b88Ckg2hnf7SipouId0TaUUvPfgyE8ua9PC8OiYISv48MdnI2ixHP4aLWS5J0WWX9fvhPTRQzkFt7Gv', 'first_name': 'Matvey', 'last_name': 'Zhdanov', 'can_access_closed': True, 'is_closed': False} {'id': 384715551, 'track_code': '8310f1d0Hzj7d-mPTE7fVz6hB0DYfclw343BwOAWIB3ChJX7z19yU6MVg4oSSt4HkpXRsxsuumTGgdauhGV_', 'first_name': 'Max', 'last_name': 'Ernazarov', 'can_access_closed': True, 'is_closed': False} {'id': 201788481, 'bdate': '11.2', 'track_code': 'f30d56e7pGOPrNXES2pILsEu2n_YMBgqdtAjilPigS6NWRThey3JCNea65IeOR0uYxsBjBtjaz5v3DTkN5He', 'first_name': 'Maxim', 'last_name': 'Karpikov', 'can_access_closed': True, 'is_closed': False} {'id': 767866, 'bdate': '26.12', 'track_code': 'a4e9af1aYukai73HajD3QBQqBwz9V-JF1XFfjXbEL4E1PIzFZTUPghC6iMVlNflDuS2Jr0oClVGnGDrj', 'first_name': 'Mikhail', 'last_name': 'Cherkasov', 'can_access_closed': True, 'is_closed': False} {'id': 276267392, 'bdate': '27.6.2005', 'track_code': 'd1135454aD4YT-YtcRDy21Co002A1SkFoFsHLDHSIyZhojf22HsFVUp_jnlxEPPe-5oJvUOGWhG5VxBCVaF8', 'first_name': 'Mikhail', 'last_name': 'Ermolin', 'can_access_closed': True, 'is_closed': False} {'id': 272885444, 'bdate': '15.6', 'track_code': '84e3685cnxkV3okEBKitQfjTaUOTkA2IjxmdwRic6FgqCpYBXlfycki_tQRSr_AcUOa-tVDDfpyWFYqvfO-3', 'first_name': 'Mikhail', 'last_name': 'Kalinin', 'can_access_closed': False, 'is_closed': True} {'id': 248422733, 'bdate': '24.1.2003', 'track_code': 'c6086957PIxhZ7T_c-ErOpz8rupLF7Au5BUwE_B0W3fSMaFNff1R52hTiPp-6CgxMMp-G4hEwzr9GSd9lAcE', 'first_name': 'Mikhail', 'last_name': 'Otrubyannikov', 'can_access_closed': False, 'is_closed': True} {'id': 282234150, 'bdate': '20.8', 'track_code': 'b43a3876IcxyImgxwBH90KMzq5JpAjn2xTe5FxLDVCrqiMVGvIVMpykUVzPPG_vaCAN9YKpRSuLcO655drAL', 'first_name': 'Mikhail', 'last_name': 'Vedyakov', 'can_access_closed': True, 'is_closed': False} {'id': 490576629, 'bdate': '14.9', 'track_code': '372b6810Fo5Nnn0zg3ZuL2obKt2dXqGtDEKQMrD8Yse7zkJY5ax75RP7FzKOcmkq_Cz7Jl4N0rkVTodc1I89', 'first_name': 'Milana', 'last_name': 'Bartashevich', 'can_access_closed': True, 'is_closed': False} {'id': 231401769, 'bdate': '6.8', 'track_code': 'f571faafD9S8GPrAXFHQXEbLMarC_y8RayteQ32OOkKaKwznY_Jiv7J9y5BZV91f1v3kUQGsXAVyJ0ktGf1l', 'first_name': 'Mirtaha', 'last_name': 'Mahmudov', 'can_access_closed': True, 'is_closed': False} {'id': 399742458, 'bdate': '10.1.2004', 'track_code': '3e9db7adKUTaI-DiA3fR8x9Y8XQxKuHJLTHWF2_CTNwm-yMscpZEL9IS0eFbd4Ojj20njvJ5kt00PcF5C7ET', 'first_name': 'Misha', 'last_name': 'Kuznetsov', 'can_access_closed': True, 'is_closed': False} {'id': 285617525, 'bdate': '14.1.2004', 'track_code': 'e465683eeMJg9FDcj52kN5wxSXa32x7ZyOPXdD4h6GBbkMWHzDEVqTLGYdiHnKRkCAWYgXSIbc3R78AaWlK3', 'first_name': 'Misha', 'last_name': 'Statsenko', 'can_access_closed': True, 'is_closed': False} {'id': 10717366, 'bdate': '26.6.1993', 'track_code': 'bb51832911sC0yHPEqhJEbYD8TZXeU-LovJANv_wyr-IjM4RKi66MF3lTZ8R_U4QITQk8v8mL4a16SVYm4M', 'first_name': 'Mitya', 'last_name': 'Ryabinov', 'can_access_closed': False, 'is_closed': True} {'id': 183249817, 'bdate': '18.11', 'track_code': '4e98ee90xRpHqAutAqAb3JCgJLCiBq9JmMveH6T0e18LEiye5pCocRnNMapZ8h3YDJn2RWFV3F2Bx8lxwIck', 'first_name': 'Nadezhda', 'last_name': 'Anisimova', 'can_access_closed': True, 'is_closed': False} {'id': 578203141, 'bdate': '10.6.2005', 'track_code': '977a1648Sbh9460UeKBY6VKr70aAOPwdhBAP8bEZDwHMNB3c4wgk03OBx0J7_g7rx5s4tUNrjwmdHBif1WpQ', 'first_name': 'Nail', 'last_name': 'Shakirov', 'can_access_closed': True, 'is_closed': False} {'id': 381730937, 'bdate': '24.11', 'track_code': '4211482bAwK5GzqcFrZaaMS4xSDS7LG1Use-JafamzPjYT_LhjVuabF6VptLsF5tU4AV1RG_wqFLy6lLw6nE', 'first_name': 'Nastya', 'last_name': 'Ananyeva', 'can_access_closed': True, 'is_closed': False} {'id': 394970612, 'bdate': '17.7.2003', 'track_code': 'd8d94dfdSNWLBMJZnjWnWeug7crgJGGDiWbXFkAqgPTMCqjvjqUlvoJm_l-QZfsMc5c_OiN3EpeQasB4JFnf', 'first_name': 'Natalya', 'last_name': 'Ivleva', 'can_access_closed': True, 'is_closed': False} {'id': 259576867, 'bdate': '21.8.2002', 'track_code': '360daa13sV1DWAK38Yd7L6KCQOjD9dcdy_eLm3T7YZcWml-_yULcNhloPLDw2Cp8PbuVHQCmpAnS-5z1EIg-', 'first_name': 'Nikita', 'last_name': 'Kudryavtsev', 'can_access_closed': True, 'is_closed': False} {'id': 249618246, 'track_code': '2217f901aqrUv7lCDV4-XiSVAtHXCwLiVfCb4VlNAU0ugyUW6mQHwY_e0xUKBDtftqbVJRRYcfZM_IyPPT5e', 'first_name': 'Nikita', 'last_name': 'Rusakov', 'can_access_closed': True, 'is_closed': False} {'id': 283530586, 'bdate': '21.5', 'track_code': '5b9a6714H2C7AIla--8S_xy2WHObdtzCla7kITzBkDgBD6mQM2xyC7Vhtg6m6BSvh4KDh1glr9aMovNPWLLP', 'first_name': 'Oleg', 'last_name': 'Panov', 'can_access_closed': True, 'is_closed': False} {'id': 218460303, 'bdate': '7.11', 'track_code': '85c3e633o5x7nO0IWwJEgcUzaG0Xopn36MYK6hWU-4JUieMSn9DO93av0VxeWRHUWQG7nNTx6uPxyh2Eceek', 'first_name': 'Olya', 'last_name': 'Khindiadi', 'can_access_closed': True, 'is_closed': False} {'id': 500203910, 'track_code': 'ef1e983frhtVYV68vinl1qBqih1yXJYDvk3f7p6GK50L_bEOh6nDcF9VbrzoKrLTPlJY77EP5RenQciA-vV0', 'first_name': 'Pasha', 'last_name': 'Koshkin', 'can_access_closed': False, 'is_closed': True} {'id': 528399396, 'bdate': '12.3', 'track_code': 'b18c5a187HWh7KviUxOKBAmBtLCHqLTJT_C8YwK6UZQuW01yw6SBHq_cxuIAG9sKnrNuRET7x91W_KsNZskO', 'first_name': 'Polina', 'last_name': 'Buyanova', 'can_access_closed': False, 'is_closed': True} {'id': 209636474, 'bdate': '11.8', 'track_code': '58893820YIk4w3XCotXQY1mBErLs_41-7zf1jRNyIa1fO1yDjT8N4jL7ScLz3NZowLTGRC-s_mr2O-LjdwF-', 'first_name': 'Polina', 'last_name': 'Khudova', 'can_access_closed': False, 'is_closed': True} {'id': 171293383, 'bdate': '5.11', 'track_code': 'cd084a2ePYFTqgVSGrkxOM3vxO82uzi2M2-Ac1WPzOb1qg4oe61Q6gGbOwJIsGFlTt0fHvXoS6IqY5cdMfyT', 'first_name': 'Polina', 'last_name': 'Shadieva', 'can_access_closed': False, 'is_closed': True} {'id': 83652400, 'bdate': '10.5.2000', 'track_code': '2f079182b204x5WPxN_bbyowgQauNefE4gOA7yfOzUVkhY-VB6MCBmqk-IfO3do7rwFSwgZqh8n1GOWBQ70', 'first_name': 'Revaz', 'last_name': 'Makhsoyan', 'can_access_closed': True, 'is_closed': False} {'id': 487920999, 'bdate': '13.3.2003', 'track_code': 'b888298020H_2IFOy9C_PIQaWwCbG7XW6pksTRxh7DlzlPmI9AS2KvDg60KR1uU2BiKB-1hIxsLzlTsjeBKz', 'first_name': 'Roman', 'last_name': 'Shabaev', 'can_access_closed': True, 'is_closed': False} {'id': 254482047, 'bdate': '26.2', 'track_code': '5d870438oUAXwIqo21pyp3gq1jS1oiy2d-yqYOtYM3gXjQxkl8DMK0n0t6OMDHKr-RsBwXbxX6Ju4L0Ojyts', 'first_name': 'Roman', 'last_name': 'Shinkarenko', 'can_access_closed': True, 'is_closed': False} {'id': 212428302, 'bdate': '23.10', 'track_code': 'dedd0d2bH34Bu8VIk1gSOmPFFcGVsDdB7JlDVi9Rnb7mlSZ9oDZyFQ-C-ByUXkc97_fGMVbjRFX1lVQ4SyLC', 'first_name': 'Ryov', 'last_name': 'Motorov', 'can_access_closed': True, 'is_closed': False} {'id': 294808711, 'bdate': '28.11.1990', 'track_code': '5b0218bcbfZACaaKjIUV4F21mSl0etUIQzL44B5vZpHCd9XAfVEAnRg9loCAg0ji0INL2rcpphxaPu-Oehw5', 'first_name': 'Sasha', 'last_name': 'Burtsev', 'can_access_closed': True, 'is_closed': False} {'id': 503424097, 'bdate': '5.6.2004', 'track_code': 'edc9b09c5WUeq47t4qPrqv7r05AoS2g2UsLnVxmdEGQhIiqUdLeIDhDPs7y3ouj9fNoJZesYGyJLzvA5fe5P', 'first_name': 'Sasha', 'last_name': 'Kochubey', 'can_access_closed': True, 'is_closed': False} {'id': 397584931, 'bdate': '28.9', 'track_code': '6a53b165nuqO5BwQiZHQcOmBHXBBoecayXrLA7t-4UQiNC9t1ebzgYPQIBLUxdx8arnNg4LylA7Qdtxt3w2-', 'first_name': 'Savva', 'last_name': 'Konkin', 'can_access_closed': True, 'is_closed': False} {'id': 306617331, 'bdate': '25.12', 'track_code': '5cf547aeNLAYFRWvPh7DimMsjgifkwyNw6pYKJCs5zMhUBsFC3JZ20ojLas4HcKD7B5e-1zAf5napk9G9N-4', 'first_name': 'Savva', 'last_name': 'Savelyev', 'can_access_closed': True, 'is_closed': False} {'id': 268623677, 'track_code': '377e06b6a7Qoe7sM5gTrq6DAlW_OijIIphHcgtAqQt1zNOrYZg0G33pOhQiyC-n_KvdBmg3ZQRy_HcvstFkd', 'first_name': 'Semyon', 'last_name': 'Belov', 'can_access_closed': False, 'is_closed': True} {'id': 77930711, 'bdate': '20.8', 'track_code': '0acbba99evZSwvWi2T4luSwLgaBgaHPtqt9gKM_dV58l5JDRs8IXnQGjxaKKYyKwoTtTZMg3E-C9xAVGq64', 'first_name': 'Sergey', 'last_name': 'Grunkovsky', 'can_access_closed': True, 'is_closed': False} {'id': 328638323, 'bdate': '29.1', 'track_code': '05616f901E6TygCarAhboCU3ToR355JznxeVzcKznDWUuz1wn2m5JcCrMJH8CF6mpgWfdbS04WeGG4KjpsDD', 'first_name': 'Sergey', 'last_name': 'Ibneev', 'can_access_closed': False, 'is_closed': True} {'id': 107535592, 'bdate': '20.10.2000', 'track_code': '71a02652V2I4xHXK9O_Bo2YbQmIw3gT_f89Cm3CavkGl3pr41IQ6CTalTcn378eg7y-YkvONd-tmw1X1FOnh', 'first_name': 'Sergey', 'last_name': 'Ivanov', 'can_access_closed': True, 'is_closed': False} {'id': 224985248, 'bdate': '19.11', 'track_code': '813278c0tUyJ1nYTPrqFOnCgPb401oUJ2rtm5ZGlwxR5aKgJOsbYJ9q1RhY6t98y-JPqRPeF9h3Dt3GL9dac', 'first_name': 'Sergey', 'last_name': 'Koshelev', 'can_access_closed': True, 'is_closed': False} {'id': 180743918, 'bdate': '10.3', 'track_code': 'bd4cb05bpN3gcvDcIoTt8iA1qdWOdmEpIxTWzcU0jwO4q9BiI-_JtrxGz9gjh-j1rQ17L00lEj06GMGjoUfQ', 'first_name': 'Sergey', 'last_name': 'Kovyazo', 'can_access_closed': False, 'is_closed': True} {'id': 267742662, 'bdate': '11.11', 'track_code': '1d141ac0YK4f4unlQ8pSjB0cVq2auiNDlIv6ahGnvWvDuekkEIoNxUHU1e8UzlWIkCuDXVnpUFeNh-0EddTi', 'first_name': 'Sofya', 'last_name': 'Pisarik', 'can_access_closed': True, 'is_closed': False} {'id': 240245464, 'bdate': '4.8', 'track_code': 'e394c639RjGE5V1sw-5Bzju_XR_iBok8NQmWeCfntVYSL8ehXAYrWt_cZDiW50HOzoqI6SFV-igsBYEWQ5Tq', 'first_name': 'Sofya', 'last_name': 'Zhupinskaya', 'can_access_closed': True, 'is_closed': False} {'id': 49834371, 'bdate': '1.8', 'track_code': '862e9040jvxdEyCj4lP3qxMWLSpsiL1noaEF_W8wW0qdHC1R0znjlw53TaW6XvCo4SD_7sTX3Wq2umCTC0M', 'first_name': 'Stepan', 'last_name': 'Arzumanov', 'can_access_closed': True, 'is_closed': False} {'id': 644101105, 'bdate': '24.3.2000', 'track_code': 'ddc54845Atw5tG285II471N1FWEZ8BF3OFtXvSuOHWJucJSUZatvt2XRXLy1gjjsoEXGltqjYmMhV0DTT_1C', 'first_name': 'Stepan', 'last_name': 'Kotlyar', 'can_access_closed': False, 'is_closed': True} {'id': 71258339, 'bdate': '5.3', 'track_code': 'cbe2a151mxXx1jTqK_TEjylb65OEgd8qJOM5LuXsI-ZSzOXwiu32fq3gBOQp_8TT2WkxVyzevycz-FxAgZ8', 'first_name': 'Suat', 'last_name': 'Adigezalova', 'can_access_closed': True, 'is_closed': False} {'id': 229378264, 'bdate': '21.6.2003', 'track_code': '4497ed10XN8MHGtSEU5TDXzzjWd8FNrFF34wZ8mJrGSRE_P_eSAxtFd6VlYaEVZZgMBYkb9HqdEOcicJrfrz', 'first_name': 'Super', 'last_name': 'Sonic', 'can_access_closed': True, 'is_closed': False} {'id': 207712025, 'bdate': '30.12', 'track_code': 'fa3318c0k1cBrmccEbDKQH3Y74d307vjDgonp3wa0SHt7wD7Trb-PFubW08W5shAiuk-cLSAyPcXBjDJGGmO', 'first_name': 'Timofey', 'last_name': 'Esmansky', 'can_access_closed': True, 'is_closed': False} {'id': 346358597, 'bdate': '25.2.2004', 'track_code': 'ad4eb2d0yVisgO-HkNW5DIbD8c21yfGFgUoOajLpjHbr3fMPbSukM_a31IPBhulaePcrOHaagpGYRhkEVprT', 'first_name': 'Timofey', 'last_name': 'Filatov', 'can_access_closed': True, 'is_closed': False} {'id': 15059659, 'bdate': '7.2.1981', 'track_code': 'a0111831O-TDCneBsqngiD9-9jrw8fQuA7QZyZRcveMv94vZmP9Wj8w8T4LjrOSAzkos_liulCMUr3yn8C8', 'first_name': 'Timur', 'last_name': 'Azimov', 'can_access_closed': True, 'is_closed': False} {'id': 185199131, 'bdate': '11.1', 'track_code': '53fef4d6Tw3AV1-7I4MsXi-Tv-lJXVvaxoYwcwYcIvHdSPHLuigiZplgb-soj3hW3qNvGooOKM7fiicdYm99', 'first_name': 'Timur', 'last_name': 'Chanyshev', 'can_access_closed': True, 'is_closed': False} {'id': 500135478, 'bdate': '6.11.2003', 'track_code': '3431839b7vBWADbdQK5cmQnDK6kD9UidkwIGNihws6cCwcYEtr6Dmw80WtlCqVSa9fb_U8CmO4mKDhFYTAPs', 'first_name': 'Tsotne', 'last_name': 'Jojua', 'can_access_closed': True, 'is_closed': False} {'id': 492363683, 'bdate': '19.11.1999', 'track_code': '28d06cdeLl-YZ7RwQnr0jCjF7FG8wo68_SDKv0KL9lcDMxKYoGZDNMVShCUee_CC0fI3oH-R_ajkLN3RJvip', 'first_name': 'Vadim', 'last_name': 'Viktorov', 'can_access_closed': True, 'is_closed': False} {'id': 250776926, 'track_code': '9a563f3dkePBd2tjr1KmSxmObHw1WWFNqUwDQcYjnc8rnYXmKPj8iJ9PBjWtAaYY5La9iPYKElmwQBQvolDC', 'first_name': 'Vagid', 'last_name': 'Makhmudov', 'can_access_closed': False, 'is_closed': True} {'id': 410935219, 'bdate': '26.11', 'track_code': 'b0194bb0uDRBudYunnOf5_njFRENFKp4l1DMnXmDtgDMOYei7hjVX0mL6iPJJsCwANDH6s5H2WyOXNvzHfDp', 'first_name': 'Valery', 'last_name': 'Lesnikov', 'can_access_closed': True, 'is_closed': False} {'id': 260578151, 'bdate': '7.5', 'track_code': '6df2ec5fNB_awqXUbp0c7PlDFnswwQ4RNHeVJI-sC3LnyFLHKiJZdISgn9Ftzx_tDHPAiPOSfQUte4JK699U', 'first_name': 'Vanya', 'last_name': 'Frolov', 'can_access_closed': True, 'is_closed': False} {'id': 318817633, 'bdate': '9.8.2004', 'track_code': '76bc3cefx1lf9E2613r8qkmLD5s5sFKL6h5KGVcp43YSVPMU8RiqMgbNIr3Qc_34sLzfavrjIZ_zEl13M1q8', 'first_name': 'Vanya', 'last_name': 'Gayduk', 'can_access_closed': True, 'is_closed': False} {'id': 424045828, 'bdate': '25.2.2004', 'track_code': 'f6648458BL1Jqf6hy3HY8Kp0CAPIjX2EgJsud-PSPxA35UI9c7lp1hOclPGbIN7xUE3Z-QveDpCZlzkZh6Fg', 'first_name': 'Vanya', 'last_name': 'Kilimchuk', 'can_access_closed': False, 'is_closed': True} {'id': 592926159, 'bdate': '16.7.2003', 'track_code': '90f5f581UhZi_TJsFtv_OpuSa42RA2MUp-Qh0tRyOL5bPeto8xM_fTvIXToYjPE4faK9dlJQEAC-6Da8sAFn', 'first_name': 'Vanya', 'last_name': 'Usnyan', 'can_access_closed': False, 'is_closed': True} {'id': 335867004, 'bdate': '16.7.2003', 'track_code': 'a22f4bc62iXhe0XX5Scy3l6m5PE45xOb1llHCbHZ7T7Hw83cMEa3TrtNLoazJDmNuJc3B_u0YI_PVVBn1aqy', 'first_name': 'Vanya', 'last_name': 'Usnyanov', 'can_access_closed': False, 'is_closed': True} {'id': 528804746, 'bdate': '17.11.2004', 'track_code': '74f9f53e6nApmB1dYTYIGn2COQv638kLm4Dhax2gKBnme78WGeuHGyChI1phNlUYm7Tu_zmMuh-CjPYFedN3', 'first_name': 'Vasily', 'last_name': 'Lebedev', 'can_access_closed': False, 'is_closed': True} {'id': 410529163, 'bdate': '16.3', 'track_code': '69c8fabaKWfnL4K3vX4QmsqfYfEQj347VWaM0-qS62JFVgD01gNEDLsdsuK4K0bOIK-0ANPcDS9Mapu9juG0', 'first_name': 'Viktor', 'last_name': 'Mironov', 'can_access_closed': True, 'is_closed': False} {'id': 214371188, 'bdate': '26.1', 'track_code': '971c0bb78U97P382qL8CRuq2D7g5OfkWM8jN3GVPTPhJ5pc3HrmcJChZRWarvwYSD4bUQvpqigIqxNqyATwT', 'first_name': 'Viktor', 'last_name': 'Zabotin', 'can_access_closed': True, 'is_closed': False} {'id': 102474115, 'bdate': '27.12', 'track_code': 'df14d2279vNRbVJB9TCk2bYjk_L-3tCTt52dCUqj9z8VbKo5n_mbmAhbaEn3MvPZVxNBBT2No4eukYpnLtCo', 'first_name': 'Vladimir', 'last_name': 'Agapov', 'can_access_closed': True, 'is_closed': False} {'id': 243658053, 'bdate': '28.1', 'track_code': '32449992ti4m1sLtItnxYRI2bIwUFOaUqDcvIXHpbcl18rSMvl3bRXS1qOki2qRk_Ae6fddHlYCxOzhPFZoy', 'first_name': 'Vladimir', 'last_name': 'Karapetyan', 'can_access_closed': False, 'is_closed': True} {'id': 286666726, 'bdate': '10.8.1917', 'track_code': '479ce84f-AVmNdgXb7apOc_w4YhH24l4e3nDP4_gTmJZC-seGH-VbmgHsBY2sqc7LsYwfISI-mxiddRR65MR', 'first_name': 'Vladimir', 'last_name': 'Nazarenko', 'can_access_closed': False, 'is_closed': True} {'id': 456245808, 'bdate': '10.3', 'track_code': '91dfd4fbOas1d1P9oLLCRscR5ElV7eLLIgg9KmN4GhFxAd3LjCpUwDsSbvn2vMVLKig3s5a-kd87BCpEBwtF', 'first_name': 'Vladislav', 'last_name': 'Bezparashyuta', 'can_access_closed': True, 'is_closed': False} {'id': 346683865, 'bdate': '18.7.1997', 'track_code': '12c73f44JCnEArznCxVN0pV9J4-1ISmtfvXafx7Lb767N8ul4jRJQpY1jeZZR0uPf0TyeHZyWrln-c0Rergw', 'first_name': 'Vladislav', 'last_name': 'Fyodorov', 'can_access_closed': False, 'is_closed': True} {'id': 150879273, 'bdate': '2.6', 'track_code': '53d4188cn0Ur8LxquAZs7rI9GWVXPPjYDWat6gNrgqKtLiYhVXvyLnPEg2zuVWy7UQ7NlJRvi8wUarqEZxjd', 'first_name': 'Vladislav', 'last_name': 'Kozlov', 'can_access_closed': True, 'is_closed': False} {'id': 189126843, 'bdate': '24.9.2003', 'track_code': '8eb37b03k4YCGTMthYwWUaLXBLhE3zgHZLqRpBaYqNsBemzRoxv-7QouWHjZ1xMFT-7TSYeMSxN9tobKcuv3', 'first_name': 'Vladislav', 'last_name': 'Zhembrovsky', 'can_access_closed': True, 'is_closed': False} {'id': 277245370, 'bdate': '14.6', 'track_code': 'feaea81c9aU9YL7RqXjYjr_TWswUfnXlcutRGru3DhO475IljT2YzjNTgtX7K9ncVuGOPtctBvFr50Z038RR', 'first_name': 'Vlas', 'last_name': 'Zhulevich', 'can_access_closed': True, 'is_closed': False} {'id': 360178043, 'bdate': '19.7.2001', 'track_code': '94dc9eeaZpCVKrpuUX7ZBqDn6PFphM3zsfjcvCudn8T5z_PYcgUL-59PhmVTfNwFRdY_AKrXvueo9MvST-7A', 'first_name': 'Vova', 'last_name': 'Shubkin', 'can_access_closed': True, 'is_closed': False} {'id': 535358790, 'bdate': '16.6.1999', 'track_code': 'dea2b684zC_DLnaew6whTZdtBUXEGv-JabSgg9kJf82i4F8heqyhRJkYHM3B-yUbcVvftwdJjJ1wuLftvXog', 'first_name': 'Xenia', 'last_name': 'Alexandrovna', 'can_access_closed': True, 'is_closed': False} {'id': 435319081, 'bdate': '3.3.2003', 'track_code': '6d6d24a8SzOhNLtk1oTA20Hgf7Y3nY-_El96MQ2IgeYgAlOtsjMmWPsCi2PU1cWIp9GkRfTO_KsLU21fafve', 'first_name': 'Yarik', 'last_name': 'Deleted', 'can_access_closed': True, 'is_closed': False} {'id': 195305019, 'track_code': 'bd91e83dYb8vpARM2ft1RhjTigKJEnkQj9ZEaS0IUojTTjCrSuIM1HGcaEjX9nZCzeJY-UpBCgSW2lMHSXsN', 'first_name': 'Yarik', 'last_name': 'Zoldik', 'can_access_closed': True, 'is_closed': False} {'id': 279105373, 'bdate': '11.9', 'track_code': 'f9fc6921yeo-uqQjnu9WZslHv9NbAsZXnSRvycoOLlf0oSYrWBOkgTbcznfP414wHXVrIphRtUOEKHinrn1x', 'first_name': 'Yaroslav', 'last_name': 'Romanenko', 'can_access_closed': True, 'is_closed': False} {'id': 503056700, 'bdate': '24.12', 'track_code': 'ae902f45nUfBOEBbNB0dnX4Q94-4t5SAlR14sibI5z4hyVjNoprwLJtZfFZmTxqQqiYkfXvk55SMEW_cQru4', 'first_name': 'Yaroslava', 'last_name': 'Demina', 'can_access_closed': True, 'is_closed': False} {'id': 263848845, 'track_code': 'e41e28df4SJpxFYfNiuMx5Jz6vCBLwmOVI4mt7uAmLRNZAVNK5WMSTGlPB01foLESUo9B0J8eppNgjHZ3_PH', 'first_name': 'Yura', 'last_name': 'Kartsev', 'can_access_closed': True, 'is_closed': False} {'id': 245637260, 'bdate': '18.4', 'track_code': '8357266bjlp39zKwub2iPee1XLUBkjRaWLmO7Al7XZ-I1KDvdJHjMSzFCbTo6vFqNIaJR8LBR05BtZmCbQgC', 'first_name': 'Yury', 'last_name': 'Vinnik', 'can_access_closed': True, 'is_closed': False} {'id': 83008701, 'bdate': '9.10.2004', 'track_code': '034b5931f2i6oOtOAgACZsGr4KA_gjvs6ZtXhHbLv-MUGYW6is0SA-SW105XAANtE5oyZJfdW-H-gDLqErg', 'first_name': 'Zhenyok', 'last_name': 'Gurov', 'can_access_closed': True, 'is_closed': False} {'id': 716828173, 'bdate': '4.9.2000', 'track_code': '8de661ed5Qx1FgmKeHl20Nye625kXClyT-OFt06T2q4Cagz_ERyIZ3t0NYV5eH6BAq4_n6cPWmZW75LZKuCF', 'first_name': 'Ziyoviddin', 'last_name': 'Kayumzhanov', 'can_access_closed': True, 'is_closed': False} {'id': 252377902, 'bdate': '3.8.2003', 'track_code': '69f3dc7fP_A66PcIGfeFb5YFe2P0cSmCFXcO1fV2NLRM_Xz5ippSm2PcyVsb8dBuRj2okzciWpYMexm7kQVr', 'deactivated': 'deleted', 'first_name': 'DELETED', 'last_name': '', 'can_access_closed': True, 'is_closed': False} {'id': 272143140, 'bdate': '5.1.2004', 'track_code': '82e8e84cmGj4MRmOWwXlSOgHk-HVIWPm3006MXD3jGqAlmrG0uH1A6EFKYheUe1OMzdEExZyEPLGQS1fFITT', 'deactivated': 'banned', 'first_name': 'Egor', 'last_name': 'Eponeshnikov', 'can_access_closed': True, 'is_closed': False} {'id': 710855749, 'bdate': '11.4.1980', 'track_code': '202d77a6sHF6bLN8nexT8ICW0AiMjyhBXDlAG41km-t-S8WzTQfdGiYOg36UuF-kXKAH80_cW1VFNVd16RfE', 'deactivated': 'banned', 'first_name': 'Ekaterina', 'last_name': 'Paramonova', 'can_access_closed': True, 'is_closed': False} {'id': 298226277, 'bdate': '1.1.1992', 'track_code': '8c7ccd175zQtR8Z7872i8Ls5nFV4dd-V1RUhBo0_1tnJfSQXErSKX3B__nyp4aamZwpIoLsmrIHMGTZo6UyJ', 'deactivated': 'deleted', 'first_name': 'Ll', 'last_name': 'Q', 'can_access_closed': False, 'is_closed': True}\n"
          ]
        }
      ]
    },
    {
      "cell_type": "markdown",
      "source": [
        "**Groups**"
      ],
      "metadata": {
        "id": "NvTV5McoSnA0"
      }
    },
    {
      "cell_type": "markdown",
      "source": [
        "\n",
        "\n",
        "*get*\n",
        "\n",
        "Возвращает список сообществ указанного пользователя."
      ],
      "metadata": {
        "id": "kgix-SDsMue0"
      }
    },
    {
      "cell_type": "code",
      "source": [
        "params = params0.copy()\n",
        "params.update({\"user_id\" : user_id})\n",
        "\n",
        "r = requests.get(f\"https://api.vk.com/method/groups.get\",params=params)\n",
        "\n",
        "print(r.status_code)\n",
        "print(r.json())"
      ],
      "metadata": {
        "colab": {
          "base_uri": "https://localhost:8080/"
        },
        "id": "aIehL7ckM5Je",
        "outputId": "5c2e0f8d-1efd-4fb7-8b9e-38641da5b3f2"
      },
      "execution_count": 268,
      "outputs": [
        {
          "output_type": "stream",
          "name": "stdout",
          "text": [
            "200\n",
            "{'response': {'count': 203, 'items': [22822305, 27895931, 159415165, 26419239, 66678575, 29573241, 34491673, 146355998, 135209264, 30602036, 15755094, 12353330, 152219848, 74595166, 161486117, 23546772, 71474813, 144329953, 73882058, 158484774, 140876144, 40316705, 159146575, 67580761, 150550417, 73598440, 185736480, 190262367, 130698013, 83040434, 99143397, 188537135, 33621085, 132265, 113866673, 23403635, 159450742, 177449914, 169194674, 222565917, 190815176, 178906384, 28639294, 157193972, 31038184, 155464693, 268980, 180275812, 88245281, 52671851, 72785966, 56976280, 184472653, 163058008, 163452344, 16833467, 185736016, 167081580, 22751485, 142845225, 188353599, 55072656, 38834885, 54609771, 181942380, 163670698, 35029664, 136020824, 172652085, 138176317, 190600946, 151498735, 53823348, 187405296, 178517126, 175053128, 162541031, 179667845, 132716344, 183698884, 124542111, 118703051, 187578181, 166127239, 69216220, 187732327, 167426081, 186803356, 140051680, 136852940, 198956622, 190441343, 103737490, 55539313, 7790215, 178627088, 186935928, 100409598, 92204627, 69593870, 179564600, 182932388, 69459624, 187611175, 162260077, 106879986, 29823745, 56821061, 63879357, 154852658, 153098923, 182847847, 188241578, 174716376, 45434198, 105243488, 186801579, 165160698, 22295817, 182076179, 188957202, 112177517, 187496359, 193543517, 174022843, 185964129, 145959938, 135682415, 178247298, 175070121, 174607975, 32515809, 108957597, 115569133, 195369626, 190711072, 115853559, 163682546, 186727162, 189866273, 224385903, 134104138, 172956926, 114271609, 157674516, 177064224, 123046649, 173444681, 179618037, 193547273, 179017058, 147236480, 179736770, 58897819, 183093751, 184693020, 113169399, 215724107, 8384949, 194148298, 31093140, 84180972, 187462951, 106173410, 163012907, 80799683, 38615712, 211343190, 156558435, 40982769, 183224627, 95898495, 125452914, 104181361, 111680915, 118390813, 29735712, 195096338, 134485145, 181445431, 15248954, 184416106, 163443526, 191192630, 190897698, 68309450, 19694708, 198916453, 177984702, 223082854, 209165947, 170041799, 192547201, 86168996, 182293778, 203655409, 206958405, 195531408, 182379720, 153684602, 194739849, 193158764, 203863338], 'last_updated_time': 1751290742}}\n"
          ]
        }
      ]
    },
    {
      "cell_type": "markdown",
      "source": [
        "*getAddresses*\n",
        "\n",
        "Метод возвращает адрес указанного сообщества."
      ],
      "metadata": {
        "id": "H3z6yQGPM5b8"
      }
    },
    {
      "cell_type": "code",
      "source": [
        "params = params0.copy()\n",
        "params.update({\"group_id\" : 1})\n",
        "\n",
        "r = requests.get(f\"https://api.vk.com/method/groups.getAddresses\",params=params)\n",
        "\n",
        "print(r.status_code)\n",
        "print(r.json())"
      ],
      "metadata": {
        "colab": {
          "base_uri": "https://localhost:8080/"
        },
        "id": "wQgzc4DvM5tt",
        "outputId": "c0f23792-5875-4589-e14e-1edb19ce3481"
      },
      "execution_count": 270,
      "outputs": [
        {
          "output_type": "stream",
          "name": "stdout",
          "text": [
            "200\n",
            "{'response': {'count': 1, 'items': [{'id': 2200, 'address': 'ВКонтакте API', 'city_id': 2, 'city': {'id': 2, 'title': 'Saint Petersburg'}, 'country': {'id': 1, 'title': 'Russia'}, 'latitude': 59.938806, 'longitude': 30.314278, 'title': 'ВКонтакте API', 'work_info_status': 'no_information'}]}}\n"
          ]
        }
      ]
    },
    {
      "cell_type": "markdown",
      "source": [
        "*getById*\n",
        "\n",
        "Возвращает информацию о заданном сообществе или о нескольких сообществах."
      ],
      "metadata": {
        "id": "mVd9qmavM6Fo"
      }
    },
    {
      "cell_type": "code",
      "source": [
        "params = params0.copy()\n",
        "params.update({\"group_ids\" : \"12, 1\", \"fields\" : [\"photo_200\", \"contacts\", \"country\"]})\n",
        "\n",
        "r = requests.get(f\"https://api.vk.com/method/groups.getById\",params=params)\n",
        "\n",
        "print(r.status_code)\n",
        "print(r.json())"
      ],
      "metadata": {
        "colab": {
          "base_uri": "https://localhost:8080/"
        },
        "id": "6PcMXq3wM6Wr",
        "outputId": "414d7bc5-1db6-4345-9d40-1ac736c3345e"
      },
      "execution_count": 275,
      "outputs": [
        {
          "output_type": "stream",
          "name": "stdout",
          "text": [
            "200\n",
            "{'response': {'groups': [{'id': 12, 'name': 'ВШПМ СПбГУПТД (бывш. СЗИП)', 'screen_name': 'jambula13', 'is_closed': 0, 'type': 'group', 'photo_50': 'https://sun1-30.userapi.com/s/v1/ig2/Yz6LWP3ZqkoEIhjRq2zaJpUDAnVv32duM8DAsGo-UnxisvEgpgx6JKsZxMEhSBZRDJE8d8kEILNU_SQvGvFBiTVV.jpg?quality=95&crop=33,111,880,880&as=32x32,48x48,72x72,108x108,160x160,240x240,360x360,480x480,540x540,640x640,720x720&ava=1&cs=50x50', 'photo_100': 'https://sun1-30.userapi.com/s/v1/ig2/Yz6LWP3ZqkoEIhjRq2zaJpUDAnVv32duM8DAsGo-UnxisvEgpgx6JKsZxMEhSBZRDJE8d8kEILNU_SQvGvFBiTVV.jpg?quality=95&crop=33,111,880,880&as=32x32,48x48,72x72,108x108,160x160,240x240,360x360,480x480,540x540,640x640,720x720&ava=1&cs=100x100', 'photo_200': 'https://sun1-30.userapi.com/s/v1/ig2/Yz6LWP3ZqkoEIhjRq2zaJpUDAnVv32duM8DAsGo-UnxisvEgpgx6JKsZxMEhSBZRDJE8d8kEILNU_SQvGvFBiTVV.jpg?quality=95&crop=33,111,880,880&as=32x32,48x48,72x72,108x108,160x160,240x240,360x360,480x480,540x540,640x640,720x720&ava=1&cs=200x200'}, {'id': 1, 'name': 'ВКонтакте API', 'screen_name': 'club1', 'is_closed': 0, 'type': 'group', 'photo_50': 'https://sun1-89.userapi.com/s/v1/ig1/bKwbZiUrzAuwLvFgAQ4fg1GnhGA8rbqWBKbu32Q3xO6-B231OjWkFcjt7tBNmJ0NWhMMwSh-.jpg?quality=96&crop=20,20,560,560&as=32x32,48x48,72x72,108x108,160x160,240x240,360x360,480x480,540x540&ava=1&cs=50x50', 'photo_100': 'https://sun1-89.userapi.com/s/v1/ig1/bKwbZiUrzAuwLvFgAQ4fg1GnhGA8rbqWBKbu32Q3xO6-B231OjWkFcjt7tBNmJ0NWhMMwSh-.jpg?quality=96&crop=20,20,560,560&as=32x32,48x48,72x72,108x108,160x160,240x240,360x360,480x480,540x540&ava=1&cs=100x100', 'photo_200': 'https://sun1-89.userapi.com/s/v1/ig1/bKwbZiUrzAuwLvFgAQ4fg1GnhGA8rbqWBKbu32Q3xO6-B231OjWkFcjt7tBNmJ0NWhMMwSh-.jpg?quality=96&crop=20,20,560,560&as=32x32,48x48,72x72,108x108,160x160,240x240,360x360,480x480,540x540&ava=1&cs=200x200'}], 'profiles': []}}\n"
          ]
        }
      ]
    },
    {
      "cell_type": "markdown",
      "source": [
        "*getMembers*\n",
        "\n",
        "Возвращает список участников сообщества."
      ],
      "metadata": {
        "id": "4DJlexl3P9-H"
      }
    },
    {
      "cell_type": "code",
      "source": [
        "params = params0.copy()\n",
        "params.update({\"group_id\" : \"1\", \"sort\" : \"id_asc\"})\n",
        "\n",
        "r = requests.get(f\"https://api.vk.com/method/groups.getMembers\",params=params)\n",
        "\n",
        "print(r.status_code)\n",
        "print(r.json())"
      ],
      "metadata": {
        "colab": {
          "base_uri": "https://localhost:8080/"
        },
        "id": "TnAZxYPsQAdD",
        "outputId": "d1926b28-f8db-4765-d1da-3a46f8359253"
      },
      "execution_count": 286,
      "outputs": [
        {
          "output_type": "stream",
          "name": "stdout",
          "text": [
            "200\n",
            "{'response': {'count': 3564, 'items': [19518, 19540, 19702, 19720, 38909, 39019, 39231, 39425, 39777, 58437, 58541, 61798, 76652, 76796, 77143, 77214, 97588, 100688, 100763, 101126, 104221, 121215, 121546, 121677, 121780, 121793, 125954, 144458, 144861, 150124, 150149, 150178, 150190, 150193, 150198, 170280, 170310, 173222, 177932, 177935, 177956, 177958, 198261, 198312, 198729, 218331, 218441, 223953, 224100, 224173, 228123, 258227, 258784, 259229, 262776, 263000, 263393, 263654, 268679, 289084, 289603, 289890, 289927, 290071, 294474, 294917, 320424, 321110, 321392, 343054, 343196, 343497, 344036, 349448, 365896, 370230, 393093, 393097, 393139, 393171, 417827, 440332, 446026, 471455, 476423, 476674, 476771, 503843, 509011, 529691, 529744, 534992, 535284, 535307, 535396, 535397, 543896, 562838, 563042, 563260, 567951, 592596, 592649, 596016, 596312, 596551, 596588, 596730, 629088, 629120, 629388, 632939, 639054, 663052, 663097, 667938, 668029, 668054, 668105, 668132, 696862, 702752, 731053, 731162, 756262, 756288, 756731, 756782, 756853, 791047, 791152, 791169, 791437, 791556, 791585, 821947, 822125, 827331, 828314, 828325, 863502, 863513, 871247, 893330, 893404, 893514, 893576, 899248, 919638, 925306, 925945, 926103, 926120, 949468, 949678, 950188, 985650, 986033, 986149, 986451, 994348, 994449, 994741, 1035761, 1035858, 1036311, 1036558, 1041110, 1081890, 1082268, 1082768, 1082860, 1114062, 1114080, 1155772, 1155902, 1194928, 1194942, 1194973, 1195051, 1195075, 1195279, 1200127, 1237679, 1238547, 1238583, 1244628, 1244772, 1245075, 1245305, 1289656, 1291705, 1317166, 1317653, 1322077, 1351746, 1351873, 1352044, 1358641, 1359536, 1409464, 1414273, 1415774, 1416048, 1416091, 1458216, 1458417, 1498863, 1504388, 1504405, 1540495, 1541680, 1582227, 1583276, 1583369, 1583546, 1631501, 1631870, 1631887, 1631967, 1632499, 1669923, 1669932, 1670071, 1670206, 1707118, 1707521, 1707661, 1707932, 1715272, 1747051, 1787606, 1789369, 1789750, 1789851, 1790085, 1790260, 1823655, 1830005, 1830403, 1869907, 1902459, 1953645, 1953816, 1954093, 1954372, 1961657, 1995402, 2000692, 2000842, 2038111, 2084703, 2085047, 2085060, 2092017, 2092024, 2126995, 2127520, 2137421, 2137452, 2144433, 2179838, 2180022, 2180614, 2180789, 2211796, 2226492, 2228028, 2233357, 2256563, 2256967, 2257524, 2262835, 2263031, 2299218, 2299518, 2299543, 2338466, 2338644, 2371074, 2371496, 2380849, 2381130, 2414839, 2415273, 2421545, 2421814, 2467120, 2467513, 2468212, 2507415, 2507494, 2513167, 2513195, 2518601, 2547909, 2548582, 2555259, 2555770, 2555799, 2591945, 2592122, 2592436, 2636051, 2636407, 2684109, 2692792, 2693535, 2700974, 2737498, 2737538, 2737654, 2738031, 2738054, 2746888, 2780682, 2786785, 2787638, 2787648, 2788442, 2797152, 2797306, 2797454, 2830224, 2830561, 2830590, 2830606, 2831284, 2831599, 2878721, 2879323, 2879797, 2885941, 2909377, 2916923, 2917440, 2917959, 2962449, 2962502, 2962908, 2963040, 3009385, 3010202, 3010310, 3010855, 3010926, 3011101, 3020100, 3020147, 3058286, 3098100, 3098125, 3106946, 3129941, 3130391, 3130603, 3131393, 3131874, 3162601, 3162708, 3163164, 3163365, 3163954, 3163966, 3207235, 3207439, 3214308, 3214360, 3214880, 3214967, 3248172, 3255024, 3255054, 3307086, 3307206, 3307259, 3307394, 3317332, 3355216, 3361221, 3386256, 3386273, 3394607, 3394714, 3394919, 3450341, 3450740, 3450745, 3450798, 3450811, 3451044, 3487414, 3487698, 3493881, 3530126, 3575934, 3576218, 3576240, 3576518, 3582304, 3583634, 3583656, 3623851, 3623870, 3623930, 3624608, 3624689, 3630843, 3683111, 3683442, 3683973, 3717042, 3717301, 3772620, 3778510, 3815081, 3815115, 3815208, 3815361, 3815392, 3815694, 3857498, 3857853, 3865056, 3865092, 3865246, 3898687, 3899005, 3899269, 3899301, 3905414, 3949739, 3950121, 3950357, 3958887, 4003692, 4010915, 4012116, 4056018, 4056204, 4056372, 4056542, 4056718, 4103190, 4103349, 4103387, 4103504, 4138032, 4138798, 4139056, 4147663, 4147739, 4147999, 4182714, 4188872, 4189591, 4197893, 4198221, 4198676, 4198690, 4238450, 4244879, 4245835, 4284745, 4285458, 4292954, 4335128, 4336050, 4336089, 4336170, 4336561, 4343194, 4385000, 4393584, 4394130, 4394316, 4436285, 4443767, 4443895, 4444020, 4444033, 4475445, 4482456, 4482939, 4483007, 4533644, 4533836, 4534473, 4543256, 4588059, 4588233, 4589400, 4589442, 4589941, 4599714, 4599721, 4645841, 4645904, 4646220, 4646276, 4693049, 4693364, 4693587, 4700698, 4700781, 4744835, 4745027, 4745710, 4750231, 4750812, 4751251, 4787026, 4787269, 4795429, 4844667, 4844710, 4844902, 4846098, 4846831, 4847218, 4890271, 4932779, 5005351, 5006785, 5014720, 5058464, 5058564, 5059555, 5099975, 5099986, 5132220, 5139008, 5139388, 5139422, 5139494, 5185486, 5185919, 5185993, 5232599, 5233021, 5241934, 5241961, 5275178, 5284663, 5285307, 5326324, 5326366, 5326454, 5372684, 5378787, 5379246, 5379915, 5421325, 5421673, 5427697, 5427721, 5459338, 5467135, 5467685, 5467829, 5494534, 5501811, 5501921, 5502255, 5576635, 5624868, 5669480, 5669544, 5677292, 5721753, 5721993, 5722133, 5722186, 5722450, 5722629, 5730661, 5788410, 5789614, 5789833, 5796120, 5796395, 5840833, 5841094, 5841133, 5841702, 5884741, 5891738, 5891831, 5923900, 5924075, 5930513, 5973669, 5974196, 5981405, 6037844, 6038926, 6039252, 6046058, 6046417, 6077715, 6077913, 6116147, 6122236, 6172082, 6172439, 6180492, 6246321, 6246456, 6246552, 6274989, 6275128, 6275311, 6275729, 6275840, 6316816, 6316943, 6316990, 6317169, 6322617, 6322632, 6350883, 6350912, 6404512, 6404731, 6448594, 6448629, 6453678, 6453732, 6461209, 6486379, 6486470, 6495595, 6496310, 6547337, 6547431, 6547645, 6547758, 6592511, 6592832, 6592955, 6593156, 6593194, 6593228, 6593245, 6600353, 6649081, 6649405, 6649798, 6702078, 6702193, 6708570, 6708921, 6710082, 6745172, 6745293, 6752469, 6752599, 6752649, 6752773, 6858187, 6858415, 6866105, 6866241, 6866643, 6872650, 6872732, 6880894, 7017533, 7057403, 7101856, 7110492, 7110827, 7111229, 7120330, 7120571, 7157298, 7163484, 7163575, 7163659, 7163748, 7164006, 7203486, 7211721, 7212970, 7257819, 7258270, 7258364, 7258429, 7265566, 7309380, 7346019, 7346682, 7352029, 7352828, 7352915, 7385700, 7385920, 7386230, 7436168, 7436768, 7436915, 7444538, 7492113, 7492317, 7492465, 7492488, 7492905, 7498924, 7506130, 7531312, 7531666, 7538697, 7538748, 7577848, 7578252, 7578594, 7580983, 7620203, 7626514, 7627114, 7669909, 7677045, 7677629, 7726488, 7726521, 7726541, 7758276, 7758981, 7759075, 7769274, 7779265, 7780052, 7790658, 7792420, 7838343, 7847884, 7848203, 7848649, 7893308, 7893764, 7904785, 7905462, 7946415, 7946530, 7946830, 7947703, 7954512, 7955579, 7956026, 7967500, 7990413, 7990681, 7990931, 7991144, 8037805, 8037846, 8037915, 8082735, 8083623, 8091624, 8091945, 8130770, 8131207, 8131387, 8161395, 8161496, 8161652, 8169987, 8213726, 8213730, 8222066, 8222242, 8285034, 8285050, 8285214, 8286355, 8320641, 8320833, 8368294, 8368583, 8370938, 8376229, 8405912, 8406263, 8415935, 8454575, 8462452, 8494518, 8494792, 8501424, 8501836, 8501864, 8502508, 8540028, 8546471, 8555248, 8589727, 8589989, 8590231, 8628619, 8681600, 8687923, 8687970, 8688080, 8688377, 8688556, 8688900, 8696797, 8742099, 8742291, 8742315, 8742472, 8742564, 8749743, 8787040, 8787063, 8792237, 8792492, 8829349, 8829377, 8830244, 8830283, 8884096, 8884140, 8884327, 8884526, 8912109, 8912586, 8960269, 8968965, 8998638, 9004966, 9041656, 9049484, 9049834, 9050056, 9090937, 9091315, 9149992, 9160883, 9188703, 9195772, 9235442, 9243057, 9243208, 9270867, 9271879, 9279074, 9319787, 9319915, 9362110, 9399394, 9399682, 9405997, 9406123, 9406798, 9407717, 9407967, 9413473, 9447975, 9448102, 9448222, 9449141, 9457746, 9493575, 9493655, 9493786, 9494338, 9502511, 9502629, 9544052, 9551108, 9551155, 9575949, 9576053, 9577488, 9577527, 9667321, 9667392, 9667402, 9667493, 9696148, 9696345, 9697105, 9749478, 9749731, 9750192, 9789459, 9789771, 9790149, 9790191, 9827776, 9832159, 9832657, 9832793, 9879333, 9890345, 9930797, 9930892, 9931228, 9939560, 10004794, 10005167, 10005507, 10015566, 10016589, 10079574, 10079969, 10134901, 10135174, 10135263, 10135572, 10191859, 10193940, 10194065, 10194168, 10203848, 10251859, 10252664, 10252696, 10253269, 10299743, 10299861, 10306419, 10306704, 10360735, 10390710, 10390974, 10400419, 10400703, 10400854, 10447898, 10448367, 10448402, 10497294, 10497385, 10499226, 10546134, 10551683, 10552039, 10552364, 10552785, 10597840, 10606514, 10658447, 10658504, 10658558, 10706997, 10711893, 10755355, 10806129, 10806499, 10816338, 10816848, 10817059, 10817229, 10826328, 10826347, 10826983, 10827003, 10888192, 10888471, 10888645, 10946674, 10946982, 11018664, 11057869, 11068692, 11069545, 11112603, 11174693, 11175084, 11183000, 11183018, 11183133, 11222896, 11223320, 11223522, 11328140, 11328182, 11328253, 11328354, 11378198, 11433133, 11479116, 11479516, 11487672, 11523442, 11523481, 11524066, 11524437, 11571444, 11571763, 11572939, 11573456, 11613769, 11613920, 11613972, 11644884, 11683436], 'next_from': 'PUkGEFNHDhJkUVhGBQQW'}}\n"
          ]
        }
      ]
    },
    {
      "cell_type": "markdown",
      "source": [
        "**Newsfeed**"
      ],
      "metadata": {
        "id": "PNwZpMK3Sjfj"
      }
    },
    {
      "cell_type": "markdown",
      "source": [
        "\n",
        "*search*\n",
        "\n",
        "Возвращает результаты поиска по статусам. Новости возвращаются в порядке от более новых к более старым."
      ],
      "metadata": {
        "id": "EqDdbe5uM6oS"
      }
    },
    {
      "cell_type": "code",
      "source": [
        "params = params0.copy()\n",
        "params.update({\"q\" : \"Реал Мадрид\",\"count\" : 1})\n",
        "\n",
        "r = requests.get(f\"https://api.vk.com/method/newsfeed.search\",params=params)\n",
        "\n",
        "print(r.status_code)\n",
        "print(r.json())"
      ],
      "metadata": {
        "colab": {
          "base_uri": "https://localhost:8080/"
        },
        "id": "SCTNLH44S7dQ",
        "outputId": "2a106240-e601-44fe-cc49-5118101f0a31"
      },
      "execution_count": 291,
      "outputs": [
        {
          "output_type": "stream",
          "name": "stdout",
          "text": [
            "200\n",
            "{'response': {'count': 1000, 'items': [{'inner_type': 'wall_wallpost', 'donut': {'is_donut': False}, 'comments': {'can_post': 1, 'can_view': 1, 'count': 0, 'groups_can_post': True}, 'marked_as_ads': 0, 'type': 'post', 'attachments': [{'type': 'photo', 'photo': {'album_id': -7, 'date': 1751311704, 'id': 457250974, 'owner_id': -32555817, 'access_key': 'f8d25bb2a4a911ed11', 'post_id': 47964, 'sizes': [{'height': 72, 'type': 's', 'width': 72, 'url': 'https://sun9-24.userapi.com/s/v1/ig2/t2cdVBHqn5Hmn1JCXkcSYIa3HQvievKQO9vt1U0cz3dS6oWPlZXligaS4kUPM53ThJOs7TnnBhddPSo7roDQzEcV.jpg?quality=95&as=32x32,48x48,72x72,108x108,160x160,240x241,360x361,480x481,540x542,640x642,720x722,1080x1083,1276x1280&from=bu&cs=72x0'}, {'height': 160, 'type': 'm', 'width': 160, 'url': 'https://sun9-24.userapi.com/s/v1/ig2/t2cdVBHqn5Hmn1JCXkcSYIa3HQvievKQO9vt1U0cz3dS6oWPlZXligaS4kUPM53ThJOs7TnnBhddPSo7roDQzEcV.jpg?quality=95&as=32x32,48x48,72x72,108x108,160x160,240x241,360x361,480x481,540x542,640x642,720x722,1080x1083,1276x1280&from=bu&cs=160x0'}, {'height': 642, 'type': 'x', 'width': 640, 'url': 'https://sun9-24.userapi.com/s/v1/ig2/t2cdVBHqn5Hmn1JCXkcSYIa3HQvievKQO9vt1U0cz3dS6oWPlZXligaS4kUPM53ThJOs7TnnBhddPSo7roDQzEcV.jpg?quality=95&as=32x32,48x48,72x72,108x108,160x160,240x241,360x361,480x481,540x542,640x642,720x722,1080x1083,1276x1280&from=bu&cs=640x0'}, {'height': 1083, 'type': 'y', 'width': 1080, 'url': 'https://sun9-24.userapi.com/s/v1/ig2/t2cdVBHqn5Hmn1JCXkcSYIa3HQvievKQO9vt1U0cz3dS6oWPlZXligaS4kUPM53ThJOs7TnnBhddPSo7roDQzEcV.jpg?quality=95&as=32x32,48x48,72x72,108x108,160x160,240x241,360x361,480x481,540x542,640x642,720x722,1080x1083,1276x1280&from=bu&cs=1080x0'}, {'height': 1280, 'type': 'z', 'width': 1276, 'url': 'https://sun9-24.userapi.com/s/v1/ig2/t2cdVBHqn5Hmn1JCXkcSYIa3HQvievKQO9vt1U0cz3dS6oWPlZXligaS4kUPM53ThJOs7TnnBhddPSo7roDQzEcV.jpg?quality=95&as=32x32,48x48,72x72,108x108,160x160,240x241,360x361,480x481,540x542,640x642,720x722,1080x1083,1276x1280&from=bu&cs=1276x0'}, {'height': 108, 'type': 'o', 'width': 108, 'url': 'https://sun9-24.userapi.com/s/v1/ig2/t2cdVBHqn5Hmn1JCXkcSYIa3HQvievKQO9vt1U0cz3dS6oWPlZXligaS4kUPM53ThJOs7TnnBhddPSo7roDQzEcV.jpg?quality=95&as=32x32,48x48,72x72,108x108,160x160,240x241,360x361,480x481,540x542,640x642,720x722,1080x1083,1276x1280&from=bu&cs=108x0'}, {'height': 241, 'type': 'p', 'width': 240, 'url': 'https://sun9-24.userapi.com/s/v1/ig2/t2cdVBHqn5Hmn1JCXkcSYIa3HQvievKQO9vt1U0cz3dS6oWPlZXligaS4kUPM53ThJOs7TnnBhddPSo7roDQzEcV.jpg?quality=95&as=32x32,48x48,72x72,108x108,160x160,240x241,360x361,480x481,540x542,640x642,720x722,1080x1083,1276x1280&from=bu&cs=240x0'}, {'height': 361, 'type': 'q', 'width': 360, 'url': 'https://sun9-24.userapi.com/s/v1/ig2/t2cdVBHqn5Hmn1JCXkcSYIa3HQvievKQO9vt1U0cz3dS6oWPlZXligaS4kUPM53ThJOs7TnnBhddPSo7roDQzEcV.jpg?quality=95&as=32x32,48x48,72x72,108x108,160x160,240x241,360x361,480x481,540x542,640x642,720x722,1080x1083,1276x1280&from=bu&cs=360x0'}, {'height': 542, 'type': 'r', 'width': 540, 'url': 'https://sun9-24.userapi.com/s/v1/ig2/t2cdVBHqn5Hmn1JCXkcSYIa3HQvievKQO9vt1U0cz3dS6oWPlZXligaS4kUPM53ThJOs7TnnBhddPSo7roDQzEcV.jpg?quality=95&as=32x32,48x48,72x72,108x108,160x160,240x241,360x361,480x481,540x542,640x642,720x722,1080x1083,1276x1280&from=bu&cs=540x0'}, {'height': 1280, 'type': 'base', 'width': 1276, 'url': 'https://sun9-24.userapi.com/s/v1/ig2/t2cdVBHqn5Hmn1JCXkcSYIa3HQvievKQO9vt1U0cz3dS6oWPlZXligaS4kUPM53ThJOs7TnnBhddPSo7roDQzEcV.jpg?quality=95&as=32x32,48x48,72x72,108x108,160x160,240x241,360x361,480x481,540x542,640x642,720x722,1080x1083,1276x1280&from=bu'}], 'text': '', 'user_id': 100, 'web_view_token': '56b488562dd0dbec90', 'has_tags': False, 'orig_photo': {'height': 1280, 'type': 'base', 'url': 'https://sun9-24.userapi.com/s/v1/ig2/t2cdVBHqn5Hmn1JCXkcSYIa3HQvievKQO9vt1U0cz3dS6oWPlZXligaS4kUPM53ThJOs7TnnBhddPSo7roDQzEcV.jpg?quality=95&as=32x32,48x48,72x72,108x108,160x160,240x241,360x361,480x481,540x542,640x642,720x722,1080x1083,1276x1280&from=bu', 'width': 1276}}}], 'date': 1751311704, 'from_id': -32555817, 'id': 47964, 'likes': {'can_like': 1, 'count': 1, 'user_likes': 0, 'can_publish': 1, 'repost_disabled': False}, 'reaction_set_id': 'reactions', 'reactions': {'count': 1, 'items': [{'id': 0, 'count': 1}]}, 'owner_id': -32555817, 'post_source': {'type': 'api'}, 'post_type': 'post', 'reposts': {'count': 0, 'user_reposted': 0}, 'text': 'Джон Элканн пообещал выплатить по 30 000 евро каждому игроку «Ювентуса», если они обыграют «Реал Мадрид» во вторник 💶 \\n \\n📰 Tuttosport', 'views': {'count': 4}}], 'reaction_sets': [{'id': 'reactions', 'items': [{'id': 0, 'title': 'Like', 'asset': {'animation_url': 'https://vk.com/reaction/3-reactions-0?c_uniq_tag=83b2081a8e4adfc36ee536f5f1b4ad470174c89678369a4b9dc5547614a3955e', 'images': [{'url': 'https://vk.com/reaction/1-reactions-0-32?c_uniq_tag=464ba6bdc06e9f204a9b2c865a046355d835f601d8d82be4dc77e43a028741ff', 'width': 32, 'height': 32}, {'url': 'https://vk.com/reaction/1-reactions-0-48?c_uniq_tag=e6bee176471af6e4f7ca0f57ac099847d57b8101bf07944e47b42b097a6d8455', 'width': 48, 'height': 48}, {'url': 'https://vk.com/reaction/1-reactions-0-72?c_uniq_tag=d6f55fe94c0add8f817b447cbd804768752eb996c06ef222b39eb3fd35834780', 'width': 72, 'height': 72}, {'url': 'https://vk.com/reaction/1-reactions-0-96?c_uniq_tag=0a64c3d34d3a1368b05716ff24f94ff51b2257a2287957423ced36a00b020cb6', 'width': 96, 'height': 96}, {'url': 'https://vk.com/reaction/1-reactions-0-144?c_uniq_tag=47a911186fd9ce6d9aba1f9273e49ef70d1e0149e7470d1dae40941d81a1ece4', 'width': 144, 'height': 144}], 'title': {'color': {'foreground': {'light': 'FF3347', 'dark': 'FF5C5C'}, 'background': {'light': 'FFEDED', 'dark': '3E2526'}}}, 'title_color': {'light': 'FF3347', 'dark': 'FF5C5C'}}}, {'id': 1, 'title': 'Haha', 'asset': {'animation_url': 'https://vk.com/reaction/3-reactions-1?c_uniq_tag=a47193579880c0f53dd597a15d3bd57d4827820687c73d6128df2720647b42b9', 'images': [{'url': 'https://vk.com/reaction/1-reactions-1-32?c_uniq_tag=2119d7ea78675f5702dcf43035f5f7fe13d6dd0f444b3a7d1735699d659b49b7', 'width': 32, 'height': 32}, {'url': 'https://vk.com/reaction/1-reactions-1-48?c_uniq_tag=8f5eb3a1d6a6ec81aceff211782af3c9e9a5d1c837f0bfade6965a6844786f8b', 'width': 48, 'height': 48}, {'url': 'https://vk.com/reaction/1-reactions-1-72?c_uniq_tag=c852fcad6e67059878dcf1905e3e416fd89fbc61222ead100935a6fcc1dab4c9', 'width': 72, 'height': 72}, {'url': 'https://vk.com/reaction/1-reactions-1-96?c_uniq_tag=647ccf722698732a8b13033eadd1f02c5c917b0bdc3f9fb16d6cd0ade8706c99', 'width': 96, 'height': 96}, {'url': 'https://vk.com/reaction/1-reactions-1-144?c_uniq_tag=68c571ccb2f08b9e0404e5307b41a48a057454b44375480a7a89f1dc8fb8b521', 'width': 144, 'height': 144}], 'title': {'color': {'foreground': {'light': 'FF8000', 'dark': 'FFC233'}, 'background': {'light': 'FFF2D6', 'dark': '352E23'}}}, 'title_color': {'light': 'FF8000', 'dark': 'FFC233'}}}, {'id': 2, 'title': 'Wow!', 'asset': {'animation_url': 'https://vk.com/reaction/3-reactions-2?c_uniq_tag=b946fcbe262642bc920331746b6eccd9f175bb17d8ef37e54d232fa35ca2c750', 'images': [{'url': 'https://vk.com/reaction/1-reactions-2-32?c_uniq_tag=e919477a3e650ebae5d810b30dcc7529a52b072f2470327f95220b778abfb449', 'width': 32, 'height': 32}, {'url': 'https://vk.com/reaction/1-reactions-2-48?c_uniq_tag=2a6544dce8827d216db7ea91eafc726cd3a823f5d465ba00216901a6de2801ad', 'width': 48, 'height': 48}, {'url': 'https://vk.com/reaction/1-reactions-2-72?c_uniq_tag=5a0663f3d38dd6fbcf3e4973610d50641420631c9df30b6cf80eee0dd5c5efee', 'width': 72, 'height': 72}, {'url': 'https://vk.com/reaction/1-reactions-2-96?c_uniq_tag=51275507a335aeafd7c43735d92d11a6b3acf2bb5595273a44a4f844c055b2ce', 'width': 96, 'height': 96}, {'url': 'https://vk.com/reaction/1-reactions-2-144?c_uniq_tag=223a080cabb1e69212b9b1cdb455dcfb8bcbbdc40d93ae339717ecd32ea95f4c', 'width': 144, 'height': 144}], 'title': {'color': {'foreground': {'light': 'FF8000', 'dark': 'FFC233'}, 'background': {'light': 'FFF2D6', 'dark': '352E23'}}}, 'title_color': {'light': 'FF8000', 'dark': 'FFC233'}}}, {'id': 3, 'title': 'Love', 'asset': {'animation_url': 'https://vk.com/reaction/3-reactions-3?c_uniq_tag=c6ed3add99e841dccda5479c8e21779954e61e0fba15f94a2ae16706df492123', 'images': [{'url': 'https://vk.com/reaction/1-reactions-3-32?c_uniq_tag=a95fe4eb836477892e54dcd8f464598e49a611249ec93d5eb7d7a1401cb77cff', 'width': 32, 'height': 32}, {'url': 'https://vk.com/reaction/1-reactions-3-48?c_uniq_tag=eda1a2c18d733b356babdeed5f52cdcc64dd59f1f69776a133fc34a5627eecee', 'width': 48, 'height': 48}, {'url': 'https://vk.com/reaction/1-reactions-3-72?c_uniq_tag=be09c5080773a9ba78984406588c7371e48073e80b842eb7c9a817f7b435379b', 'width': 72, 'height': 72}, {'url': 'https://vk.com/reaction/1-reactions-3-96?c_uniq_tag=b08f5ff31b4bd18e465f14262708e4aac56d34f343b8d355171df7d73bb34497', 'width': 96, 'height': 96}, {'url': 'https://vk.com/reaction/1-reactions-3-144?c_uniq_tag=484984c408a4b1f82d51229ce061ccbc5ad2efffbf2b684636ecfaa60f567f89', 'width': 144, 'height': 144}], 'title': {'color': {'foreground': {'light': 'FF8000', 'dark': 'FFC233'}, 'background': {'light': 'FFF2D6', 'dark': '352E23'}}}, 'title_color': {'light': 'FF8000', 'dark': 'FFC233'}}}, {'id': 5, 'title': 'Sad', 'asset': {'animation_url': 'https://vk.com/reaction/3-reactions-5?c_uniq_tag=c61122c8c334154cb10ccf0e0687057bf1f0f40c2817198b2e1150df534c22c4', 'images': [{'url': 'https://vk.com/reaction/1-reactions-5-32?c_uniq_tag=a07ac888553814f1cbc8c9342b636bf30ca6d80d14e7e38170ea02dad0bfafbf', 'width': 32, 'height': 32}, {'url': 'https://vk.com/reaction/1-reactions-5-48?c_uniq_tag=31bcb230babad96120a62589c52af22811aaba54d4ed73a36cfd499d9d94102f', 'width': 48, 'height': 48}, {'url': 'https://vk.com/reaction/1-reactions-5-72?c_uniq_tag=a840d0eb581c133d97638ff5bf34f4b33f3fb8557b932cfe3516925b88e2f151', 'width': 72, 'height': 72}, {'url': 'https://vk.com/reaction/1-reactions-5-96?c_uniq_tag=8cff3bac94202cbb5bee1d598f113134e0038804a3837be750f28ff27d3ffb05', 'width': 96, 'height': 96}, {'url': 'https://vk.com/reaction/1-reactions-5-144?c_uniq_tag=8bf31a92656dd0c0d3482505bf1b6fb3d2493a3e4c93e0e62723aef81c7da052', 'width': 144, 'height': 144}], 'title': {'color': {'foreground': {'light': '4986CC', 'dark': '71AAEB'}, 'background': {'light': 'EDF3FA', 'dark': '27303C'}}}, 'title_color': {'light': '4986CC', 'dark': '71AAEB'}}}, {'id': 4, 'title': '&$#%!', 'asset': {'animation_url': 'https://vk.com/reaction/3-reactions-4?c_uniq_tag=063e6b2dd888bb5a9716cf6153f03bf9c0c9707713b857eed8fe1e4e09aea2b3', 'images': [{'url': 'https://vk.com/reaction/1-reactions-4-32?c_uniq_tag=ac5ab70367285c3fbbee7ba2adde88cbb65db2d35e05b09b4ae5593ee0bcc535', 'width': 32, 'height': 32}, {'url': 'https://vk.com/reaction/1-reactions-4-48?c_uniq_tag=c80e3224c299a73384c057ff065c9458dcd533d57a1458875eb98883c3a96783', 'width': 48, 'height': 48}, {'url': 'https://vk.com/reaction/1-reactions-4-72?c_uniq_tag=a0eddba1ec31f96adbb9afa2c6c14bec055b95f8d9f113bdf759fb5a9c9054f0', 'width': 72, 'height': 72}, {'url': 'https://vk.com/reaction/1-reactions-4-96?c_uniq_tag=5495709e616048fd43683ac693ebd09f3615c797af2493d0334402befded2885', 'width': 96, 'height': 96}, {'url': 'https://vk.com/reaction/1-reactions-4-144?c_uniq_tag=a79fce98e0d7769284290ab78936b3aa6d15a42caa50e6071bdeb5013d950251', 'width': 144, 'height': 144}], 'title': {'color': {'foreground': {'light': 'EF5203', 'dark': 'FA5300'}, 'background': {'light': 'FDEBE8', 'dark': '3C2421'}}}, 'title_color': {'light': 'EF5203', 'dark': 'FA5300'}}}]}], 'next_from': '1/-32555817_47964', 'total_count': 100758}}\n"
          ]
        }
      ]
    },
    {
      "cell_type": "markdown",
      "source": [
        "**Photos**"
      ],
      "metadata": {
        "id": "4xqdSzGmVhdZ"
      }
    },
    {
      "cell_type": "markdown",
      "source": [
        "*get*\n",
        "\n",
        "Возвращает список фотографий в альбоме."
      ],
      "metadata": {
        "id": "v4aWVWSdVogQ"
      }
    },
    {
      "cell_type": "code",
      "source": [
        "params = params0.copy()\n",
        "params.update({\"owner_id\" : user_id, \"album_id\" : \"wall\"})\n",
        "\n",
        "r = requests.get(f\"https://api.vk.com/method/photos.get\",params=params)\n",
        "\n",
        "print(r.status_code)\n",
        "print(r.json())"
      ],
      "metadata": {
        "colab": {
          "base_uri": "https://localhost:8080/"
        },
        "id": "-FFVTP4HVyKW",
        "outputId": "5c89bfac-2c8e-4be3-cd7e-d51b64abcbd8"
      },
      "execution_count": 294,
      "outputs": [
        {
          "output_type": "stream",
          "name": "stdout",
          "text": [
            "200\n",
            "{'response': {'count': 4, 'items': [{'album_id': -7, 'date': 1577730607, 'id': 457239665, 'owner_id': 533542586, 'sizes': [{'height': 54, 'type': 's', 'width': 72, 'url': 'https://sun9-32.userapi.com/s/v1/if1/pZTii9B-6_Zmtendu18-bTcMCJQIHcwdwHQX4mRvb8nd_x55psqfq43CvPAYWCEuUw_8IFoj.jpg?quality=96&as=32x24,48x36,72x54,108x81,160x120,240x180,360x270,480x360,540x405,640x480,720x540,1024x768&from=bu&cs=72x0'}, {'height': 120, 'type': 'm', 'width': 160, 'url': 'https://sun9-32.userapi.com/s/v1/if1/pZTii9B-6_Zmtendu18-bTcMCJQIHcwdwHQX4mRvb8nd_x55psqfq43CvPAYWCEuUw_8IFoj.jpg?quality=96&as=32x24,48x36,72x54,108x81,160x120,240x180,360x270,480x360,540x405,640x480,720x540,1024x768&from=bu&cs=160x0'}, {'height': 480, 'type': 'x', 'width': 640, 'url': 'https://sun9-32.userapi.com/s/v1/if1/pZTii9B-6_Zmtendu18-bTcMCJQIHcwdwHQX4mRvb8nd_x55psqfq43CvPAYWCEuUw_8IFoj.jpg?quality=96&as=32x24,48x36,72x54,108x81,160x120,240x180,360x270,480x360,540x405,640x480,720x540,1024x768&from=bu&cs=640x0'}, {'height': 768, 'type': 'y', 'width': 1024, 'url': 'https://sun9-32.userapi.com/s/v1/if1/pZTii9B-6_Zmtendu18-bTcMCJQIHcwdwHQX4mRvb8nd_x55psqfq43CvPAYWCEuUw_8IFoj.jpg?quality=96&as=32x24,48x36,72x54,108x81,160x120,240x180,360x270,480x360,540x405,640x480,720x540,1024x768&from=bu&cs=1024x0'}, {'height': 81, 'type': 'o', 'width': 108, 'url': 'https://sun9-32.userapi.com/s/v1/if1/pZTii9B-6_Zmtendu18-bTcMCJQIHcwdwHQX4mRvb8nd_x55psqfq43CvPAYWCEuUw_8IFoj.jpg?quality=96&as=32x24,48x36,72x54,108x81,160x120,240x180,360x270,480x360,540x405,640x480,720x540,1024x768&from=bu&cs=108x0'}, {'height': 180, 'type': 'p', 'width': 240, 'url': 'https://sun9-32.userapi.com/s/v1/if1/pZTii9B-6_Zmtendu18-bTcMCJQIHcwdwHQX4mRvb8nd_x55psqfq43CvPAYWCEuUw_8IFoj.jpg?quality=96&as=32x24,48x36,72x54,108x81,160x120,240x180,360x270,480x360,540x405,640x480,720x540,1024x768&from=bu&cs=240x0'}, {'height': 270, 'type': 'q', 'width': 360, 'url': 'https://sun9-32.userapi.com/s/v1/if1/pZTii9B-6_Zmtendu18-bTcMCJQIHcwdwHQX4mRvb8nd_x55psqfq43CvPAYWCEuUw_8IFoj.jpg?quality=96&as=32x24,48x36,72x54,108x81,160x120,240x180,360x270,480x360,540x405,640x480,720x540,1024x768&from=bu&cs=360x0'}, {'height': 405, 'type': 'r', 'width': 540, 'url': 'https://sun9-32.userapi.com/s/v1/if1/pZTii9B-6_Zmtendu18-bTcMCJQIHcwdwHQX4mRvb8nd_x55psqfq43CvPAYWCEuUw_8IFoj.jpg?quality=96&as=32x24,48x36,72x54,108x81,160x120,240x180,360x270,480x360,540x405,640x480,720x540,1024x768&from=bu&cs=540x0'}, {'height': 768, 'type': 'base', 'width': 1024, 'url': 'https://sun9-32.userapi.com/s/v1/if1/pZTii9B-6_Zmtendu18-bTcMCJQIHcwdwHQX4mRvb8nd_x55psqfq43CvPAYWCEuUw_8IFoj.jpg?quality=96&as=32x24,48x36,72x54,108x81,160x120,240x180,360x270,480x360,540x405,640x480,720x540,1024x768&from=bu'}], 'text': '', 'web_view_token': 'a4690fcd008dccf140', 'has_tags': False, 'orig_photo': {'height': 768, 'type': 'base', 'url': 'https://sun9-32.userapi.com/s/v1/if1/pZTii9B-6_Zmtendu18-bTcMCJQIHcwdwHQX4mRvb8nd_x55psqfq43CvPAYWCEuUw_8IFoj.jpg?quality=96&as=32x24,48x36,72x54,108x81,160x120,240x180,360x270,480x360,540x405,640x480,720x540,1024x768&from=bu', 'width': 1024}}, {'album_id': -7, 'date': 1577730607, 'id': 457239666, 'owner_id': 533542586, 'sizes': [{'height': 96, 'type': 's', 'width': 72, 'url': 'https://sun9-25.userapi.com/s/v1/ig2/gexfL0qG4_-Z2xcMjk0qveh_VUBQgirYeXaXnfkS5krtTA0Un-rQzp2oF9Bx71rYyvWYGZskM27qCPl_Xhhbho_d.jpg?quality=96&as=32x43,48x64,72x96,108x144,160x213,240x320,360x480,480x640,540x720,640x853,720x960,768x1024&from=bu&cs=72x0'}, {'height': 213, 'type': 'm', 'width': 160, 'url': 'https://sun9-25.userapi.com/s/v1/ig2/gexfL0qG4_-Z2xcMjk0qveh_VUBQgirYeXaXnfkS5krtTA0Un-rQzp2oF9Bx71rYyvWYGZskM27qCPl_Xhhbho_d.jpg?quality=96&as=32x43,48x64,72x96,108x144,160x213,240x320,360x480,480x640,540x720,640x853,720x960,768x1024&from=bu&cs=160x0'}, {'height': 853, 'type': 'x', 'width': 640, 'url': 'https://sun9-25.userapi.com/s/v1/ig2/gexfL0qG4_-Z2xcMjk0qveh_VUBQgirYeXaXnfkS5krtTA0Un-rQzp2oF9Bx71rYyvWYGZskM27qCPl_Xhhbho_d.jpg?quality=96&as=32x43,48x64,72x96,108x144,160x213,240x320,360x480,480x640,540x720,640x853,720x960,768x1024&from=bu&cs=640x0'}, {'height': 1024, 'type': 'y', 'width': 768, 'url': 'https://sun9-25.userapi.com/s/v1/ig2/gexfL0qG4_-Z2xcMjk0qveh_VUBQgirYeXaXnfkS5krtTA0Un-rQzp2oF9Bx71rYyvWYGZskM27qCPl_Xhhbho_d.jpg?quality=96&as=32x43,48x64,72x96,108x144,160x213,240x320,360x480,480x640,540x720,640x853,720x960,768x1024&from=bu&cs=768x0'}, {'height': 144, 'type': 'o', 'width': 108, 'url': 'https://sun9-25.userapi.com/s/v1/ig2/gexfL0qG4_-Z2xcMjk0qveh_VUBQgirYeXaXnfkS5krtTA0Un-rQzp2oF9Bx71rYyvWYGZskM27qCPl_Xhhbho_d.jpg?quality=96&as=32x43,48x64,72x96,108x144,160x213,240x320,360x480,480x640,540x720,640x853,720x960,768x1024&from=bu&cs=108x0'}, {'height': 320, 'type': 'p', 'width': 240, 'url': 'https://sun9-25.userapi.com/s/v1/ig2/gexfL0qG4_-Z2xcMjk0qveh_VUBQgirYeXaXnfkS5krtTA0Un-rQzp2oF9Bx71rYyvWYGZskM27qCPl_Xhhbho_d.jpg?quality=96&as=32x43,48x64,72x96,108x144,160x213,240x320,360x480,480x640,540x720,640x853,720x960,768x1024&from=bu&cs=240x0'}, {'height': 480, 'type': 'q', 'width': 360, 'url': 'https://sun9-25.userapi.com/s/v1/ig2/gexfL0qG4_-Z2xcMjk0qveh_VUBQgirYeXaXnfkS5krtTA0Un-rQzp2oF9Bx71rYyvWYGZskM27qCPl_Xhhbho_d.jpg?quality=96&as=32x43,48x64,72x96,108x144,160x213,240x320,360x480,480x640,540x720,640x853,720x960,768x1024&from=bu&cs=360x0'}, {'height': 720, 'type': 'r', 'width': 540, 'url': 'https://sun9-25.userapi.com/s/v1/ig2/gexfL0qG4_-Z2xcMjk0qveh_VUBQgirYeXaXnfkS5krtTA0Un-rQzp2oF9Bx71rYyvWYGZskM27qCPl_Xhhbho_d.jpg?quality=96&as=32x43,48x64,72x96,108x144,160x213,240x320,360x480,480x640,540x720,640x853,720x960,768x1024&from=bu&cs=540x0'}, {'height': 1024, 'type': 'base', 'width': 768, 'url': 'https://sun9-25.userapi.com/s/v1/ig2/gexfL0qG4_-Z2xcMjk0qveh_VUBQgirYeXaXnfkS5krtTA0Un-rQzp2oF9Bx71rYyvWYGZskM27qCPl_Xhhbho_d.jpg?quality=96&as=32x43,48x64,72x96,108x144,160x213,240x320,360x480,480x640,540x720,640x853,720x960,768x1024&from=bu'}], 'text': '', 'web_view_token': '47737879b863290c7c', 'has_tags': False, 'orig_photo': {'height': 1024, 'type': 'base', 'url': 'https://sun9-25.userapi.com/s/v1/ig2/gexfL0qG4_-Z2xcMjk0qveh_VUBQgirYeXaXnfkS5krtTA0Un-rQzp2oF9Bx71rYyvWYGZskM27qCPl_Xhhbho_d.jpg?quality=96&as=32x43,48x64,72x96,108x144,160x213,240x320,360x480,480x640,540x720,640x853,720x960,768x1024&from=bu', 'width': 768}}, {'album_id': -7, 'date': 1591806438, 'id': 457253822, 'owner_id': 533542586, 'post_id': 34, 'sizes': [{'height': 128, 'type': 's', 'width': 72, 'url': 'https://sun9-48.userapi.com/s/v1/ig2/Q60nKZrYmFHxYqxM4PSKO43KxhDyaon_ujhtQeQTBSMyu9iOudCZt1B7yINs1D0LgExncjXooP6kL0tvYOmHJl6y.jpg?quality=96&as=32x57,48x85,72x128,108x192,160x284,240x426,360x639,480x852,540x958,640x1136,720x1278,1080x1916,1082x1920&from=bu&cs=72x0'}, {'height': 284, 'type': 'm', 'width': 160, 'url': 'https://sun9-48.userapi.com/s/v1/ig2/Q60nKZrYmFHxYqxM4PSKO43KxhDyaon_ujhtQeQTBSMyu9iOudCZt1B7yINs1D0LgExncjXooP6kL0tvYOmHJl6y.jpg?quality=96&as=32x57,48x85,72x128,108x192,160x284,240x426,360x639,480x852,540x958,640x1136,720x1278,1080x1916,1082x1920&from=bu&cs=160x0'}, {'height': 1136, 'type': 'x', 'width': 640, 'url': 'https://sun9-48.userapi.com/s/v1/ig2/Q60nKZrYmFHxYqxM4PSKO43KxhDyaon_ujhtQeQTBSMyu9iOudCZt1B7yINs1D0LgExncjXooP6kL0tvYOmHJl6y.jpg?quality=96&as=32x57,48x85,72x128,108x192,160x284,240x426,360x639,480x852,540x958,640x1136,720x1278,1080x1916,1082x1920&from=bu&cs=640x0'}, {'height': 1916, 'type': 'y', 'width': 1080, 'url': 'https://sun9-48.userapi.com/s/v1/ig2/Q60nKZrYmFHxYqxM4PSKO43KxhDyaon_ujhtQeQTBSMyu9iOudCZt1B7yINs1D0LgExncjXooP6kL0tvYOmHJl6y.jpg?quality=96&as=32x57,48x85,72x128,108x192,160x284,240x426,360x639,480x852,540x958,640x1136,720x1278,1080x1916,1082x1920&from=bu&cs=1080x0'}, {'height': 1920, 'type': 'z', 'width': 1082, 'url': 'https://sun9-48.userapi.com/s/v1/ig2/Q60nKZrYmFHxYqxM4PSKO43KxhDyaon_ujhtQeQTBSMyu9iOudCZt1B7yINs1D0LgExncjXooP6kL0tvYOmHJl6y.jpg?quality=96&as=32x57,48x85,72x128,108x192,160x284,240x426,360x639,480x852,540x958,640x1136,720x1278,1080x1916,1082x1920&from=bu&cs=1082x0'}, {'height': 192, 'type': 'o', 'width': 108, 'url': 'https://sun9-48.userapi.com/s/v1/ig2/Q60nKZrYmFHxYqxM4PSKO43KxhDyaon_ujhtQeQTBSMyu9iOudCZt1B7yINs1D0LgExncjXooP6kL0tvYOmHJl6y.jpg?quality=96&as=32x57,48x85,72x128,108x192,160x284,240x426,360x639,480x852,540x958,640x1136,720x1278,1080x1916,1082x1920&from=bu&cs=108x0'}, {'height': 426, 'type': 'p', 'width': 240, 'url': 'https://sun9-48.userapi.com/s/v1/ig2/Q60nKZrYmFHxYqxM4PSKO43KxhDyaon_ujhtQeQTBSMyu9iOudCZt1B7yINs1D0LgExncjXooP6kL0tvYOmHJl6y.jpg?quality=96&as=32x57,48x85,72x128,108x192,160x284,240x426,360x639,480x852,540x958,640x1136,720x1278,1080x1916,1082x1920&from=bu&cs=240x0'}, {'height': 639, 'type': 'q', 'width': 360, 'url': 'https://sun9-48.userapi.com/s/v1/ig2/Q60nKZrYmFHxYqxM4PSKO43KxhDyaon_ujhtQeQTBSMyu9iOudCZt1B7yINs1D0LgExncjXooP6kL0tvYOmHJl6y.jpg?quality=96&as=32x57,48x85,72x128,108x192,160x284,240x426,360x639,480x852,540x958,640x1136,720x1278,1080x1916,1082x1920&from=bu&cs=360x0'}, {'height': 958, 'type': 'r', 'width': 540, 'url': 'https://sun9-48.userapi.com/s/v1/ig2/Q60nKZrYmFHxYqxM4PSKO43KxhDyaon_ujhtQeQTBSMyu9iOudCZt1B7yINs1D0LgExncjXooP6kL0tvYOmHJl6y.jpg?quality=96&as=32x57,48x85,72x128,108x192,160x284,240x426,360x639,480x852,540x958,640x1136,720x1278,1080x1916,1082x1920&from=bu&cs=540x0'}, {'height': 1920, 'type': 'base', 'width': 1082, 'url': 'https://sun9-48.userapi.com/s/v1/ig2/Q60nKZrYmFHxYqxM4PSKO43KxhDyaon_ujhtQeQTBSMyu9iOudCZt1B7yINs1D0LgExncjXooP6kL0tvYOmHJl6y.jpg?quality=96&as=32x57,48x85,72x128,108x192,160x284,240x426,360x639,480x852,540x958,640x1136,720x1278,1080x1916,1082x1920&from=bu'}], 'text': '', 'web_view_token': '490d6f7a5184ce5504', 'has_tags': False, 'orig_photo': {'height': 1920, 'type': 'base', 'url': 'https://sun9-48.userapi.com/s/v1/ig2/Q60nKZrYmFHxYqxM4PSKO43KxhDyaon_ujhtQeQTBSMyu9iOudCZt1B7yINs1D0LgExncjXooP6kL0tvYOmHJl6y.jpg?quality=96&as=32x57,48x85,72x128,108x192,160x284,240x426,360x639,480x852,540x958,640x1136,720x1278,1080x1916,1082x1920&from=bu', 'width': 1082}}, {'album_id': -7, 'date': 1650365939, 'id': 457261992, 'owner_id': 533542586, 'post_id': 61, 'sizes': [{'height': 96, 'type': 's', 'width': 72, 'url': 'https://sun9-16.userapi.com/s/v1/ig2/3z3gXcTrjqo1x4QiDK11SsvGYKCdLnmFk96sJJan8d9dTsApsQQuPXdPfqLhgLIOi-vbGtDrFN8qjpxCG9XRr5Mj.jpg?quality=95&as=32x43,48x64,72x96,108x144,160x213,240x320,360x480,480x640,540x720,640x853,720x960,891x1188&from=bu&cs=72x0'}, {'height': 213, 'type': 'm', 'width': 160, 'url': 'https://sun9-16.userapi.com/s/v1/ig2/3z3gXcTrjqo1x4QiDK11SsvGYKCdLnmFk96sJJan8d9dTsApsQQuPXdPfqLhgLIOi-vbGtDrFN8qjpxCG9XRr5Mj.jpg?quality=95&as=32x43,48x64,72x96,108x144,160x213,240x320,360x480,480x640,540x720,640x853,720x960,891x1188&from=bu&cs=160x0'}, {'height': 853, 'type': 'x', 'width': 640, 'url': 'https://sun9-16.userapi.com/s/v1/ig2/3z3gXcTrjqo1x4QiDK11SsvGYKCdLnmFk96sJJan8d9dTsApsQQuPXdPfqLhgLIOi-vbGtDrFN8qjpxCG9XRr5Mj.jpg?quality=95&as=32x43,48x64,72x96,108x144,160x213,240x320,360x480,480x640,540x720,640x853,720x960,891x1188&from=bu&cs=640x0'}, {'height': 1188, 'type': 'y', 'width': 891, 'url': 'https://sun9-16.userapi.com/s/v1/ig2/3z3gXcTrjqo1x4QiDK11SsvGYKCdLnmFk96sJJan8d9dTsApsQQuPXdPfqLhgLIOi-vbGtDrFN8qjpxCG9XRr5Mj.jpg?quality=95&as=32x43,48x64,72x96,108x144,160x213,240x320,360x480,480x640,540x720,640x853,720x960,891x1188&from=bu&cs=891x0'}, {'height': 144, 'type': 'o', 'width': 108, 'url': 'https://sun9-16.userapi.com/s/v1/ig2/3z3gXcTrjqo1x4QiDK11SsvGYKCdLnmFk96sJJan8d9dTsApsQQuPXdPfqLhgLIOi-vbGtDrFN8qjpxCG9XRr5Mj.jpg?quality=95&as=32x43,48x64,72x96,108x144,160x213,240x320,360x480,480x640,540x720,640x853,720x960,891x1188&from=bu&cs=108x0'}, {'height': 320, 'type': 'p', 'width': 240, 'url': 'https://sun9-16.userapi.com/s/v1/ig2/3z3gXcTrjqo1x4QiDK11SsvGYKCdLnmFk96sJJan8d9dTsApsQQuPXdPfqLhgLIOi-vbGtDrFN8qjpxCG9XRr5Mj.jpg?quality=95&as=32x43,48x64,72x96,108x144,160x213,240x320,360x480,480x640,540x720,640x853,720x960,891x1188&from=bu&cs=240x0'}, {'height': 480, 'type': 'q', 'width': 360, 'url': 'https://sun9-16.userapi.com/s/v1/ig2/3z3gXcTrjqo1x4QiDK11SsvGYKCdLnmFk96sJJan8d9dTsApsQQuPXdPfqLhgLIOi-vbGtDrFN8qjpxCG9XRr5Mj.jpg?quality=95&as=32x43,48x64,72x96,108x144,160x213,240x320,360x480,480x640,540x720,640x853,720x960,891x1188&from=bu&cs=360x0'}, {'height': 720, 'type': 'r', 'width': 540, 'url': 'https://sun9-16.userapi.com/s/v1/ig2/3z3gXcTrjqo1x4QiDK11SsvGYKCdLnmFk96sJJan8d9dTsApsQQuPXdPfqLhgLIOi-vbGtDrFN8qjpxCG9XRr5Mj.jpg?quality=95&as=32x43,48x64,72x96,108x144,160x213,240x320,360x480,480x640,540x720,640x853,720x960,891x1188&from=bu&cs=540x0'}, {'height': 1188, 'type': 'base', 'width': 891, 'url': 'https://sun9-16.userapi.com/s/v1/ig2/3z3gXcTrjqo1x4QiDK11SsvGYKCdLnmFk96sJJan8d9dTsApsQQuPXdPfqLhgLIOi-vbGtDrFN8qjpxCG9XRr5Mj.jpg?quality=95&as=32x43,48x64,72x96,108x144,160x213,240x320,360x480,480x640,540x720,640x853,720x960,891x1188&from=bu'}], 'text': '', 'web_view_token': '88e5406b9e6025c140', 'has_tags': False, 'orig_photo': {'height': 1188, 'type': 'base', 'url': 'https://sun9-16.userapi.com/s/v1/ig2/3z3gXcTrjqo1x4QiDK11SsvGYKCdLnmFk96sJJan8d9dTsApsQQuPXdPfqLhgLIOi-vbGtDrFN8qjpxCG9XRr5Mj.jpg?quality=95&as=32x43,48x64,72x96,108x144,160x213,240x320,360x480,480x640,540x720,640x853,720x960,891x1188&from=bu', 'width': 891}}], 'next_from': ''}}\n"
          ]
        }
      ]
    },
    {
      "cell_type": "markdown",
      "source": [
        "*getAlbums*\n",
        "\n",
        "Возвращает список фотоальбомов пользователя или сообщества."
      ],
      "metadata": {
        "id": "mOVrY1oiWof7"
      }
    },
    {
      "cell_type": "code",
      "source": [
        "params = params0.copy()\n",
        "params.update({\"owner_id\" : -user_id, \"album_ids\" : \"0\"})\n",
        "\n",
        "r = requests.get(f\"https://api.vk.com/method/photos.getAlbums\",params=params)\n",
        "\n",
        "print(r.status_code)\n",
        "print(r.json())"
      ],
      "metadata": {
        "colab": {
          "base_uri": "https://localhost:8080/"
        },
        "id": "P8Qknu3pW4jJ",
        "outputId": "48e8e8c8-fd76-4ff8-e72c-89e728e3fb65"
      },
      "execution_count": 303,
      "outputs": [
        {
          "output_type": "stream",
          "name": "stdout",
          "text": [
            "200\n",
            "{'error': {'error_code': 15, 'error_msg': 'Access denied: group photos are disabled', 'request_params': [{'key': 'v', 'value': '5.199'}, {'key': 'owner_id', 'value': '-533542586'}, {'key': 'album_ids', 'value': '0'}, {'key': 'method', 'value': 'photos.getAlbums'}, {'key': 'oauth', 'value': '1'}]}}\n"
          ]
        }
      ]
    },
    {
      "cell_type": "markdown",
      "source": [
        "**Translations**"
      ],
      "metadata": {
        "id": "6vg9s0nyXZCe"
      }
    },
    {
      "cell_type": "markdown",
      "source": [
        "*translate*\n",
        "\n",
        "Метод позволяет выполнить перевод переданных строк текста."
      ],
      "metadata": {
        "id": "O0FJUBAwXbdf"
      }
    },
    {
      "cell_type": "code",
      "source": [
        "params = params0.copy()\n",
        "params.update({\"texts\" : \"Всем привет!\", \"translation_language\" : \"es\"})\n",
        "\n",
        "r = requests.get(f\"https://api.vk.com/method/translations.translate\",params=params)\n",
        "\n",
        "print(r.status_code)\n",
        "print(r.json())"
      ],
      "metadata": {
        "colab": {
          "base_uri": "https://localhost:8080/"
        },
        "id": "Irf8ZBECXeaA",
        "outputId": "d614bc6f-fade-4673-dd39-54fd8172904c"
      },
      "execution_count": 306,
      "outputs": [
        {
          "output_type": "stream",
          "name": "stdout",
          "text": [
            "200\n",
            "{'response': {'texts': ['Saludos a todos!'], 'source_lang': 'ru'}}\n"
          ]
        }
      ]
    },
    {
      "cell_type": "markdown",
      "source": [
        "**Users**"
      ],
      "metadata": {
        "id": "FadtAGkbX6Ft"
      }
    },
    {
      "cell_type": "markdown",
      "source": [
        "*get*\n",
        "\n",
        "Метод позволяет получить информацию о пользователях."
      ],
      "metadata": {
        "id": "ODPtE3ZrX7iO"
      }
    },
    {
      "cell_type": "code",
      "source": [
        "params = params0.copy()\n",
        "params.update({\"user_ids\" : user_id, \"fields\" : \"bdate, city, sex\"})\n",
        "\n",
        "r = requests.get(f\"https://api.vk.com/method/users.get\",params=params)\n",
        "\n",
        "print(r.status_code)\n",
        "print(r.json())"
      ],
      "metadata": {
        "colab": {
          "base_uri": "https://localhost:8080/"
        },
        "id": "YfZMPuDzYQrA",
        "outputId": "d7f0cb07-4ac1-45f1-9651-77542e894dda"
      },
      "execution_count": 314,
      "outputs": [
        {
          "output_type": "stream",
          "name": "stdout",
          "text": [
            "200\n",
            "{'response': [{'id': 533542586, 'bdate': '18.12.2003', 'sex': 2, 'first_name': 'Nikos', 'last_name': 'Khindiadi', 'can_access_closed': True, 'is_closed': False}]}\n"
          ]
        }
      ]
    },
    {
      "cell_type": "markdown",
      "source": [
        "*getFollowers*\n",
        "\n",
        "Возвращает список идентификаторов пользователей, которые являются подписчиками пользователя."
      ],
      "metadata": {
        "id": "vSe34z4lYQ8Q"
      }
    },
    {
      "cell_type": "code",
      "source": [
        "params = params0.copy()\n",
        "params.update({\"user_id\" : user_id, \"fields\" : \"bdate, city, sex\"})\n",
        "\n",
        "r = requests.get(f\"https://api.vk.com/method/users.getFollowers\",params=params)\n",
        "\n",
        "print(r.status_code)\n",
        "print(r.json())"
      ],
      "metadata": {
        "colab": {
          "base_uri": "https://localhost:8080/"
        },
        "id": "-kUIU9H6YRSF",
        "outputId": "585e0961-7126-4307-e85a-55fba392526a"
      },
      "execution_count": 318,
      "outputs": [
        {
          "output_type": "stream",
          "name": "stdout",
          "text": [
            "200\n",
            "{'response': {'count': 22, 'friends_count': 0, 'items': [{'id': 524903055, 'bdate': '1.1.1979', 'track_code': '4b7ef3423NeyEGaMY7yGEO17aQMeTKmVK7jIo3UglTYP6RorGyCsrJBTIdtntN4Rsryxn5Mhz4ArpKf_K3HzYFO1Q3FqKL-t6kYhtAHdsg', 'sex': 1, 'first_name': 'Viktoria', 'last_name': 'Maximova', 'can_access_closed': True, 'is_closed': False}, {'id': 555775708, 'bdate': '28.2.2005', 'track_code': 'ef42f091VxT5ZuowqFFJG1ZY0OGwISGqwQz6fk-b8-XT2TvKRJsnb4t1q2eoCEBGCJ8IfT1MR7_BEJUiFsubtImCZ501kzRu8WCrCM5hLA', 'sex': 1, 'first_name': 'Diana', 'last_name': 'Shabaeva', 'can_access_closed': False, 'is_closed': True}, {'id': 588479246, 'bdate': '17.3.2008', 'city': {'id': 1, 'title': 'Moscow'}, 'track_code': 'b5e374d330FuJ2mZocTTb3-r7UYRgte4bZlVNIIIW2zomVEjkcmvOhkyKJL-zts_Imw12pzvsa1thTpo1lUwPb7HCXrgwbw7Yyco_Zintw', 'sex': 2, 'first_name': 'Kirill', 'last_name': 'Ivanov', 'can_access_closed': False, 'is_closed': True}, {'id': 643942230, 'bdate': '13.4', 'track_code': '7728e207p0hpZsspJZX-jAqh4d1lT6VKBAozYQZ8tZGqi0k26QHXM0wlj3Mnz6eIVmY5Qegiw18EFlw-XirTw_fVFmmYCcQyNjCPHEGmyw', 'sex': 2, 'first_name': 'Adel', 'last_name': 'Khasneyn', 'can_access_closed': False, 'is_closed': True}, {'id': 524167981, 'bdate': '4.5.1986', 'track_code': '67082cf7ZIPL0NaCNjwDiz3YioTQwIp2MK_UWPJVJMP8QHL1yg4U-L6RlNs2NlyMZh9SGF2t7GMws7sErARKk6QVJqu7Bgf5xISUtFBfMA', 'sex': 2, 'first_name': 'Fakhri', 'last_name': 'Karabekov', 'can_access_closed': True, 'is_closed': False}, {'id': 577520129, 'bdate': '7.1.2006', 'track_code': 'c049255f-sv3yzlisWdTwhIhdprp6f2TjXjz8uHUniiHJnwqfW2KsIPZLm7vbQ-VSOauBmSEm4aNZJyuuob0fNh7InwMZZmx-cwuAYkEYw', 'sex': 2, 'first_name': 'Feshka', 'last_name': 'Korv', 'can_access_closed': True, 'is_closed': False}, {'id': 853602184, 'bdate': '10.5.1989', 'track_code': '26b273b3zJ-Ktz9ahrDjAY9TOmdEUXOQdmiZt4wADhzMRweTaP285Kz3dVDT4b4A1pTi-8k8FYV2dPbm1VZnSpEaU8gZ9a_l1uJ1P7WI0g', 'sex': 1, 'first_name': 'Irina', 'last_name': 'Bulgakova', 'can_access_closed': True, 'is_closed': False}, {'id': 594337653, 'bdate': '29.11.2004', 'track_code': '3aece344jexxWvt0FMPOoUUHrXnSNXFk-VO3BN4eOslnZKbi7L39l1RP638TmcOlHcB15V9YF3H5T9hYi09WnD8-_76dte6WLlrrEHXwrw', 'sex': 1, 'first_name': 'Ekaterina', 'last_name': 'Isaeva', 'can_access_closed': True, 'is_closed': False}, {'id': 596798310, 'bdate': '10.5.2006', 'track_code': '4d903510p7Pf7IZDotrfBXdDEI9ruIifUon2TZrEwlCLsT_N1JrXyP6rxBqhhtZQIITIE-bV7opSlZkRz5eqD9zuYpKlksTJhL7Edcfvug', 'sex': 1, 'first_name': 'Ina', 'last_name': 'Chebanova', 'can_access_closed': True, 'is_closed': False}, {'id': 434165635, 'bdate': '5.9', 'track_code': '39059080Jn2hmnAJf0OblpzZ6xI7fEeYbEyWDzB2V4_cpQZr3b9WBoncOld4TsKSyh4zjrYRIY1sUPlSbyc534b_WTGst0UH88k6OB4nrg', 'sex': 1, 'first_name': 'Nastya', 'last_name': 'Vishnevskaya', 'can_access_closed': True, 'is_closed': False}, {'id': 594042174, 'bdate': '2.6.2002', 'city': {'id': 1, 'title': 'Moscow'}, 'track_code': '9f07dbb8wJxHFb8CMUPEKPlF334CMZirs8dQwp5izKPWeeqA8Hiw5zVcqFk0GZl-rIIH4o9c_r6z2z-eyzOj8YsksduBcKPmT0moNlJw9Q', 'sex': 1, 'first_name': 'Anastasia', 'last_name': 'Filatova', 'can_access_closed': False, 'is_closed': True}, {'id': 456873113, 'bdate': '14.3.2003', 'track_code': '48718f40IZ3n26C99oJG565CqQrt4iqmC3YSnHwm19vChEqkeq1R5pPJ4bGh0hvj-oVxlmCPTLMLan3BJXWwip7ZF_gLpULn6dzh3se7dw', 'sex': 2, 'deactivated': 'deleted', 'first_name': 'Darina', 'last_name': 'Maleeva', 'can_access_closed': False, 'is_closed': True}, {'id': 545727181, 'bdate': '18.8.2005', 'track_code': '7a4fd710X5-y2Tw_-iaHVG54nSL5T4qfxXw0kS3h2H1qOWiVfjkv5JbLezL6LdtQPb9FvnQi7IrFYFvNdbGwKTJkPMsPMTzl7N57XZxEtw', 'sex': 1, 'deactivated': 'banned', 'first_name': 'Maria', 'last_name': 'Kozhokar', 'can_access_closed': False, 'is_closed': True}, {'id': 102314061, 'bdate': '21.8.1997', 'city': {'id': 1025412, 'title': 'Abramovka (selo)'}, 'track_code': 'ddf4cdcdb9sPfvLmYXjcEbr5BSUEgDeFAjXkZLidschNg4TycXsfoC9q5eo_IoAW6D7duYntUZACKYs85Mrdnxbf3qwAcwyhVX_lhVlL7A', 'sex': 1, 'deactivated': 'banned', 'first_name': 'Olga', 'last_name': 'Razboynikova', 'can_access_closed': True, 'is_closed': False}, {'id': 700783220, 'bdate': '25.1.2008', 'city': {'id': 2256, 'title': 'Gorlovka'}, 'track_code': '2c339c58nib4J4jAntDJ8JCfju91rttF_a0l6K6OGdPxdC2HzxXuXY01zcvL38bzwVhWc_jDvVD9sUq28ttxja0qc9i-Hf1c9yDNpK22qg', 'sex': 1, 'deactivated': 'banned', 'first_name': 'Nadezhda', 'last_name': 'Matyazhgordeeva', 'can_access_closed': True, 'is_closed': False}, {'id': 603931853, 'bdate': '17.12.2004', 'track_code': '3ec004a2lXUNsVPkFug_HXG7N6STHVA9XuouwW9LwqTD6Y4X85DlDiWgQ75F42oZIXzvOB5wNihe9kGeMx2k8Z2910uCmPYPX7VD0SOKBg', 'sex': 1, 'deactivated': 'banned', 'first_name': 'Mich', 'last_name': 'Kalinina', 'can_access_closed': True, 'is_closed': False}, {'id': 576195387, 'track_code': 'a216a96fpXyf5WkzcJl9Bd6UMpCDYU0LGG6qvhbJRBEWaM8cdDDVB-qkLz4jk3NUkVPqDA4MKx4YcsXiTZoqTkw3m0QFOMYGkLEvUUX6Hw', 'sex': 1, 'deactivated': 'banned', 'first_name': 'Alexandra', 'last_name': 'Romanova', 'can_access_closed': True, 'is_closed': False}, {'id': 317214232, 'bdate': '20.3.1995', 'city': {'id': 1057028, 'title': 'Fryazevo'}, 'track_code': '5d78b352sU_jRZW5MTCG_ybfHJ3FINNma3Ca5Qh0KR4fs-oHlnHBNMEN0LJmYd2iaBjEAUhNtXNrbPW_VSZESUTttVrnedI1uxjQ3QAIsQ', 'sex': 1, 'deactivated': 'banned', 'first_name': 'Irina', 'last_name': 'Kharitonova', 'can_access_closed': True, 'is_closed': False}, {'id': 139520933, 'city': {'id': 314, 'title': 'Kyiv'}, 'track_code': 'a0d278485Tl607groHCAZZQmH13xXLGgKUQoRFoM80Pro97mXTeVQlObrnDwLtQ02eHHwXwx17UpWEccBVCZF7T2gbosP4ZDKY6uH5ZHuA', 'sex': 1, 'deactivated': 'banned', 'first_name': 'Masha', 'last_name': 'Voropay', 'can_access_closed': True, 'is_closed': False}, {'id': 679836144, 'bdate': '30.5', 'city': {'id': 1, 'title': 'Moscow'}, 'track_code': '2c730bf28-idZ7zDiAs0enuMzdjugVlUDDAJzAq04oKDDiLN6OeDk74k-c2NA2opN0sVRGPsP0EMLGaTUeiF19pTepaZ75CSxDH5outqBg', 'sex': 1, 'deactivated': 'banned', 'first_name': 'Darya', 'last_name': 'Pavlova', 'can_access_closed': True, 'is_closed': False}, {'id': 535814110, 'track_code': '77290ab8Xd5juMHMqo6BjTC0qG6r4pmNv62c7Y41SzzTVFMo9TctpUr_g5b1046Ne3Nw8iaP_5i_sfOx0WUsa4gJDneEPz6kMOqD-ZO64g', 'sex': 1, 'deactivated': 'banned', 'first_name': 'Anna', 'last_name': 'Belyaeva', 'can_access_closed': True, 'is_closed': False}, {'id': 198131998, 'bdate': '27.5.1987', 'track_code': '5049df5cTF2wcTugFdOyFnschrw0vQpFrl656LJsQnSe_eR8mQs8JpEyKKpBj78VMdteILnQbFCuQtaw5zEsIcCosSvoAy8n6ycoxSfm0w', 'sex': 1, 'deactivated': 'banned', 'first_name': 'Tatyana', 'last_name': 'Sladkova', 'can_access_closed': True, 'is_closed': False}]}}\n"
          ]
        }
      ]
    },
    {
      "cell_type": "markdown",
      "source": [
        "*getSubscriptions*\n",
        "\n",
        "Возвращает список идентификаторов пользователей и публичных страниц, которые входят в список подписок пользователя."
      ],
      "metadata": {
        "id": "wP4ADIgTYRt6"
      }
    },
    {
      "cell_type": "code",
      "source": [
        "params = params0.copy()\n",
        "params.update({\"user_id\" : user_id, \"fields\" : \"bdate, city, sex\"})\n",
        "\n",
        "r = requests.get(f\"https://api.vk.com/method/users.getSubscriptions\",params=params)\n",
        "\n",
        "print(r.status_code)\n",
        "print(r.json())"
      ],
      "metadata": {
        "colab": {
          "base_uri": "https://localhost:8080/"
        },
        "id": "8X629WXrYSEe",
        "outputId": "86473690-4c49-4372-fe91-ec2e3dd80503"
      },
      "execution_count": 320,
      "outputs": [
        {
          "output_type": "stream",
          "name": "stdout",
          "text": [
            "200\n",
            "{'response': {'users': {'count': 5, 'items': [3460930, 3779640, 6878183, 11500032, 23269231]}, 'groups': {'count': 160, 'items': [31093140, 218296598, 190262367, 150550417, 29735712, 140876144, 22822305, 172956926, 187578181, 144329953, 211343190, 53823348, 215724107, 187462951, 27895931, 69216220, 66678575, 136020824, 29573241, 165160698, 67580761, 146355998, 268980, 12353330, 15755094, 16833467, 22295817, 22751485, 23403635, 23546772, 26419239, 28639294, 29823745, 30602036, 31038184, 32515809, 33621085, 34491673, 35029664, 38834885, 40316705, 45434198, 52671851, 54609771, 55072656, 55539313, 56821061, 56976280, 58897819, 63879357, 69459624, 69593870, 71474813, 73598440, 73882058, 74595166, 80799683, 83040434, 86168996, 88245281, 92204627, 95898495, 99143397, 100409598, 103737490, 105243488, 106879986, 108957597, 112177517, 113866673, 114271609, 115853559, 118703051, 124542111, 130698013, 132716344, 135209264, 135682415, 136852940, 138176317, 140051680, 142845225, 145959938, 151498735, 152219848, 153098923, 153684602, 154852658, 155464693, 157193972, 158484774, 159146575, 159415165, 159450742, 161486117, 162260077, 162541031, 163058008, 163452344, 163670698, 163682546, 166127239, 167081580, 167426081, 169194674, 172652085, 173444681, 174022843, 174716376, 175053128, 175070121, 177449914, 177984702, 178247298, 178517126, 178627088, 179017058, 179618037, 179667845, 180275812, 181942380, 182076179, 182293778, 182379720, 182847847, 182932388, 183698884, 184416106, 184472653, 184693020, 185736016, 185736480, 185964129, 186727162, 186801579, 186803356, 186935928, 187405296, 187496359, 187611175, 187732327, 188241578, 188353599, 188537135, 188957202, 189866273, 190441343, 190600946, 190711072, 190815176, 192547201, 193543517, 193547273, 194148298, 195096338, 198916453, 198956622, 203655409, 203863338, 222565917]}}}\n"
          ]
        }
      ]
    },
    {
      "cell_type": "markdown",
      "source": [
        "**Wall**"
      ],
      "metadata": {
        "id": "Gul9UYP8YSZR"
      }
    },
    {
      "cell_type": "markdown",
      "source": [
        "*get*\n",
        "\n",
        "Возвращает список записей со стены пользователя или сообщества."
      ],
      "metadata": {
        "id": "Q_-iOJL8YS3s"
      }
    },
    {
      "cell_type": "code",
      "source": [
        "params = params0.copy()\n",
        "params.update({\"domain\" : \"pengwingreek\"})\n",
        "\n",
        "r = requests.get(f\"https://api.vk.com/method/wall.get\",params=params)\n",
        "\n",
        "print(r.status_code)\n",
        "print(r.json())"
      ],
      "metadata": {
        "colab": {
          "base_uri": "https://localhost:8080/"
        },
        "id": "vAUrOXvVYTTx",
        "outputId": "a026d791-b5cb-450c-a56a-b20df832b2f5"
      },
      "execution_count": 327,
      "outputs": [
        {
          "output_type": "stream",
          "name": "stdout",
          "text": [
            "200\n",
            "{'response': {'count': 9, 'items': [{'inner_type': 'wall_wallpost', 'donut': {'is_donut': False}, 'comments': {'can_post': 0, 'can_view': 1, 'count': 7, 'groups_can_post': True}, 'marked_as_ads': 0, 'hash': 'H-sB1JgEg116vMPo0w', 'type': 'post', 'attachments': [{'type': 'photo', 'photo': {'album_id': -7, 'date': 1650365939, 'id': 457261992, 'owner_id': 533542586, 'access_key': 'ef8068395fbb7873a4', 'post_id': 61, 'sizes': [{'height': 96, 'type': 's', 'width': 72, 'url': 'https://sun9-16.userapi.com/s/v1/ig2/3z3gXcTrjqo1x4QiDK11SsvGYKCdLnmFk96sJJan8d9dTsApsQQuPXdPfqLhgLIOi-vbGtDrFN8qjpxCG9XRr5Mj.jpg?quality=95&as=32x43,48x64,72x96,108x144,160x213,240x320,360x480,480x640,540x720,640x853,720x960,891x1188&from=bu&cs=72x0'}, {'height': 213, 'type': 'm', 'width': 160, 'url': 'https://sun9-16.userapi.com/s/v1/ig2/3z3gXcTrjqo1x4QiDK11SsvGYKCdLnmFk96sJJan8d9dTsApsQQuPXdPfqLhgLIOi-vbGtDrFN8qjpxCG9XRr5Mj.jpg?quality=95&as=32x43,48x64,72x96,108x144,160x213,240x320,360x480,480x640,540x720,640x853,720x960,891x1188&from=bu&cs=160x0'}, {'height': 853, 'type': 'x', 'width': 640, 'url': 'https://sun9-16.userapi.com/s/v1/ig2/3z3gXcTrjqo1x4QiDK11SsvGYKCdLnmFk96sJJan8d9dTsApsQQuPXdPfqLhgLIOi-vbGtDrFN8qjpxCG9XRr5Mj.jpg?quality=95&as=32x43,48x64,72x96,108x144,160x213,240x320,360x480,480x640,540x720,640x853,720x960,891x1188&from=bu&cs=640x0'}, {'height': 1188, 'type': 'y', 'width': 891, 'url': 'https://sun9-16.userapi.com/s/v1/ig2/3z3gXcTrjqo1x4QiDK11SsvGYKCdLnmFk96sJJan8d9dTsApsQQuPXdPfqLhgLIOi-vbGtDrFN8qjpxCG9XRr5Mj.jpg?quality=95&as=32x43,48x64,72x96,108x144,160x213,240x320,360x480,480x640,540x720,640x853,720x960,891x1188&from=bu&cs=891x0'}, {'height': 144, 'type': 'o', 'width': 108, 'url': 'https://sun9-16.userapi.com/s/v1/ig2/3z3gXcTrjqo1x4QiDK11SsvGYKCdLnmFk96sJJan8d9dTsApsQQuPXdPfqLhgLIOi-vbGtDrFN8qjpxCG9XRr5Mj.jpg?quality=95&as=32x43,48x64,72x96,108x144,160x213,240x320,360x480,480x640,540x720,640x853,720x960,891x1188&from=bu&cs=108x0'}, {'height': 320, 'type': 'p', 'width': 240, 'url': 'https://sun9-16.userapi.com/s/v1/ig2/3z3gXcTrjqo1x4QiDK11SsvGYKCdLnmFk96sJJan8d9dTsApsQQuPXdPfqLhgLIOi-vbGtDrFN8qjpxCG9XRr5Mj.jpg?quality=95&as=32x43,48x64,72x96,108x144,160x213,240x320,360x480,480x640,540x720,640x853,720x960,891x1188&from=bu&cs=240x0'}, {'height': 480, 'type': 'q', 'width': 360, 'url': 'https://sun9-16.userapi.com/s/v1/ig2/3z3gXcTrjqo1x4QiDK11SsvGYKCdLnmFk96sJJan8d9dTsApsQQuPXdPfqLhgLIOi-vbGtDrFN8qjpxCG9XRr5Mj.jpg?quality=95&as=32x43,48x64,72x96,108x144,160x213,240x320,360x480,480x640,540x720,640x853,720x960,891x1188&from=bu&cs=360x0'}, {'height': 720, 'type': 'r', 'width': 540, 'url': 'https://sun9-16.userapi.com/s/v1/ig2/3z3gXcTrjqo1x4QiDK11SsvGYKCdLnmFk96sJJan8d9dTsApsQQuPXdPfqLhgLIOi-vbGtDrFN8qjpxCG9XRr5Mj.jpg?quality=95&as=32x43,48x64,72x96,108x144,160x213,240x320,360x480,480x640,540x720,640x853,720x960,891x1188&from=bu&cs=540x0'}, {'height': 1188, 'type': 'base', 'width': 891, 'url': 'https://sun9-16.userapi.com/s/v1/ig2/3z3gXcTrjqo1x4QiDK11SsvGYKCdLnmFk96sJJan8d9dTsApsQQuPXdPfqLhgLIOi-vbGtDrFN8qjpxCG9XRr5Mj.jpg?quality=95&as=32x43,48x64,72x96,108x144,160x213,240x320,360x480,480x640,540x720,640x853,720x960,891x1188&from=bu'}], 'text': '', 'web_view_token': '88e5406b9e6025c140', 'has_tags': False, 'orig_photo': {'height': 1188, 'type': 'base', 'url': 'https://sun9-16.userapi.com/s/v1/ig2/3z3gXcTrjqo1x4QiDK11SsvGYKCdLnmFk96sJJan8d9dTsApsQQuPXdPfqLhgLIOi-vbGtDrFN8qjpxCG9XRr5Mj.jpg?quality=95&as=32x43,48x64,72x96,108x144,160x213,240x320,360x480,480x640,540x720,640x853,720x960,891x1188&from=bu', 'width': 891}}}], 'date': 1650365945, 'from_id': 533542586, 'id': 61, 'likes': {'can_like': 1, 'count': 65, 'user_likes': 0, 'can_publish': 1, 'repost_disabled': False}, 'reaction_set_id': 'reactions', 'reactions': {'count': 65, 'items': [{'id': 0, 'count': 64}, {'id': 2, 'count': 1}]}, 'owner_id': 533542586, 'post_source': {'platform': 'iphone', 'type': 'api'}, 'post_type': 'post', 'reposts': {'count': 3, 'user_reposted': 0}, 'text': '', 'views': {'count': 1039}}, {'inner_type': 'wall_wallpost', 'donut': {'is_donut': False}, 'comments': {'can_post': 0, 'can_view': 1, 'count': 3, 'groups_can_post': True}, 'marked_as_ads': 0, 'hash': '6KjN-PZNAdFFYnzB3Q', 'type': 'post', 'attachments': [{'type': 'photo', 'photo': {'album_id': -6, 'date': 1631639068, 'id': 457261402, 'owner_id': 533542586, 'post_id': 55, 'sizes': [{'height': 90, 'type': 's', 'width': 72, 'url': 'https://sun9-2.userapi.com/s/v1/ig2/6quGZ6HrD3DtBeWbSxj3jbAZ2kq5hEy3iVAWT542r8cEoSYaU3wxo8UkS8b9P6OgcioW6N7l1HfHupssk6j32iat.jpg?quality=96&as=32x40,48x60,72x90,108x135,160x200,240x300,360x450,480x600,540x675,640x800,720x899,726x907&from=bu&cs=72x0'}, {'height': 200, 'type': 'm', 'width': 160, 'url': 'https://sun9-2.userapi.com/s/v1/ig2/6quGZ6HrD3DtBeWbSxj3jbAZ2kq5hEy3iVAWT542r8cEoSYaU3wxo8UkS8b9P6OgcioW6N7l1HfHupssk6j32iat.jpg?quality=96&as=32x40,48x60,72x90,108x135,160x200,240x300,360x450,480x600,540x675,640x800,720x899,726x907&from=bu&cs=160x0'}, {'height': 800, 'type': 'x', 'width': 640, 'url': 'https://sun9-2.userapi.com/s/v1/ig2/6quGZ6HrD3DtBeWbSxj3jbAZ2kq5hEy3iVAWT542r8cEoSYaU3wxo8UkS8b9P6OgcioW6N7l1HfHupssk6j32iat.jpg?quality=96&as=32x40,48x60,72x90,108x135,160x200,240x300,360x450,480x600,540x675,640x800,720x899,726x907&from=bu&cs=640x0'}, {'height': 907, 'type': 'y', 'width': 726, 'url': 'https://sun9-2.userapi.com/s/v1/ig2/6quGZ6HrD3DtBeWbSxj3jbAZ2kq5hEy3iVAWT542r8cEoSYaU3wxo8UkS8b9P6OgcioW6N7l1HfHupssk6j32iat.jpg?quality=96&as=32x40,48x60,72x90,108x135,160x200,240x300,360x450,480x600,540x675,640x800,720x899,726x907&from=bu&cs=726x0'}, {'height': 135, 'type': 'o', 'width': 108, 'url': 'https://sun9-2.userapi.com/s/v1/ig2/6quGZ6HrD3DtBeWbSxj3jbAZ2kq5hEy3iVAWT542r8cEoSYaU3wxo8UkS8b9P6OgcioW6N7l1HfHupssk6j32iat.jpg?quality=96&as=32x40,48x60,72x90,108x135,160x200,240x300,360x450,480x600,540x675,640x800,720x899,726x907&from=bu&cs=108x0'}, {'height': 300, 'type': 'p', 'width': 240, 'url': 'https://sun9-2.userapi.com/s/v1/ig2/6quGZ6HrD3DtBeWbSxj3jbAZ2kq5hEy3iVAWT542r8cEoSYaU3wxo8UkS8b9P6OgcioW6N7l1HfHupssk6j32iat.jpg?quality=96&as=32x40,48x60,72x90,108x135,160x200,240x300,360x450,480x600,540x675,640x800,720x899,726x907&from=bu&cs=240x0'}, {'height': 450, 'type': 'q', 'width': 360, 'url': 'https://sun9-2.userapi.com/s/v1/ig2/6quGZ6HrD3DtBeWbSxj3jbAZ2kq5hEy3iVAWT542r8cEoSYaU3wxo8UkS8b9P6OgcioW6N7l1HfHupssk6j32iat.jpg?quality=96&as=32x40,48x60,72x90,108x135,160x200,240x300,360x450,480x600,540x675,640x800,720x899,726x907&from=bu&cs=360x0'}, {'height': 675, 'type': 'r', 'width': 540, 'url': 'https://sun9-2.userapi.com/s/v1/ig2/6quGZ6HrD3DtBeWbSxj3jbAZ2kq5hEy3iVAWT542r8cEoSYaU3wxo8UkS8b9P6OgcioW6N7l1HfHupssk6j32iat.jpg?quality=96&as=32x40,48x60,72x90,108x135,160x200,240x300,360x450,480x600,540x675,640x800,720x899,726x907&from=bu&cs=540x0'}, {'height': 907, 'type': 'base', 'width': 726, 'url': 'https://sun9-2.userapi.com/s/v1/ig2/6quGZ6HrD3DtBeWbSxj3jbAZ2kq5hEy3iVAWT542r8cEoSYaU3wxo8UkS8b9P6OgcioW6N7l1HfHupssk6j32iat.jpg?quality=96&as=32x40,48x60,72x90,108x135,160x200,240x300,360x450,480x600,540x675,640x800,720x899,726x907&from=bu'}], 'square_crop': '91,162,536', 'text': '', 'web_view_token': '919690d842f33f5c73', 'has_tags': False, 'orig_photo': {'height': 907, 'type': 'base', 'url': 'https://sun9-2.userapi.com/s/v1/ig2/6quGZ6HrD3DtBeWbSxj3jbAZ2kq5hEy3iVAWT542r8cEoSYaU3wxo8UkS8b9P6OgcioW6N7l1HfHupssk6j32iat.jpg?quality=96&as=32x40,48x60,72x90,108x135,160x200,240x300,360x450,480x600,540x675,640x800,720x899,726x907&from=bu', 'width': 726}}}], 'date': 1631639068, 'from_id': 533542586, 'id': 55, 'likes': {'can_like': 1, 'count': 87, 'user_likes': 0, 'can_publish': 1, 'repost_disabled': False}, 'reaction_set_id': 'reactions', 'reactions': {'count': 87, 'items': [{'id': 0, 'count': 87}]}, 'owner_id': 533542586, 'post_source': {'data': 'profile_photo', 'platform': 'iphone', 'type': 'api'}, 'post_type': 'post', 'reposts': {'count': 2, 'user_reposted': 0}, 'text': '', 'views': {'count': 874}}, {'inner_type': 'wall_wallpost', 'donut': {'is_donut': False}, 'comments': {'can_post': 0, 'can_view': 0, 'count': 0, 'groups_can_post': True}, 'marked_as_ads': 0, 'hash': '_cDD7QnUKWz7XpK6DA', 'type': 'post', 'carousel_offset': 0, 'attachments': [{'type': 'photo', 'photo': {'album_id': -5, 'date': 1599113472, 'id': 457239647, 'owner_id': 8541962, 'access_key': '0e5e4d3ff2b0e264ab', 'sizes': [{'height': 40, 'type': 's', 'width': 72, 'url': 'https://sun9-86.userapi.com/s/v1/if2/0ICg9pJF_dSdoDf72rLFb-kYRAJ-q_pSEJzIim1UUW6uqXFwn1k7KC_jFVvyV_Ru9CQ3EcLWNoC8LsXS-nTPbeXA.jpg?quality=96&as=32x18,48x27,72x40,108x61,160x90,240x135,360x202,480x270,540x304,640x360,720x405,1080x607,1280x720&from=bu&cs=72x0'}, {'height': 90, 'type': 'm', 'width': 160, 'url': 'https://sun9-86.userapi.com/s/v1/if2/0ICg9pJF_dSdoDf72rLFb-kYRAJ-q_pSEJzIim1UUW6uqXFwn1k7KC_jFVvyV_Ru9CQ3EcLWNoC8LsXS-nTPbeXA.jpg?quality=96&as=32x18,48x27,72x40,108x61,160x90,240x135,360x202,480x270,540x304,640x360,720x405,1080x607,1280x720&from=bu&cs=160x0'}, {'height': 360, 'type': 'x', 'width': 640, 'url': 'https://sun9-86.userapi.com/s/v1/if2/0ICg9pJF_dSdoDf72rLFb-kYRAJ-q_pSEJzIim1UUW6uqXFwn1k7KC_jFVvyV_Ru9CQ3EcLWNoC8LsXS-nTPbeXA.jpg?quality=96&as=32x18,48x27,72x40,108x61,160x90,240x135,360x202,480x270,540x304,640x360,720x405,1080x607,1280x720&from=bu&cs=640x0'}, {'height': 607, 'type': 'y', 'width': 1080, 'url': 'https://sun9-86.userapi.com/s/v1/if2/0ICg9pJF_dSdoDf72rLFb-kYRAJ-q_pSEJzIim1UUW6uqXFwn1k7KC_jFVvyV_Ru9CQ3EcLWNoC8LsXS-nTPbeXA.jpg?quality=96&as=32x18,48x27,72x40,108x61,160x90,240x135,360x202,480x270,540x304,640x360,720x405,1080x607,1280x720&from=bu&cs=1080x0'}, {'height': 720, 'type': 'z', 'width': 1280, 'url': 'https://sun9-86.userapi.com/s/v1/if2/0ICg9pJF_dSdoDf72rLFb-kYRAJ-q_pSEJzIim1UUW6uqXFwn1k7KC_jFVvyV_Ru9CQ3EcLWNoC8LsXS-nTPbeXA.jpg?quality=96&as=32x18,48x27,72x40,108x61,160x90,240x135,360x202,480x270,540x304,640x360,720x405,1080x607,1280x720&from=bu&cs=1280x0'}, {'height': 720, 'type': 'w', 'width': 1280, 'url': 'https://sun9-86.userapi.com/s/v1/if2/0ICg9pJF_dSdoDf72rLFb-kYRAJ-q_pSEJzIim1UUW6uqXFwn1k7KC_jFVvyV_Ru9CQ3EcLWNoC8LsXS-nTPbeXA.jpg?quality=96&as=32x18,48x27,72x40,108x61,160x90,240x135,360x202,480x270,540x304,640x360,720x405,1080x607,1280x720&from=bu&cs=1280x0'}, {'height': 61, 'type': 'o', 'width': 108, 'url': 'https://sun9-86.userapi.com/s/v1/if2/0ICg9pJF_dSdoDf72rLFb-kYRAJ-q_pSEJzIim1UUW6uqXFwn1k7KC_jFVvyV_Ru9CQ3EcLWNoC8LsXS-nTPbeXA.jpg?quality=96&as=32x18,48x27,72x40,108x61,160x90,240x135,360x202,480x270,540x304,640x360,720x405,1080x607,1280x720&from=bu&cs=108x0'}, {'height': 135, 'type': 'p', 'width': 240, 'url': 'https://sun9-86.userapi.com/s/v1/if2/0ICg9pJF_dSdoDf72rLFb-kYRAJ-q_pSEJzIim1UUW6uqXFwn1k7KC_jFVvyV_Ru9CQ3EcLWNoC8LsXS-nTPbeXA.jpg?quality=96&as=32x18,48x27,72x40,108x61,160x90,240x135,360x202,480x270,540x304,640x360,720x405,1080x607,1280x720&from=bu&cs=240x0'}, {'height': 202, 'type': 'q', 'width': 360, 'url': 'https://sun9-86.userapi.com/s/v1/if2/0ICg9pJF_dSdoDf72rLFb-kYRAJ-q_pSEJzIim1UUW6uqXFwn1k7KC_jFVvyV_Ru9CQ3EcLWNoC8LsXS-nTPbeXA.jpg?quality=96&as=32x18,48x27,72x40,108x61,160x90,240x135,360x202,480x270,540x304,640x360,720x405,1080x607,1280x720&from=bu&cs=360x0'}, {'height': 304, 'type': 'r', 'width': 540, 'url': 'https://sun9-86.userapi.com/s/v1/if2/0ICg9pJF_dSdoDf72rLFb-kYRAJ-q_pSEJzIim1UUW6uqXFwn1k7KC_jFVvyV_Ru9CQ3EcLWNoC8LsXS-nTPbeXA.jpg?quality=96&as=32x18,48x27,72x40,108x61,160x90,240x135,360x202,480x270,540x304,640x360,720x405,1080x607,1280x720&from=bu&cs=540x0'}, {'height': 720, 'type': 'base', 'width': 1280, 'url': 'https://sun9-86.userapi.com/s/v1/if2/0ICg9pJF_dSdoDf72rLFb-kYRAJ-q_pSEJzIim1UUW6uqXFwn1k7KC_jFVvyV_Ru9CQ3EcLWNoC8LsXS-nTPbeXA.jpg?quality=96&as=32x18,48x27,72x40,108x61,160x90,240x135,360x202,480x270,540x304,640x360,720x405,1080x607,1280x720&from=bu'}], 'text': '', 'web_view_token': 'b130b6e7054ec5f261', 'has_tags': False, 'orig_photo': {'height': 720, 'type': 'base', 'url': 'https://sun9-86.userapi.com/s/v1/if2/0ICg9pJF_dSdoDf72rLFb-kYRAJ-q_pSEJzIim1UUW6uqXFwn1k7KC_jFVvyV_Ru9CQ3EcLWNoC8LsXS-nTPbeXA.jpg?quality=96&as=32x18,48x27,72x40,108x61,160x90,240x135,360x202,480x270,540x304,640x360,720x405,1080x607,1280x720&from=bu', 'width': 1280}}}, {'type': 'audio', 'audio': {'artist': 'Шуфутинский Михаил', 'id': 456243229, 'owner_id': 2000008069, 'title': '3-е сентября', 'duration': 353, 'is_explicit': False, 'is_focus_track': False, 'track_code': 'aee78377RVaPH1sOhHff4_GDMtCh5IyyrFKV1_QO2ztYapM6Y6hOXe5rL2_nFvX69Io4ucO02wR-sB7lUchC0WBqKg', 'url': 'https://cs1-42v4.vkuseraudio.net/s/v1/acmp/9Y5G71Mghgf8wFXqT_FnvrM1CDfdJPAu6qyDwi3fMhESdTnf9XJ6s1tw1LhxGHANW1A_SgtGc_Im9nZ_T9AqO7XTLfljDBuWpU4s_ZcLX78rEdgJbtWAYBidDt7n46qPTleGgfDBzwgCQZiSQUUmTsBGEDgES3fpUOEdYRu99ebXZTT_sTAh.mp3?siren=1', 'stream_duration': 30, 'date': 1599113506, 'album_id': 2, 'main_artists': [{'name': 'Шуфутинский Михаил', 'domain': '7291433126244946895', 'id': '7291433126244946895'}], 'short_videos_allowed': True, 'stories_allowed': True, 'stories_cover_allowed': False, 'release_audio_id': '-2001440351_33440351'}}], 'date': 1599113506, 'from_id': 8541962, 'id': 39, 'likes': {'can_like': 1, 'count': 3, 'user_likes': 0, 'can_publish': 0, 'repost_disabled': False}, 'reaction_set_id': 'reactions', 'reactions': {'count': 3, 'items': [{'id': 0, 'count': 3}]}, 'owner_id': 533542586, 'post_source': {'platform': 'iphone', 'type': 'api'}, 'post_type': 'post', 'reposts': {'count': 0, 'user_reposted': 0}, 'text': ''}, {'inner_type': 'wall_wallpost', 'donut': {'is_donut': False}, 'comments': {'can_post': 0, 'can_view': 1, 'count': 3, 'groups_can_post': True}, 'marked_as_ads': 0, 'hash': '-CPJEcvZYMEi53nabw', 'type': 'post', 'attachments': [{'type': 'photo', 'photo': {'album_id': -7, 'date': 1591806438, 'id': 457253822, 'owner_id': 533542586, 'access_key': '8e7e9e3f27e6b89f20', 'post_id': 34, 'sizes': [{'height': 128, 'type': 's', 'width': 72, 'url': 'https://sun9-48.userapi.com/s/v1/ig2/Q60nKZrYmFHxYqxM4PSKO43KxhDyaon_ujhtQeQTBSMyu9iOudCZt1B7yINs1D0LgExncjXooP6kL0tvYOmHJl6y.jpg?quality=96&as=32x57,48x85,72x128,108x192,160x284,240x426,360x639,480x852,540x958,640x1136,720x1278,1080x1916,1082x1920&from=bu&cs=72x0'}, {'height': 284, 'type': 'm', 'width': 160, 'url': 'https://sun9-48.userapi.com/s/v1/ig2/Q60nKZrYmFHxYqxM4PSKO43KxhDyaon_ujhtQeQTBSMyu9iOudCZt1B7yINs1D0LgExncjXooP6kL0tvYOmHJl6y.jpg?quality=96&as=32x57,48x85,72x128,108x192,160x284,240x426,360x639,480x852,540x958,640x1136,720x1278,1080x1916,1082x1920&from=bu&cs=160x0'}, {'height': 1136, 'type': 'x', 'width': 640, 'url': 'https://sun9-48.userapi.com/s/v1/ig2/Q60nKZrYmFHxYqxM4PSKO43KxhDyaon_ujhtQeQTBSMyu9iOudCZt1B7yINs1D0LgExncjXooP6kL0tvYOmHJl6y.jpg?quality=96&as=32x57,48x85,72x128,108x192,160x284,240x426,360x639,480x852,540x958,640x1136,720x1278,1080x1916,1082x1920&from=bu&cs=640x0'}, {'height': 1916, 'type': 'y', 'width': 1080, 'url': 'https://sun9-48.userapi.com/s/v1/ig2/Q60nKZrYmFHxYqxM4PSKO43KxhDyaon_ujhtQeQTBSMyu9iOudCZt1B7yINs1D0LgExncjXooP6kL0tvYOmHJl6y.jpg?quality=96&as=32x57,48x85,72x128,108x192,160x284,240x426,360x639,480x852,540x958,640x1136,720x1278,1080x1916,1082x1920&from=bu&cs=1080x0'}, {'height': 1920, 'type': 'z', 'width': 1082, 'url': 'https://sun9-48.userapi.com/s/v1/ig2/Q60nKZrYmFHxYqxM4PSKO43KxhDyaon_ujhtQeQTBSMyu9iOudCZt1B7yINs1D0LgExncjXooP6kL0tvYOmHJl6y.jpg?quality=96&as=32x57,48x85,72x128,108x192,160x284,240x426,360x639,480x852,540x958,640x1136,720x1278,1080x1916,1082x1920&from=bu&cs=1082x0'}, {'height': 192, 'type': 'o', 'width': 108, 'url': 'https://sun9-48.userapi.com/s/v1/ig2/Q60nKZrYmFHxYqxM4PSKO43KxhDyaon_ujhtQeQTBSMyu9iOudCZt1B7yINs1D0LgExncjXooP6kL0tvYOmHJl6y.jpg?quality=96&as=32x57,48x85,72x128,108x192,160x284,240x426,360x639,480x852,540x958,640x1136,720x1278,1080x1916,1082x1920&from=bu&cs=108x0'}, {'height': 426, 'type': 'p', 'width': 240, 'url': 'https://sun9-48.userapi.com/s/v1/ig2/Q60nKZrYmFHxYqxM4PSKO43KxhDyaon_ujhtQeQTBSMyu9iOudCZt1B7yINs1D0LgExncjXooP6kL0tvYOmHJl6y.jpg?quality=96&as=32x57,48x85,72x128,108x192,160x284,240x426,360x639,480x852,540x958,640x1136,720x1278,1080x1916,1082x1920&from=bu&cs=240x0'}, {'height': 639, 'type': 'q', 'width': 360, 'url': 'https://sun9-48.userapi.com/s/v1/ig2/Q60nKZrYmFHxYqxM4PSKO43KxhDyaon_ujhtQeQTBSMyu9iOudCZt1B7yINs1D0LgExncjXooP6kL0tvYOmHJl6y.jpg?quality=96&as=32x57,48x85,72x128,108x192,160x284,240x426,360x639,480x852,540x958,640x1136,720x1278,1080x1916,1082x1920&from=bu&cs=360x0'}, {'height': 958, 'type': 'r', 'width': 540, 'url': 'https://sun9-48.userapi.com/s/v1/ig2/Q60nKZrYmFHxYqxM4PSKO43KxhDyaon_ujhtQeQTBSMyu9iOudCZt1B7yINs1D0LgExncjXooP6kL0tvYOmHJl6y.jpg?quality=96&as=32x57,48x85,72x128,108x192,160x284,240x426,360x639,480x852,540x958,640x1136,720x1278,1080x1916,1082x1920&from=bu&cs=540x0'}, {'height': 1920, 'type': 'base', 'width': 1082, 'url': 'https://sun9-48.userapi.com/s/v1/ig2/Q60nKZrYmFHxYqxM4PSKO43KxhDyaon_ujhtQeQTBSMyu9iOudCZt1B7yINs1D0LgExncjXooP6kL0tvYOmHJl6y.jpg?quality=96&as=32x57,48x85,72x128,108x192,160x284,240x426,360x639,480x852,540x958,640x1136,720x1278,1080x1916,1082x1920&from=bu'}], 'text': '', 'web_view_token': '490d6f7a5184ce5504', 'has_tags': False, 'orig_photo': {'height': 1920, 'type': 'base', 'url': 'https://sun9-48.userapi.com/s/v1/ig2/Q60nKZrYmFHxYqxM4PSKO43KxhDyaon_ujhtQeQTBSMyu9iOudCZt1B7yINs1D0LgExncjXooP6kL0tvYOmHJl6y.jpg?quality=96&as=32x57,48x85,72x128,108x192,160x284,240x426,360x639,480x852,540x958,640x1136,720x1278,1080x1916,1082x1920&from=bu', 'width': 1082}}}], 'date': 1591806588, 'from_id': 533542586, 'id': 34, 'likes': {'can_like': 1, 'count': 43, 'user_likes': 0, 'can_publish': 1, 'repost_disabled': False}, 'reaction_set_id': 'reactions', 'reactions': {'count': 43, 'items': [{'id': 0, 'count': 43}]}, 'owner_id': 533542586, 'post_source': {'platform': 'iphone', 'type': 'api'}, 'post_type': 'post', 'reposts': {'count': 0, 'user_reposted': 0}, 'text': '', 'views': {'count': 1024}}, {'inner_type': 'wall_wallpost', 'donut': {'is_donut': False}, 'comments': {'can_post': 0, 'can_view': 0, 'count': 0, 'groups_can_post': True}, 'marked_as_ads': 0, 'hash': 'M9ZuVHke08hHNtmPsA', 'type': 'post', 'carousel_offset': 0, 'attachments': [{'type': 'photo', 'photo': {'album_id': -7, 'date': 1577730607, 'id': 457239665, 'owner_id': 533542586, 'access_key': '7f5dc2c65cf4fcd5a8', 'sizes': [{'height': 54, 'type': 's', 'width': 72, 'url': 'https://sun9-32.userapi.com/s/v1/if1/pZTii9B-6_Zmtendu18-bTcMCJQIHcwdwHQX4mRvb8nd_x55psqfq43CvPAYWCEuUw_8IFoj.jpg?quality=96&as=32x24,48x36,72x54,108x81,160x120,240x180,360x270,480x360,540x405,640x480,720x540,1024x768&from=bu&cs=72x0'}, {'height': 120, 'type': 'm', 'width': 160, 'url': 'https://sun9-32.userapi.com/s/v1/if1/pZTii9B-6_Zmtendu18-bTcMCJQIHcwdwHQX4mRvb8nd_x55psqfq43CvPAYWCEuUw_8IFoj.jpg?quality=96&as=32x24,48x36,72x54,108x81,160x120,240x180,360x270,480x360,540x405,640x480,720x540,1024x768&from=bu&cs=160x0'}, {'height': 480, 'type': 'x', 'width': 640, 'url': 'https://sun9-32.userapi.com/s/v1/if1/pZTii9B-6_Zmtendu18-bTcMCJQIHcwdwHQX4mRvb8nd_x55psqfq43CvPAYWCEuUw_8IFoj.jpg?quality=96&as=32x24,48x36,72x54,108x81,160x120,240x180,360x270,480x360,540x405,640x480,720x540,1024x768&from=bu&cs=640x0'}, {'height': 768, 'type': 'y', 'width': 1024, 'url': 'https://sun9-32.userapi.com/s/v1/if1/pZTii9B-6_Zmtendu18-bTcMCJQIHcwdwHQX4mRvb8nd_x55psqfq43CvPAYWCEuUw_8IFoj.jpg?quality=96&as=32x24,48x36,72x54,108x81,160x120,240x180,360x270,480x360,540x405,640x480,720x540,1024x768&from=bu&cs=1024x0'}, {'height': 81, 'type': 'o', 'width': 108, 'url': 'https://sun9-32.userapi.com/s/v1/if1/pZTii9B-6_Zmtendu18-bTcMCJQIHcwdwHQX4mRvb8nd_x55psqfq43CvPAYWCEuUw_8IFoj.jpg?quality=96&as=32x24,48x36,72x54,108x81,160x120,240x180,360x270,480x360,540x405,640x480,720x540,1024x768&from=bu&cs=108x0'}, {'height': 180, 'type': 'p', 'width': 240, 'url': 'https://sun9-32.userapi.com/s/v1/if1/pZTii9B-6_Zmtendu18-bTcMCJQIHcwdwHQX4mRvb8nd_x55psqfq43CvPAYWCEuUw_8IFoj.jpg?quality=96&as=32x24,48x36,72x54,108x81,160x120,240x180,360x270,480x360,540x405,640x480,720x540,1024x768&from=bu&cs=240x0'}, {'height': 270, 'type': 'q', 'width': 360, 'url': 'https://sun9-32.userapi.com/s/v1/if1/pZTii9B-6_Zmtendu18-bTcMCJQIHcwdwHQX4mRvb8nd_x55psqfq43CvPAYWCEuUw_8IFoj.jpg?quality=96&as=32x24,48x36,72x54,108x81,160x120,240x180,360x270,480x360,540x405,640x480,720x540,1024x768&from=bu&cs=360x0'}, {'height': 405, 'type': 'r', 'width': 540, 'url': 'https://sun9-32.userapi.com/s/v1/if1/pZTii9B-6_Zmtendu18-bTcMCJQIHcwdwHQX4mRvb8nd_x55psqfq43CvPAYWCEuUw_8IFoj.jpg?quality=96&as=32x24,48x36,72x54,108x81,160x120,240x180,360x270,480x360,540x405,640x480,720x540,1024x768&from=bu&cs=540x0'}, {'height': 768, 'type': 'base', 'width': 1024, 'url': 'https://sun9-32.userapi.com/s/v1/if1/pZTii9B-6_Zmtendu18-bTcMCJQIHcwdwHQX4mRvb8nd_x55psqfq43CvPAYWCEuUw_8IFoj.jpg?quality=96&as=32x24,48x36,72x54,108x81,160x120,240x180,360x270,480x360,540x405,640x480,720x540,1024x768&from=bu'}], 'text': '', 'web_view_token': 'a4690fcd008dccf140', 'has_tags': False, 'orig_photo': {'height': 768, 'type': 'base', 'url': 'https://sun9-32.userapi.com/s/v1/if1/pZTii9B-6_Zmtendu18-bTcMCJQIHcwdwHQX4mRvb8nd_x55psqfq43CvPAYWCEuUw_8IFoj.jpg?quality=96&as=32x24,48x36,72x54,108x81,160x120,240x180,360x270,480x360,540x405,640x480,720x540,1024x768&from=bu', 'width': 1024}}}, {'type': 'photo', 'photo': {'album_id': -7, 'date': 1577730607, 'id': 457239666, 'owner_id': 533542586, 'access_key': '169f2cb614b3a3e9d9', 'sizes': [{'height': 96, 'type': 's', 'width': 72, 'url': 'https://sun9-25.userapi.com/s/v1/ig2/gexfL0qG4_-Z2xcMjk0qveh_VUBQgirYeXaXnfkS5krtTA0Un-rQzp2oF9Bx71rYyvWYGZskM27qCPl_Xhhbho_d.jpg?quality=96&as=32x43,48x64,72x96,108x144,160x213,240x320,360x480,480x640,540x720,640x853,720x960,768x1024&from=bu&cs=72x0'}, {'height': 213, 'type': 'm', 'width': 160, 'url': 'https://sun9-25.userapi.com/s/v1/ig2/gexfL0qG4_-Z2xcMjk0qveh_VUBQgirYeXaXnfkS5krtTA0Un-rQzp2oF9Bx71rYyvWYGZskM27qCPl_Xhhbho_d.jpg?quality=96&as=32x43,48x64,72x96,108x144,160x213,240x320,360x480,480x640,540x720,640x853,720x960,768x1024&from=bu&cs=160x0'}, {'height': 853, 'type': 'x', 'width': 640, 'url': 'https://sun9-25.userapi.com/s/v1/ig2/gexfL0qG4_-Z2xcMjk0qveh_VUBQgirYeXaXnfkS5krtTA0Un-rQzp2oF9Bx71rYyvWYGZskM27qCPl_Xhhbho_d.jpg?quality=96&as=32x43,48x64,72x96,108x144,160x213,240x320,360x480,480x640,540x720,640x853,720x960,768x1024&from=bu&cs=640x0'}, {'height': 1024, 'type': 'y', 'width': 768, 'url': 'https://sun9-25.userapi.com/s/v1/ig2/gexfL0qG4_-Z2xcMjk0qveh_VUBQgirYeXaXnfkS5krtTA0Un-rQzp2oF9Bx71rYyvWYGZskM27qCPl_Xhhbho_d.jpg?quality=96&as=32x43,48x64,72x96,108x144,160x213,240x320,360x480,480x640,540x720,640x853,720x960,768x1024&from=bu&cs=768x0'}, {'height': 144, 'type': 'o', 'width': 108, 'url': 'https://sun9-25.userapi.com/s/v1/ig2/gexfL0qG4_-Z2xcMjk0qveh_VUBQgirYeXaXnfkS5krtTA0Un-rQzp2oF9Bx71rYyvWYGZskM27qCPl_Xhhbho_d.jpg?quality=96&as=32x43,48x64,72x96,108x144,160x213,240x320,360x480,480x640,540x720,640x853,720x960,768x1024&from=bu&cs=108x0'}, {'height': 320, 'type': 'p', 'width': 240, 'url': 'https://sun9-25.userapi.com/s/v1/ig2/gexfL0qG4_-Z2xcMjk0qveh_VUBQgirYeXaXnfkS5krtTA0Un-rQzp2oF9Bx71rYyvWYGZskM27qCPl_Xhhbho_d.jpg?quality=96&as=32x43,48x64,72x96,108x144,160x213,240x320,360x480,480x640,540x720,640x853,720x960,768x1024&from=bu&cs=240x0'}, {'height': 480, 'type': 'q', 'width': 360, 'url': 'https://sun9-25.userapi.com/s/v1/ig2/gexfL0qG4_-Z2xcMjk0qveh_VUBQgirYeXaXnfkS5krtTA0Un-rQzp2oF9Bx71rYyvWYGZskM27qCPl_Xhhbho_d.jpg?quality=96&as=32x43,48x64,72x96,108x144,160x213,240x320,360x480,480x640,540x720,640x853,720x960,768x1024&from=bu&cs=360x0'}, {'height': 720, 'type': 'r', 'width': 540, 'url': 'https://sun9-25.userapi.com/s/v1/ig2/gexfL0qG4_-Z2xcMjk0qveh_VUBQgirYeXaXnfkS5krtTA0Un-rQzp2oF9Bx71rYyvWYGZskM27qCPl_Xhhbho_d.jpg?quality=96&as=32x43,48x64,72x96,108x144,160x213,240x320,360x480,480x640,540x720,640x853,720x960,768x1024&from=bu&cs=540x0'}, {'height': 1024, 'type': 'base', 'width': 768, 'url': 'https://sun9-25.userapi.com/s/v1/ig2/gexfL0qG4_-Z2xcMjk0qveh_VUBQgirYeXaXnfkS5krtTA0Un-rQzp2oF9Bx71rYyvWYGZskM27qCPl_Xhhbho_d.jpg?quality=96&as=32x43,48x64,72x96,108x144,160x213,240x320,360x480,480x640,540x720,640x853,720x960,768x1024&from=bu'}], 'text': '', 'web_view_token': '47737879b863290c7c', 'has_tags': False, 'orig_photo': {'height': 1024, 'type': 'base', 'url': 'https://sun9-25.userapi.com/s/v1/ig2/gexfL0qG4_-Z2xcMjk0qveh_VUBQgirYeXaXnfkS5krtTA0Un-rQzp2oF9Bx71rYyvWYGZskM27qCPl_Xhhbho_d.jpg?quality=96&as=32x43,48x64,72x96,108x144,160x213,240x320,360x480,480x640,540x720,640x853,720x960,768x1024&from=bu', 'width': 768}}}], 'date': 1577730629, 'from_id': 533542586, 'id': 29, 'likes': {'can_like': 1, 'count': 18, 'user_likes': 0, 'can_publish': 1, 'repost_disabled': False}, 'reaction_set_id': 'reactions', 'reactions': {'count': 18, 'items': [{'id': 0, 'count': 18}]}, 'owner_id': 533542586, 'post_source': {'platform': 'iphone', 'type': 'api'}, 'post_type': 'post', 'reposts': {'count': 0, 'user_reposted': 0}, 'text': 'Καλά Χριστούγεννα \\nΚαλή Χρονιά\\n🍾🌲', 'views': {'count': 747}}, {'inner_type': 'wall_wallpost', 'donut': {'is_donut': False}, 'comments': {'can_post': 0, 'can_view': 0, 'count': 0, 'groups_can_post': True}, 'marked_as_ads': 0, 'hash': '7p8-AM19b4bNAWGB6w', 'type': 'post', 'attachments': [{'type': 'audio', 'audio': {'artist': 'Колян', 'id': 456242404, 'owner_id': 2000454645, 'title': 'Колян танцует лучше всех', 'duration': 221, 'is_explicit': False, 'is_focus_track': False, 'track_code': '0f7e36433HmjjSXjDFywsbwHqYxQr6ApFAOfBkPmuTaYGqa75mfXcsL5UYJvPZqouQ6j5TL_9--mxRQ0nzkg3akaHw', 'url': 'https://cs1-50v4.vkuseraudio.net/s/v1/acmp/IQWIiV-1ICVyUy4CJXQeLU9DbNocUsWPpVsODpsWeZD1lANe4_cs3X0-wF90MY3wCO5q_PEOXJu9TAj8YlPKSxqsGlreArNOaBqwx2BZ-SlKi0Kkv5juH8ENr3hQ2kMVIMLy41S5AYT21KbllIXUG7XHkii7DYxvuVt3d_yMv4n_kWMnde90.mp3?siren=1', 'stream_duration': 30, 'date': 1560586721, 'album_id': 2, 'genre_id': 1001, 'short_videos_allowed': True, 'stories_allowed': True, 'stories_cover_allowed': False, 'release_audio_id': '-2001641367_118641367'}}], 'date': 1560586721, 'from_id': 8541962, 'id': 20, 'likes': {'can_like': 1, 'count': 2, 'user_likes': 0, 'can_publish': 0, 'repost_disabled': False}, 'reaction_set_id': 'reactions', 'reactions': {'count': 2, 'items': [{'id': 0, 'count': 2}]}, 'owner_id': 533542586, 'post_source': {'platform': 'iphone', 'type': 'api'}, 'post_type': 'post', 'reposts': {'count': 0, 'user_reposted': 0}, 'text': '❤️❤️❤️Король колбасных 📀 дискотек❤️❤️❤️'}, {'inner_type': 'wall_wallpost', 'donut': {'is_donut': False}, 'comments': {'can_post': 0, 'can_view': 0, 'count': 0, 'groups_can_post': True}, 'marked_as_ads': 0, 'zoom_text': True, 'hash': 'dweYXKQoVErIZD7dyQ', 'type': 'post', 'attachments': [], 'date': 1558899746, 'from_id': 377489796, 'id': 14, 'likes': {'can_like': 1, 'count': 2, 'user_likes': 0, 'can_publish': 0, 'repost_disabled': False}, 'reaction_set_id': 'reactions', 'reactions': {'count': 2, 'items': [{'id': 0, 'count': 2}]}, 'owner_id': 533542586, 'post_source': {'type': 'mvk'}, 'post_type': 'post', 'reposts': {'count': 1, 'user_reposted': 0}, 'text': 'Никос, ты плохой('}, {'inner_type': 'wall_wallpost', 'donut': {'is_donut': False}, 'comments': {'can_post': 0, 'can_view': 1, 'count': 1, 'groups_can_post': True}, 'marked_as_ads': 0, 'hash': 'bQ-Mfz2EDMA9AX0mjg', 'type': 'post', 'attachments': [{'type': 'photo', 'photo': {'album_id': -6, 'date': 1557295146, 'id': 456239215, 'owner_id': 533542586, 'post_id': 6, 'sizes': [{'height': 108, 'type': 's', 'width': 72, 'url': 'https://sun9-78.userapi.com/s/v1/ig1/ZBvnITTHZuEVDylvKH37QkwmnEr0cfiZ2ljMBuE3iYAlQZPPPfOGAFseY-kGqLBc96nEi2NY.jpg?quality=96&as=32x48,48x72,72x108,108x162,160x241,240x361,360x541,480x722,540x812,640x963,720x1083,851x1280&from=bu&cs=72x0'}, {'height': 241, 'type': 'm', 'width': 160, 'url': 'https://sun9-78.userapi.com/s/v1/ig1/ZBvnITTHZuEVDylvKH37QkwmnEr0cfiZ2ljMBuE3iYAlQZPPPfOGAFseY-kGqLBc96nEi2NY.jpg?quality=96&as=32x48,48x72,72x108,108x162,160x241,240x361,360x541,480x722,540x812,640x963,720x1083,851x1280&from=bu&cs=160x0'}, {'height': 963, 'type': 'x', 'width': 640, 'url': 'https://sun9-78.userapi.com/s/v1/ig1/ZBvnITTHZuEVDylvKH37QkwmnEr0cfiZ2ljMBuE3iYAlQZPPPfOGAFseY-kGqLBc96nEi2NY.jpg?quality=96&as=32x48,48x72,72x108,108x162,160x241,240x361,360x541,480x722,540x812,640x963,720x1083,851x1280&from=bu&cs=640x0'}, {'height': 1280, 'type': 'y', 'width': 851, 'url': 'https://sun9-78.userapi.com/s/v1/ig1/ZBvnITTHZuEVDylvKH37QkwmnEr0cfiZ2ljMBuE3iYAlQZPPPfOGAFseY-kGqLBc96nEi2NY.jpg?quality=96&as=32x48,48x72,72x108,108x162,160x241,240x361,360x541,480x722,540x812,640x963,720x1083,851x1280&from=bu&cs=851x0'}, {'height': 162, 'type': 'o', 'width': 108, 'url': 'https://sun9-78.userapi.com/s/v1/ig1/ZBvnITTHZuEVDylvKH37QkwmnEr0cfiZ2ljMBuE3iYAlQZPPPfOGAFseY-kGqLBc96nEi2NY.jpg?quality=96&as=32x48,48x72,72x108,108x162,160x241,240x361,360x541,480x722,540x812,640x963,720x1083,851x1280&from=bu&cs=108x0'}, {'height': 361, 'type': 'p', 'width': 240, 'url': 'https://sun9-78.userapi.com/s/v1/ig1/ZBvnITTHZuEVDylvKH37QkwmnEr0cfiZ2ljMBuE3iYAlQZPPPfOGAFseY-kGqLBc96nEi2NY.jpg?quality=96&as=32x48,48x72,72x108,108x162,160x241,240x361,360x541,480x722,540x812,640x963,720x1083,851x1280&from=bu&cs=240x0'}, {'height': 541, 'type': 'q', 'width': 360, 'url': 'https://sun9-78.userapi.com/s/v1/ig1/ZBvnITTHZuEVDylvKH37QkwmnEr0cfiZ2ljMBuE3iYAlQZPPPfOGAFseY-kGqLBc96nEi2NY.jpg?quality=96&as=32x48,48x72,72x108,108x162,160x241,240x361,360x541,480x722,540x812,640x963,720x1083,851x1280&from=bu&cs=360x0'}, {'height': 812, 'type': 'r', 'width': 540, 'url': 'https://sun9-78.userapi.com/s/v1/ig1/ZBvnITTHZuEVDylvKH37QkwmnEr0cfiZ2ljMBuE3iYAlQZPPPfOGAFseY-kGqLBc96nEi2NY.jpg?quality=96&as=32x48,48x72,72x108,108x162,160x241,240x361,360x541,480x722,540x812,640x963,720x1083,851x1280&from=bu&cs=540x0'}, {'height': 1280, 'type': 'base', 'width': 851, 'url': 'https://sun9-78.userapi.com/s/v1/ig1/ZBvnITTHZuEVDylvKH37QkwmnEr0cfiZ2ljMBuE3iYAlQZPPPfOGAFseY-kGqLBc96nEi2NY.jpg?quality=96&as=32x48,48x72,72x108,108x162,160x241,240x361,360x541,480x722,540x812,640x963,720x1083,851x1280&from=bu'}], 'square_crop': '314,104,346', 'text': '', 'web_view_token': '635949022c79d6fde5', 'has_tags': False, 'orig_photo': {'height': 1280, 'type': 'base', 'url': 'https://sun9-78.userapi.com/s/v1/ig1/ZBvnITTHZuEVDylvKH37QkwmnEr0cfiZ2ljMBuE3iYAlQZPPPfOGAFseY-kGqLBc96nEi2NY.jpg?quality=96&as=32x48,48x72,72x108,108x162,160x241,240x361,360x541,480x722,540x812,640x963,720x1083,851x1280&from=bu', 'width': 851}}}], 'date': 1557295146, 'from_id': 533542586, 'id': 6, 'likes': {'can_like': 1, 'count': 38, 'user_likes': 0, 'can_publish': 1, 'repost_disabled': False}, 'reaction_set_id': 'reactions', 'reactions': {'count': 38, 'items': [{'id': 0, 'count': 38}]}, 'owner_id': 533542586, 'post_source': {'data': 'profile_photo', 'platform': 'iphone', 'type': 'api'}, 'post_type': 'post', 'reposts': {'count': 1, 'user_reposted': 0}, 'text': '', 'views': {'count': 473}}, {'inner_type': 'wall_wallpost', 'donut': {'is_donut': False}, 'comments': {'can_post': 0, 'can_view': 1, 'count': 3, 'groups_can_post': True}, 'marked_as_ads': 0, 'hash': 'oRqQz-CxdF1ZbNT2Nw', 'type': 'post', 'attachments': [{'type': 'photo', 'photo': {'album_id': -6, 'date': 1551248962, 'id': 456239028, 'owner_id': 533542586, 'post_id': 3, 'sizes': [{'height': 96, 'type': 's', 'width': 72, 'url': 'https://sun9-23.userapi.com/s/v1/ig1/XyuwevBMPq9ZEK9kioEvrPq8QBo3cz2xm_IgNJtkxmWVRiBljshhtQ4rs5jzkdUdawsrs8ZL.jpg?quality=96&as=32x43,48x64,72x96,108x144,160x213,240x320,360x480,480x640,540x720,640x853,720x960&from=bu&cs=72x0'}, {'height': 213, 'type': 'm', 'width': 160, 'url': 'https://sun9-23.userapi.com/s/v1/ig1/XyuwevBMPq9ZEK9kioEvrPq8QBo3cz2xm_IgNJtkxmWVRiBljshhtQ4rs5jzkdUdawsrs8ZL.jpg?quality=96&as=32x43,48x64,72x96,108x144,160x213,240x320,360x480,480x640,540x720,640x853,720x960&from=bu&cs=160x0'}, {'height': 853, 'type': 'x', 'width': 640, 'url': 'https://sun9-23.userapi.com/s/v1/ig1/XyuwevBMPq9ZEK9kioEvrPq8QBo3cz2xm_IgNJtkxmWVRiBljshhtQ4rs5jzkdUdawsrs8ZL.jpg?quality=96&as=32x43,48x64,72x96,108x144,160x213,240x320,360x480,480x640,540x720,640x853,720x960&from=bu&cs=640x0'}, {'height': 960, 'type': 'y', 'width': 720, 'url': 'https://sun9-23.userapi.com/s/v1/ig1/XyuwevBMPq9ZEK9kioEvrPq8QBo3cz2xm_IgNJtkxmWVRiBljshhtQ4rs5jzkdUdawsrs8ZL.jpg?quality=96&as=32x43,48x64,72x96,108x144,160x213,240x320,360x480,480x640,540x720,640x853,720x960&from=bu&cs=720x0'}, {'height': 144, 'type': 'o', 'width': 108, 'url': 'https://sun9-23.userapi.com/s/v1/ig1/XyuwevBMPq9ZEK9kioEvrPq8QBo3cz2xm_IgNJtkxmWVRiBljshhtQ4rs5jzkdUdawsrs8ZL.jpg?quality=96&as=32x43,48x64,72x96,108x144,160x213,240x320,360x480,480x640,540x720,640x853,720x960&from=bu&cs=108x0'}, {'height': 320, 'type': 'p', 'width': 240, 'url': 'https://sun9-23.userapi.com/s/v1/ig1/XyuwevBMPq9ZEK9kioEvrPq8QBo3cz2xm_IgNJtkxmWVRiBljshhtQ4rs5jzkdUdawsrs8ZL.jpg?quality=96&as=32x43,48x64,72x96,108x144,160x213,240x320,360x480,480x640,540x720,640x853,720x960&from=bu&cs=240x0'}, {'height': 480, 'type': 'q', 'width': 360, 'url': 'https://sun9-23.userapi.com/s/v1/ig1/XyuwevBMPq9ZEK9kioEvrPq8QBo3cz2xm_IgNJtkxmWVRiBljshhtQ4rs5jzkdUdawsrs8ZL.jpg?quality=96&as=32x43,48x64,72x96,108x144,160x213,240x320,360x480,480x640,540x720,640x853,720x960&from=bu&cs=360x0'}, {'height': 720, 'type': 'r', 'width': 540, 'url': 'https://sun9-23.userapi.com/s/v1/ig1/XyuwevBMPq9ZEK9kioEvrPq8QBo3cz2xm_IgNJtkxmWVRiBljshhtQ4rs5jzkdUdawsrs8ZL.jpg?quality=96&as=32x43,48x64,72x96,108x144,160x213,240x320,360x480,480x640,540x720,640x853,720x960&from=bu&cs=540x0'}, {'height': 960, 'type': 'base', 'width': 720, 'url': 'https://sun9-23.userapi.com/s/v1/ig1/XyuwevBMPq9ZEK9kioEvrPq8QBo3cz2xm_IgNJtkxmWVRiBljshhtQ4rs5jzkdUdawsrs8ZL.jpg?quality=96&as=32x43,48x64,72x96,108x144,160x213,240x320,360x480,480x640,540x720,640x853,720x960&from=bu'}], 'square_crop': '0,0,720', 'text': '', 'web_view_token': '017646e8bef32d0ea2', 'has_tags': False, 'orig_photo': {'height': 960, 'type': 'base', 'url': 'https://sun9-23.userapi.com/s/v1/ig1/XyuwevBMPq9ZEK9kioEvrPq8QBo3cz2xm_IgNJtkxmWVRiBljshhtQ4rs5jzkdUdawsrs8ZL.jpg?quality=96&as=32x43,48x64,72x96,108x144,160x213,240x320,360x480,480x640,540x720,640x853,720x960&from=bu', 'width': 720}}}], 'date': 1551248962, 'from_id': 533542586, 'id': 3, 'likes': {'can_like': 1, 'count': 16, 'user_likes': 0, 'can_publish': 1, 'repost_disabled': False}, 'reaction_set_id': 'reactions', 'reactions': {'count': 16, 'items': [{'id': 0, 'count': 16}]}, 'owner_id': 533542586, 'post_source': {'data': 'profile_photo', 'platform': 'iphone', 'type': 'api'}, 'post_type': 'post', 'reposts': {'count': 0, 'user_reposted': 0}, 'text': '', 'views': {'count': 372}}], 'reaction_sets': [{'id': 'reactions', 'items': [{'id': 0, 'title': 'Like', 'asset': {'animation_url': 'https://vk.com/reaction/3-reactions-0?c_uniq_tag=83b2081a8e4adfc36ee536f5f1b4ad470174c89678369a4b9dc5547614a3955e', 'images': [{'url': 'https://vk.com/reaction/1-reactions-0-32?c_uniq_tag=464ba6bdc06e9f204a9b2c865a046355d835f601d8d82be4dc77e43a028741ff', 'width': 32, 'height': 32}, {'url': 'https://vk.com/reaction/1-reactions-0-48?c_uniq_tag=e6bee176471af6e4f7ca0f57ac099847d57b8101bf07944e47b42b097a6d8455', 'width': 48, 'height': 48}, {'url': 'https://vk.com/reaction/1-reactions-0-72?c_uniq_tag=d6f55fe94c0add8f817b447cbd804768752eb996c06ef222b39eb3fd35834780', 'width': 72, 'height': 72}, {'url': 'https://vk.com/reaction/1-reactions-0-96?c_uniq_tag=0a64c3d34d3a1368b05716ff24f94ff51b2257a2287957423ced36a00b020cb6', 'width': 96, 'height': 96}, {'url': 'https://vk.com/reaction/1-reactions-0-144?c_uniq_tag=47a911186fd9ce6d9aba1f9273e49ef70d1e0149e7470d1dae40941d81a1ece4', 'width': 144, 'height': 144}], 'title': {'color': {'foreground': {'light': 'FF3347', 'dark': 'FF5C5C'}, 'background': {'light': 'FFEDED', 'dark': '3E2526'}}}, 'title_color': {'light': 'FF3347', 'dark': 'FF5C5C'}}}, {'id': 1, 'title': 'Haha', 'asset': {'animation_url': 'https://vk.com/reaction/3-reactions-1?c_uniq_tag=a47193579880c0f53dd597a15d3bd57d4827820687c73d6128df2720647b42b9', 'images': [{'url': 'https://vk.com/reaction/1-reactions-1-32?c_uniq_tag=2119d7ea78675f5702dcf43035f5f7fe13d6dd0f444b3a7d1735699d659b49b7', 'width': 32, 'height': 32}, {'url': 'https://vk.com/reaction/1-reactions-1-48?c_uniq_tag=8f5eb3a1d6a6ec81aceff211782af3c9e9a5d1c837f0bfade6965a6844786f8b', 'width': 48, 'height': 48}, {'url': 'https://vk.com/reaction/1-reactions-1-72?c_uniq_tag=c852fcad6e67059878dcf1905e3e416fd89fbc61222ead100935a6fcc1dab4c9', 'width': 72, 'height': 72}, {'url': 'https://vk.com/reaction/1-reactions-1-96?c_uniq_tag=647ccf722698732a8b13033eadd1f02c5c917b0bdc3f9fb16d6cd0ade8706c99', 'width': 96, 'height': 96}, {'url': 'https://vk.com/reaction/1-reactions-1-144?c_uniq_tag=68c571ccb2f08b9e0404e5307b41a48a057454b44375480a7a89f1dc8fb8b521', 'width': 144, 'height': 144}], 'title': {'color': {'foreground': {'light': 'FF8000', 'dark': 'FFC233'}, 'background': {'light': 'FFF2D6', 'dark': '352E23'}}}, 'title_color': {'light': 'FF8000', 'dark': 'FFC233'}}}, {'id': 2, 'title': 'Wow!', 'asset': {'animation_url': 'https://vk.com/reaction/3-reactions-2?c_uniq_tag=b946fcbe262642bc920331746b6eccd9f175bb17d8ef37e54d232fa35ca2c750', 'images': [{'url': 'https://vk.com/reaction/1-reactions-2-32?c_uniq_tag=e919477a3e650ebae5d810b30dcc7529a52b072f2470327f95220b778abfb449', 'width': 32, 'height': 32}, {'url': 'https://vk.com/reaction/1-reactions-2-48?c_uniq_tag=2a6544dce8827d216db7ea91eafc726cd3a823f5d465ba00216901a6de2801ad', 'width': 48, 'height': 48}, {'url': 'https://vk.com/reaction/1-reactions-2-72?c_uniq_tag=5a0663f3d38dd6fbcf3e4973610d50641420631c9df30b6cf80eee0dd5c5efee', 'width': 72, 'height': 72}, {'url': 'https://vk.com/reaction/1-reactions-2-96?c_uniq_tag=51275507a335aeafd7c43735d92d11a6b3acf2bb5595273a44a4f844c055b2ce', 'width': 96, 'height': 96}, {'url': 'https://vk.com/reaction/1-reactions-2-144?c_uniq_tag=223a080cabb1e69212b9b1cdb455dcfb8bcbbdc40d93ae339717ecd32ea95f4c', 'width': 144, 'height': 144}], 'title': {'color': {'foreground': {'light': 'FF8000', 'dark': 'FFC233'}, 'background': {'light': 'FFF2D6', 'dark': '352E23'}}}, 'title_color': {'light': 'FF8000', 'dark': 'FFC233'}}}, {'id': 3, 'title': 'Love', 'asset': {'animation_url': 'https://vk.com/reaction/3-reactions-3?c_uniq_tag=c6ed3add99e841dccda5479c8e21779954e61e0fba15f94a2ae16706df492123', 'images': [{'url': 'https://vk.com/reaction/1-reactions-3-32?c_uniq_tag=a95fe4eb836477892e54dcd8f464598e49a611249ec93d5eb7d7a1401cb77cff', 'width': 32, 'height': 32}, {'url': 'https://vk.com/reaction/1-reactions-3-48?c_uniq_tag=eda1a2c18d733b356babdeed5f52cdcc64dd59f1f69776a133fc34a5627eecee', 'width': 48, 'height': 48}, {'url': 'https://vk.com/reaction/1-reactions-3-72?c_uniq_tag=be09c5080773a9ba78984406588c7371e48073e80b842eb7c9a817f7b435379b', 'width': 72, 'height': 72}, {'url': 'https://vk.com/reaction/1-reactions-3-96?c_uniq_tag=b08f5ff31b4bd18e465f14262708e4aac56d34f343b8d355171df7d73bb34497', 'width': 96, 'height': 96}, {'url': 'https://vk.com/reaction/1-reactions-3-144?c_uniq_tag=484984c408a4b1f82d51229ce061ccbc5ad2efffbf2b684636ecfaa60f567f89', 'width': 144, 'height': 144}], 'title': {'color': {'foreground': {'light': 'FF8000', 'dark': 'FFC233'}, 'background': {'light': 'FFF2D6', 'dark': '352E23'}}}, 'title_color': {'light': 'FF8000', 'dark': 'FFC233'}}}, {'id': 5, 'title': 'Sad', 'asset': {'animation_url': 'https://vk.com/reaction/3-reactions-5?c_uniq_tag=c61122c8c334154cb10ccf0e0687057bf1f0f40c2817198b2e1150df534c22c4', 'images': [{'url': 'https://vk.com/reaction/1-reactions-5-32?c_uniq_tag=a07ac888553814f1cbc8c9342b636bf30ca6d80d14e7e38170ea02dad0bfafbf', 'width': 32, 'height': 32}, {'url': 'https://vk.com/reaction/1-reactions-5-48?c_uniq_tag=31bcb230babad96120a62589c52af22811aaba54d4ed73a36cfd499d9d94102f', 'width': 48, 'height': 48}, {'url': 'https://vk.com/reaction/1-reactions-5-72?c_uniq_tag=a840d0eb581c133d97638ff5bf34f4b33f3fb8557b932cfe3516925b88e2f151', 'width': 72, 'height': 72}, {'url': 'https://vk.com/reaction/1-reactions-5-96?c_uniq_tag=8cff3bac94202cbb5bee1d598f113134e0038804a3837be750f28ff27d3ffb05', 'width': 96, 'height': 96}, {'url': 'https://vk.com/reaction/1-reactions-5-144?c_uniq_tag=8bf31a92656dd0c0d3482505bf1b6fb3d2493a3e4c93e0e62723aef81c7da052', 'width': 144, 'height': 144}], 'title': {'color': {'foreground': {'light': '4986CC', 'dark': '71AAEB'}, 'background': {'light': 'EDF3FA', 'dark': '27303C'}}}, 'title_color': {'light': '4986CC', 'dark': '71AAEB'}}}, {'id': 4, 'title': '&$#%!', 'asset': {'animation_url': 'https://vk.com/reaction/3-reactions-4?c_uniq_tag=063e6b2dd888bb5a9716cf6153f03bf9c0c9707713b857eed8fe1e4e09aea2b3', 'images': [{'url': 'https://vk.com/reaction/1-reactions-4-32?c_uniq_tag=ac5ab70367285c3fbbee7ba2adde88cbb65db2d35e05b09b4ae5593ee0bcc535', 'width': 32, 'height': 32}, {'url': 'https://vk.com/reaction/1-reactions-4-48?c_uniq_tag=c80e3224c299a73384c057ff065c9458dcd533d57a1458875eb98883c3a96783', 'width': 48, 'height': 48}, {'url': 'https://vk.com/reaction/1-reactions-4-72?c_uniq_tag=a0eddba1ec31f96adbb9afa2c6c14bec055b95f8d9f113bdf759fb5a9c9054f0', 'width': 72, 'height': 72}, {'url': 'https://vk.com/reaction/1-reactions-4-96?c_uniq_tag=5495709e616048fd43683ac693ebd09f3615c797af2493d0334402befded2885', 'width': 96, 'height': 96}, {'url': 'https://vk.com/reaction/1-reactions-4-144?c_uniq_tag=a79fce98e0d7769284290ab78936b3aa6d15a42caa50e6071bdeb5013d950251', 'width': 144, 'height': 144}], 'title': {'color': {'foreground': {'light': 'EF5203', 'dark': 'FA5300'}, 'background': {'light': 'FDEBE8', 'dark': '3C2421'}}}, 'title_color': {'light': 'EF5203', 'dark': 'FA5300'}}}]}]}}\n"
          ]
        }
      ]
    }
  ]
}